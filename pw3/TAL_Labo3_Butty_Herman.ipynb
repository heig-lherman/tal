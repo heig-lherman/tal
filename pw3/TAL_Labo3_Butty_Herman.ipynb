{
 "cells": [
  {
   "cell_type": "markdown",
   "metadata": {},
   "source": [
    "<img src=\"https://heig-vd.ch/docs/default-source/doc-global-newsletter/2020-slim.svg\" alt=\"HEIG-VD Logo\" width=\"100\" align=\"right\" /> \n",
    "\n",
    "# Cours TAL - Laboratoire 3<br/>*Depedency parser* pour le français dans spaCy\n",
    "\n",
    "**Objectif**\n",
    "\n",
    "Évaluer l'analyseur syntaxique en dépendances fourni par spaCy dans le modèle `fr_core_news_sm`, puis le comparer avec un analyseur entraîné par vous-mêmes.  Les données sont les mêmes qu'au Labo 2 et la démarche du labo est similaire aussi."
   ]
  },
  {
   "cell_type": "markdown",
   "metadata": {},
   "source": [
    "## 1. Prise en main de l'analyseur de spaCy"
   ]
  },
  {
   "cell_type": "code",
   "execution_count": 1,
   "metadata": {
    "ExecuteTime": {
     "end_time": "2025-04-08T15:18:07.946426Z",
     "start_time": "2025-04-08T15:18:07.591646Z"
    }
   },
   "outputs": [],
   "source": [
    "import pandas as pd"
   ]
  },
  {
   "cell_type": "code",
   "execution_count": 2,
   "metadata": {
    "ExecuteTime": {
     "end_time": "2025-04-08T15:18:38.518399Z",
     "start_time": "2025-04-08T15:18:35.807573Z"
    }
   },
   "outputs": [],
   "source": [
    "import spacy\n",
    "nlp = spacy.load(\"fr_core_news_sm\") # charge la pipeline"
   ]
  },
  {
   "cell_type": "markdown",
   "metadata": {},
   "source": [
    "**1a.** Pour la pipeline `fr_core_news_sm`, veuillez afficher les traitements disponibles, puis désactiver tous les traitements sauf `tok2vec`, `morphologizer` et `parser`, puis vérifiez que la désactivation a bien fonctionné."
   ]
  },
  {
   "cell_type": "code",
   "execution_count": 3,
   "metadata": {
    "ExecuteTime": {
     "end_time": "2025-04-08T15:18:39.521406Z",
     "start_time": "2025-04-08T15:18:39.518836Z"
    }
   },
   "outputs": [
    {
     "name": "stdout",
     "output_type": "stream",
     "text": [
      "Liste des traitements disponibles : ['tok2vec', 'morphologizer', 'parser', 'attribute_ruler', 'lemmatizer', 'ner']\n",
      "Liste des traitements actifs : ['tok2vec', 'morphologizer', 'parser']\n"
     ]
    }
   ],
   "source": [
    "print(f\"Liste des traitements disponibles : {nlp.pipe_names}\")\n",
    "\n",
    "for pipe in nlp.pipe_names:\n",
    "    if pipe not in [\"tok2vec\", \"morphologizer\", \"parser\"]:\n",
    "        nlp.disable_pipe(pipe)\n",
    "\n",
    "print(f\"Liste des traitements actifs : {nlp.pipe_names}\")"
   ]
  },
  {
   "cell_type": "code",
   "execution_count": 4,
   "metadata": {
    "ExecuteTime": {
     "end_time": "2025-04-08T15:18:41.255745Z",
     "start_time": "2025-04-08T15:18:41.253269Z"
    }
   },
   "outputs": [],
   "source": [
    "from spacy.lang.fr.examples import sentences\n",
    "s1 = sentences[2] # prenons la 3e phrase comme exemple"
   ]
  },
  {
   "cell_type": "markdown",
   "metadata": {},
   "source": [
    "**1b.** Veuillez analyser `s1` avec la pipeline `nlp` puis afficher chaque token, son POS tag, et son étiquette indiquant la relation de dépendance (entre crochets, après le token).  Quelle information essentielle manque dans cette représentation ?\n",
    "\n",
    "Note : le *morphologizer* fournit aussi les POS tags.  La liste des tags possibles est [fournie par spaCy](https://spacy.io/models/fr#fr_core_news_md-labels).  "
   ]
  },
  {
   "cell_type": "code",
   "execution_count": 5,
   "metadata": {
    "ExecuteTime": {
     "end_time": "2025-04-08T15:18:42.938932Z",
     "start_time": "2025-04-08T15:18:42.928793Z"
    }
   },
   "outputs": [
    {
     "name": "stdout",
     "output_type": "stream",
     "text": [
      "Tokens:\n",
      "San [PRON | nsubj]\n",
      "Francisco [PROPN | flat:name]\n",
      "envisage [VERB | ROOT]\n",
      "d' [ADP | case]\n",
      "interdire [NOUN | obl:arg]\n",
      "les [DET | det]\n",
      "robots [NOUN | obj]\n",
      "coursiers [ADJ | amod]\n",
      "sur [ADP | case]\n",
      "les [DET | det]\n",
      "trottoirs [NOUN | nmod]\n"
     ]
    }
   ],
   "source": [
    "s1_doc = nlp(s1)\n",
    "\n",
    "print(\"Tokens:\")\n",
    "for token in s1_doc:\n",
    "    print(f\"{token.text} [{token.pos_} | {token.dep_}]\")"
   ]
  },
  {
   "cell_type": "markdown",
   "metadata": {},
   "source": [
    "> L'étiquette indiquant la relation de dépendance est affichée, mais rien n'indique de quels mots ils sont dépendants."
   ]
  },
  {
   "cell_type": "markdown",
   "metadata": {},
   "source": [
    "**1c.** Veuillez afficher tous les groupes de mots qui sont soit des `nsubj` soit des `obj` dans la phrase `s1` (c'est à dire les sujets et les objets du verbe).   Indication : le sous-arbre d'un token *t* est accessible comme `t.subtree`. "
   ]
  },
  {
   "cell_type": "code",
   "execution_count": 6,
   "metadata": {
    "ExecuteTime": {
     "end_time": "2025-04-08T15:20:39.521482Z",
     "start_time": "2025-04-08T15:20:39.517914Z"
    }
   },
   "outputs": [
    {
     "name": "stdout",
     "output_type": "stream",
     "text": [
      "Groupes de mots étant soit 'nsubj' soit 'obj':\n",
      "- San Francisco [nsubj: San]\n",
      "- les robots coursiers sur les trottoirs [obj: robots]\n"
     ]
    }
   ],
   "source": [
    "print(\"Groupes de mots étant soit 'nsubj' soit 'obj':\")\n",
    "\n",
    "for token in s1_doc:\n",
    "    if token.dep_ in [\"nsubj\", \"obj\"]:\n",
    "        print(f\"- {' '.join([t.text for t in token.subtree])} [{token.dep_}: {token.text}]\")"
   ]
  },
  {
   "cell_type": "markdown",
   "metadata": {},
   "source": [
    "## 2. Évaluation quantitative de l'analyseur sur une phrase \n",
    "\n",
    "Les données sont les mêmes que celles du Labo 2.  Vous les avez déjà transformées au Labo 2 dans un format utilisable par spaCy, dans un dossier nommé `Labo2/spacy_data` que vous allez réutiliser.  Les trois fichiers contiennent des phrases en français annotées aussi avec les arbres de dépendance.  Le fichier `fr-ud-train.conllu` est destiné à l'entraînement, `fr-ud-dev.conllu` au réglage des paramètres, et `fr-ud-test.conllu` à l'évaluation finale.\n",
    "\n",
    "**2a.** En inspectant un des fichiers d'origine avec un éditeur texte, veuillez indiquer dans quelles colonnes se trouvent les informations sur les relations de dépendance, et comment elles sont représentées."
   ]
  },
  {
   "cell_type": "markdown",
   "metadata": {},
   "source": [
    "> En inspectant simplement le fichier `fr-ud-dev.conllu`, il peut être difficile de déterminer quelles colonnes concernent les relations de dépendances.\n",
    ">\n",
    "> Selon la [documentation officielle du format](https://universaldependencies.org/format.html), les relations de dépendances sont situées dans la 8e colonne (DEPREL) et sont représentées avec le [format des étiquettes de dépendances universelles](https://universaldependencies.org/u/dep/index.html), c'est à dire qu'elles sont sélectionnées parmis les 37 relations syntaxiques universelles.\n",
    ">\n",
    "> La 7e colonne (HEAD) contient l'identifiant du token gouverneur (ou 0 si c'est la racine) et la 9e colonne (DEPS) contient un graphe de dépendances amélioré sous forme de paires (HEAD, DEPREL) ou un `_` si cela n'est pas renseigné."
   ]
  },
  {
   "cell_type": "code",
   "execution_count": 7,
   "metadata": {
    "ExecuteTime": {
     "end_time": "2025-04-08T15:21:15.038252Z",
     "start_time": "2025-04-08T15:21:15.033170Z"
    }
   },
   "outputs": [],
   "source": [
    "from spacy.tokens import DocBin, Doc\n",
    "test_data = DocBin().from_disk(\"../Labo2/spacy_data/fr-ud-test.spacy\")\n",
    "# for doc in test_data.get_docs(nlp.vocab):  # exemple\n",
    "#     for sent in doc.sents:\n",
    "#         print(sent)"
   ]
  },
  {
   "cell_type": "markdown",
   "metadata": {},
   "source": [
    "**2b**. On rapplle que les données des fichiers convertis peuvent être chargées dans un objet de type `DocBin`.  Ici, un tel objet contient un ensemble de documents, chacun contenant 10 phrases.  Chaque document est un objet de type `Doc`.  Le code donné ci-dessous vous permet de charger les données de test et vous montre comment les afficher.\n",
    "\n",
    "* Veuillez stocker la *7e phrase du 2e document des données de test* dans une variable nommée `s2`.\n",
    "* Veuillez afficher cette phrase (elle commence par \"Trois ans\")."
   ]
  },
  {
   "cell_type": "code",
   "execution_count": 8,
   "metadata": {
    "ExecuteTime": {
     "end_time": "2025-04-08T15:21:22.226023Z",
     "start_time": "2025-04-08T15:21:22.144976Z"
    }
   },
   "outputs": [
    {
     "name": "stdout",
     "output_type": "stream",
     "text": [
      "7e phrase du 2e document :\tTrois ans plus tard, il tient un discours sur la crise.\n"
     ]
    }
   ],
   "source": [
    "docs = list(test_data.get_docs(nlp.vocab))\n",
    "s2 = list(docs[1].sents)[6]\n",
    "\n",
    "print(f\"7e phrase du 2e document :\\t{s2}\")"
   ]
  },
  {
   "cell_type": "markdown",
   "metadata": {},
   "source": [
    "**2c.** En utilisant `displaCy` comme expliqué [ici](https://spacy.io/usage/visualizers) veuillez afficher graphiquement l'arbre de dépendances de la phrase `s2` tel qu'il est fourni dans les données.  Pour être affichée, la phrase doit être transformée en objet `Doc`."
   ]
  },
  {
   "cell_type": "code",
   "execution_count": 9,
   "metadata": {
    "ExecuteTime": {
     "end_time": "2025-04-08T15:21:28.890614Z",
     "start_time": "2025-04-08T15:21:28.888687Z"
    }
   },
   "outputs": [],
   "source": [
    "from spacy import displacy"
   ]
  },
  {
   "cell_type": "code",
   "execution_count": 10,
   "metadata": {
    "ExecuteTime": {
     "end_time": "2025-04-08T15:21:32.785142Z",
     "start_time": "2025-04-08T15:21:32.778982Z"
    }
   },
   "outputs": [
    {
     "data": {
      "text/html": [
       "<span class=\"tex2jax_ignore\"><svg xmlns=\"http://www.w3.org/2000/svg\" xmlns:xlink=\"http://www.w3.org/1999/xlink\" xml:lang=\"fr\" id=\"e03a65f05b4b47b094cccd07c7214ecb-0\" class=\"displacy\" width=\"1040\" height=\"272.0\" direction=\"ltr\" style=\"max-width: none; height: 272.0px; color: #000000; background: #ffffff; font-family: Arial; direction: ltr\">\n",
       "<text class=\"displacy-token\" fill=\"currentColor\" text-anchor=\"middle\" y=\"182.0\">\n",
       "    <tspan class=\"displacy-word\" fill=\"currentColor\" x=\"50\">Trois</tspan>\n",
       "    <tspan class=\"displacy-tag\" dy=\"2em\" fill=\"currentColor\" x=\"50\">NUM</tspan>\n",
       "</text>\n",
       "\n",
       "<text class=\"displacy-token\" fill=\"currentColor\" text-anchor=\"middle\" y=\"182.0\">\n",
       "    <tspan class=\"displacy-word\" fill=\"currentColor\" x=\"140\">ans</tspan>\n",
       "    <tspan class=\"displacy-tag\" dy=\"2em\" fill=\"currentColor\" x=\"140\">NOUN</tspan>\n",
       "</text>\n",
       "\n",
       "<text class=\"displacy-token\" fill=\"currentColor\" text-anchor=\"middle\" y=\"182.0\">\n",
       "    <tspan class=\"displacy-word\" fill=\"currentColor\" x=\"230\">plus</tspan>\n",
       "    <tspan class=\"displacy-tag\" dy=\"2em\" fill=\"currentColor\" x=\"230\">ADV</tspan>\n",
       "</text>\n",
       "\n",
       "<text class=\"displacy-token\" fill=\"currentColor\" text-anchor=\"middle\" y=\"182.0\">\n",
       "    <tspan class=\"displacy-word\" fill=\"currentColor\" x=\"320\">tard,</tspan>\n",
       "    <tspan class=\"displacy-tag\" dy=\"2em\" fill=\"currentColor\" x=\"320\">ADV</tspan>\n",
       "</text>\n",
       "\n",
       "<text class=\"displacy-token\" fill=\"currentColor\" text-anchor=\"middle\" y=\"182.0\">\n",
       "    <tspan class=\"displacy-word\" fill=\"currentColor\" x=\"410\">il</tspan>\n",
       "    <tspan class=\"displacy-tag\" dy=\"2em\" fill=\"currentColor\" x=\"410\">PRON</tspan>\n",
       "</text>\n",
       "\n",
       "<text class=\"displacy-token\" fill=\"currentColor\" text-anchor=\"middle\" y=\"182.0\">\n",
       "    <tspan class=\"displacy-word\" fill=\"currentColor\" x=\"500\">tient</tspan>\n",
       "    <tspan class=\"displacy-tag\" dy=\"2em\" fill=\"currentColor\" x=\"500\">VERB</tspan>\n",
       "</text>\n",
       "\n",
       "<text class=\"displacy-token\" fill=\"currentColor\" text-anchor=\"middle\" y=\"182.0\">\n",
       "    <tspan class=\"displacy-word\" fill=\"currentColor\" x=\"590\">un</tspan>\n",
       "    <tspan class=\"displacy-tag\" dy=\"2em\" fill=\"currentColor\" x=\"590\">DET</tspan>\n",
       "</text>\n",
       "\n",
       "<text class=\"displacy-token\" fill=\"currentColor\" text-anchor=\"middle\" y=\"182.0\">\n",
       "    <tspan class=\"displacy-word\" fill=\"currentColor\" x=\"680\">discours</tspan>\n",
       "    <tspan class=\"displacy-tag\" dy=\"2em\" fill=\"currentColor\" x=\"680\">NOUN</tspan>\n",
       "</text>\n",
       "\n",
       "<text class=\"displacy-token\" fill=\"currentColor\" text-anchor=\"middle\" y=\"182.0\">\n",
       "    <tspan class=\"displacy-word\" fill=\"currentColor\" x=\"770\">sur</tspan>\n",
       "    <tspan class=\"displacy-tag\" dy=\"2em\" fill=\"currentColor\" x=\"770\">ADP</tspan>\n",
       "</text>\n",
       "\n",
       "<text class=\"displacy-token\" fill=\"currentColor\" text-anchor=\"middle\" y=\"182.0\">\n",
       "    <tspan class=\"displacy-word\" fill=\"currentColor\" x=\"860\">la</tspan>\n",
       "    <tspan class=\"displacy-tag\" dy=\"2em\" fill=\"currentColor\" x=\"860\">DET</tspan>\n",
       "</text>\n",
       "\n",
       "<text class=\"displacy-token\" fill=\"currentColor\" text-anchor=\"middle\" y=\"182.0\">\n",
       "    <tspan class=\"displacy-word\" fill=\"currentColor\" x=\"950\">crise.</tspan>\n",
       "    <tspan class=\"displacy-tag\" dy=\"2em\" fill=\"currentColor\" x=\"950\">NOUN</tspan>\n",
       "</text>\n",
       "\n",
       "<g class=\"displacy-arrow\">\n",
       "    <path class=\"displacy-arc\" id=\"arrow-e03a65f05b4b47b094cccd07c7214ecb-0-0\" stroke-width=\"2px\" d=\"M62,137.0 62,122.0 134.0,122.0 134.0,137.0\" fill=\"none\" stroke=\"currentColor\"/>\n",
       "    <text dy=\"1.25em\" style=\"font-size: 0.8em; letter-spacing: 1px\">\n",
       "        <textPath xlink:href=\"#arrow-e03a65f05b4b47b094cccd07c7214ecb-0-0\" class=\"displacy-label\" startOffset=\"50%\" side=\"left\" fill=\"currentColor\" text-anchor=\"middle\">nummod</textPath>\n",
       "    </text>\n",
       "    <path class=\"displacy-arrowhead\" d=\"M62,139.0 L58,131.0 66,131.0\" fill=\"currentColor\"/>\n",
       "</g>\n",
       "\n",
       "<g class=\"displacy-arrow\">\n",
       "    <path class=\"displacy-arc\" id=\"arrow-e03a65f05b4b47b094cccd07c7214ecb-0-1\" stroke-width=\"2px\" d=\"M152,137.0 152,92.0 500.0,92.0 500.0,137.0\" fill=\"none\" stroke=\"currentColor\"/>\n",
       "    <text dy=\"1.25em\" style=\"font-size: 0.8em; letter-spacing: 1px\">\n",
       "        <textPath xlink:href=\"#arrow-e03a65f05b4b47b094cccd07c7214ecb-0-1\" class=\"displacy-label\" startOffset=\"50%\" side=\"left\" fill=\"currentColor\" text-anchor=\"middle\">obl</textPath>\n",
       "    </text>\n",
       "    <path class=\"displacy-arrowhead\" d=\"M152,139.0 L148,131.0 156,131.0\" fill=\"currentColor\"/>\n",
       "</g>\n",
       "\n",
       "<g class=\"displacy-arrow\">\n",
       "    <path class=\"displacy-arc\" id=\"arrow-e03a65f05b4b47b094cccd07c7214ecb-0-2\" stroke-width=\"2px\" d=\"M242,137.0 242,122.0 314.0,122.0 314.0,137.0\" fill=\"none\" stroke=\"currentColor\"/>\n",
       "    <text dy=\"1.25em\" style=\"font-size: 0.8em; letter-spacing: 1px\">\n",
       "        <textPath xlink:href=\"#arrow-e03a65f05b4b47b094cccd07c7214ecb-0-2\" class=\"displacy-label\" startOffset=\"50%\" side=\"left\" fill=\"currentColor\" text-anchor=\"middle\">advmod</textPath>\n",
       "    </text>\n",
       "    <path class=\"displacy-arrowhead\" d=\"M242,139.0 L238,131.0 246,131.0\" fill=\"currentColor\"/>\n",
       "</g>\n",
       "\n",
       "<g class=\"displacy-arrow\">\n",
       "    <path class=\"displacy-arc\" id=\"arrow-e03a65f05b4b47b094cccd07c7214ecb-0-3\" stroke-width=\"2px\" d=\"M152,137.0 152,107.0 317.0,107.0 317.0,137.0\" fill=\"none\" stroke=\"currentColor\"/>\n",
       "    <text dy=\"1.25em\" style=\"font-size: 0.8em; letter-spacing: 1px\">\n",
       "        <textPath xlink:href=\"#arrow-e03a65f05b4b47b094cccd07c7214ecb-0-3\" class=\"displacy-label\" startOffset=\"50%\" side=\"left\" fill=\"currentColor\" text-anchor=\"middle\">advmod</textPath>\n",
       "    </text>\n",
       "    <path class=\"displacy-arrowhead\" d=\"M317.0,139.0 L321.0,131.0 313.0,131.0\" fill=\"currentColor\"/>\n",
       "</g>\n",
       "\n",
       "<g class=\"displacy-arrow\">\n",
       "    <path class=\"displacy-arc\" id=\"arrow-e03a65f05b4b47b094cccd07c7214ecb-0-4\" stroke-width=\"2px\" d=\"M422,137.0 422,122.0 494.0,122.0 494.0,137.0\" fill=\"none\" stroke=\"currentColor\"/>\n",
       "    <text dy=\"1.25em\" style=\"font-size: 0.8em; letter-spacing: 1px\">\n",
       "        <textPath xlink:href=\"#arrow-e03a65f05b4b47b094cccd07c7214ecb-0-4\" class=\"displacy-label\" startOffset=\"50%\" side=\"left\" fill=\"currentColor\" text-anchor=\"middle\">nsubj</textPath>\n",
       "    </text>\n",
       "    <path class=\"displacy-arrowhead\" d=\"M422,139.0 L418,131.0 426,131.0\" fill=\"currentColor\"/>\n",
       "</g>\n",
       "\n",
       "<g class=\"displacy-arrow\">\n",
       "    <path class=\"displacy-arc\" id=\"arrow-e03a65f05b4b47b094cccd07c7214ecb-0-5\" stroke-width=\"2px\" d=\"M602,137.0 602,122.0 674.0,122.0 674.0,137.0\" fill=\"none\" stroke=\"currentColor\"/>\n",
       "    <text dy=\"1.25em\" style=\"font-size: 0.8em; letter-spacing: 1px\">\n",
       "        <textPath xlink:href=\"#arrow-e03a65f05b4b47b094cccd07c7214ecb-0-5\" class=\"displacy-label\" startOffset=\"50%\" side=\"left\" fill=\"currentColor\" text-anchor=\"middle\">det</textPath>\n",
       "    </text>\n",
       "    <path class=\"displacy-arrowhead\" d=\"M602,139.0 L598,131.0 606,131.0\" fill=\"currentColor\"/>\n",
       "</g>\n",
       "\n",
       "<g class=\"displacy-arrow\">\n",
       "    <path class=\"displacy-arc\" id=\"arrow-e03a65f05b4b47b094cccd07c7214ecb-0-6\" stroke-width=\"2px\" d=\"M512,137.0 512,107.0 677.0,107.0 677.0,137.0\" fill=\"none\" stroke=\"currentColor\"/>\n",
       "    <text dy=\"1.25em\" style=\"font-size: 0.8em; letter-spacing: 1px\">\n",
       "        <textPath xlink:href=\"#arrow-e03a65f05b4b47b094cccd07c7214ecb-0-6\" class=\"displacy-label\" startOffset=\"50%\" side=\"left\" fill=\"currentColor\" text-anchor=\"middle\">obj</textPath>\n",
       "    </text>\n",
       "    <path class=\"displacy-arrowhead\" d=\"M677.0,139.0 L681.0,131.0 673.0,131.0\" fill=\"currentColor\"/>\n",
       "</g>\n",
       "\n",
       "<g class=\"displacy-arrow\">\n",
       "    <path class=\"displacy-arc\" id=\"arrow-e03a65f05b4b47b094cccd07c7214ecb-0-7\" stroke-width=\"2px\" d=\"M782,137.0 782,107.0 947.0,107.0 947.0,137.0\" fill=\"none\" stroke=\"currentColor\"/>\n",
       "    <text dy=\"1.25em\" style=\"font-size: 0.8em; letter-spacing: 1px\">\n",
       "        <textPath xlink:href=\"#arrow-e03a65f05b4b47b094cccd07c7214ecb-0-7\" class=\"displacy-label\" startOffset=\"50%\" side=\"left\" fill=\"currentColor\" text-anchor=\"middle\">case</textPath>\n",
       "    </text>\n",
       "    <path class=\"displacy-arrowhead\" d=\"M782,139.0 L778,131.0 786,131.0\" fill=\"currentColor\"/>\n",
       "</g>\n",
       "\n",
       "<g class=\"displacy-arrow\">\n",
       "    <path class=\"displacy-arc\" id=\"arrow-e03a65f05b4b47b094cccd07c7214ecb-0-8\" stroke-width=\"2px\" d=\"M872,137.0 872,122.0 944.0,122.0 944.0,137.0\" fill=\"none\" stroke=\"currentColor\"/>\n",
       "    <text dy=\"1.25em\" style=\"font-size: 0.8em; letter-spacing: 1px\">\n",
       "        <textPath xlink:href=\"#arrow-e03a65f05b4b47b094cccd07c7214ecb-0-8\" class=\"displacy-label\" startOffset=\"50%\" side=\"left\" fill=\"currentColor\" text-anchor=\"middle\">det</textPath>\n",
       "    </text>\n",
       "    <path class=\"displacy-arrowhead\" d=\"M872,139.0 L868,131.0 876,131.0\" fill=\"currentColor\"/>\n",
       "</g>\n",
       "\n",
       "<g class=\"displacy-arrow\">\n",
       "    <path class=\"displacy-arc\" id=\"arrow-e03a65f05b4b47b094cccd07c7214ecb-0-9\" stroke-width=\"2px\" d=\"M692,137.0 692,92.0 950.0,92.0 950.0,137.0\" fill=\"none\" stroke=\"currentColor\"/>\n",
       "    <text dy=\"1.25em\" style=\"font-size: 0.8em; letter-spacing: 1px\">\n",
       "        <textPath xlink:href=\"#arrow-e03a65f05b4b47b094cccd07c7214ecb-0-9\" class=\"displacy-label\" startOffset=\"50%\" side=\"left\" fill=\"currentColor\" text-anchor=\"middle\">nmod</textPath>\n",
       "    </text>\n",
       "    <path class=\"displacy-arrowhead\" d=\"M950.0,139.0 L954.0,131.0 946.0,131.0\" fill=\"currentColor\"/>\n",
       "</g>\n",
       "</svg></span>"
      ],
      "text/plain": [
       "<IPython.core.display.HTML object>"
      ]
     },
     "metadata": {},
     "output_type": "display_data"
    }
   ],
   "source": [
    "# Il n'est pas nécessaire de transformer s2 en doc, car dans notre cas la phrase peut être affichée sans.\n",
    "# Nous avons tout de même effectué la transformation, afin de suivre la consigne de la question.\n",
    "displacy.render(s2.as_doc(), style=\"dep\", options = {\"compact\": True, \"distance\": 90})"
   ]
  },
  {
   "cell_type": "markdown",
   "metadata": {},
   "source": [
    "**2d.** En utilisant `displaCy`, veuillez également afficher l'arbre de dépendances calculé par la pipeline `nlp` pour cette même phrase `s2`.  Pour être analysée et affichée, la phrase doit être transformée en objet `Doc`."
   ]
  },
  {
   "cell_type": "code",
   "execution_count": 11,
   "metadata": {
    "ExecuteTime": {
     "end_time": "2025-04-08T15:21:40.933840Z",
     "start_time": "2025-04-08T15:21:40.924569Z"
    }
   },
   "outputs": [
    {
     "data": {
      "text/html": [
       "<span class=\"tex2jax_ignore\"><svg xmlns=\"http://www.w3.org/2000/svg\" xmlns:xlink=\"http://www.w3.org/1999/xlink\" xml:lang=\"fr\" id=\"6cc554f2c48d4a0b88ed088f3d522e20-0\" class=\"displacy\" width=\"1040\" height=\"272.0\" direction=\"ltr\" style=\"max-width: none; height: 272.0px; color: #000000; background: #ffffff; font-family: Arial; direction: ltr\">\n",
       "<text class=\"displacy-token\" fill=\"currentColor\" text-anchor=\"middle\" y=\"182.0\">\n",
       "    <tspan class=\"displacy-word\" fill=\"currentColor\" x=\"50\">Trois</tspan>\n",
       "    <tspan class=\"displacy-tag\" dy=\"2em\" fill=\"currentColor\" x=\"50\">NUM</tspan>\n",
       "</text>\n",
       "\n",
       "<text class=\"displacy-token\" fill=\"currentColor\" text-anchor=\"middle\" y=\"182.0\">\n",
       "    <tspan class=\"displacy-word\" fill=\"currentColor\" x=\"140\">ans</tspan>\n",
       "    <tspan class=\"displacy-tag\" dy=\"2em\" fill=\"currentColor\" x=\"140\">NOUN</tspan>\n",
       "</text>\n",
       "\n",
       "<text class=\"displacy-token\" fill=\"currentColor\" text-anchor=\"middle\" y=\"182.0\">\n",
       "    <tspan class=\"displacy-word\" fill=\"currentColor\" x=\"230\">plus</tspan>\n",
       "    <tspan class=\"displacy-tag\" dy=\"2em\" fill=\"currentColor\" x=\"230\">ADV</tspan>\n",
       "</text>\n",
       "\n",
       "<text class=\"displacy-token\" fill=\"currentColor\" text-anchor=\"middle\" y=\"182.0\">\n",
       "    <tspan class=\"displacy-word\" fill=\"currentColor\" x=\"320\">tard,</tspan>\n",
       "    <tspan class=\"displacy-tag\" dy=\"2em\" fill=\"currentColor\" x=\"320\">ADV</tspan>\n",
       "</text>\n",
       "\n",
       "<text class=\"displacy-token\" fill=\"currentColor\" text-anchor=\"middle\" y=\"182.0\">\n",
       "    <tspan class=\"displacy-word\" fill=\"currentColor\" x=\"410\">il</tspan>\n",
       "    <tspan class=\"displacy-tag\" dy=\"2em\" fill=\"currentColor\" x=\"410\">PRON</tspan>\n",
       "</text>\n",
       "\n",
       "<text class=\"displacy-token\" fill=\"currentColor\" text-anchor=\"middle\" y=\"182.0\">\n",
       "    <tspan class=\"displacy-word\" fill=\"currentColor\" x=\"500\">tient</tspan>\n",
       "    <tspan class=\"displacy-tag\" dy=\"2em\" fill=\"currentColor\" x=\"500\">VERB</tspan>\n",
       "</text>\n",
       "\n",
       "<text class=\"displacy-token\" fill=\"currentColor\" text-anchor=\"middle\" y=\"182.0\">\n",
       "    <tspan class=\"displacy-word\" fill=\"currentColor\" x=\"590\">un</tspan>\n",
       "    <tspan class=\"displacy-tag\" dy=\"2em\" fill=\"currentColor\" x=\"590\">DET</tspan>\n",
       "</text>\n",
       "\n",
       "<text class=\"displacy-token\" fill=\"currentColor\" text-anchor=\"middle\" y=\"182.0\">\n",
       "    <tspan class=\"displacy-word\" fill=\"currentColor\" x=\"680\">discours</tspan>\n",
       "    <tspan class=\"displacy-tag\" dy=\"2em\" fill=\"currentColor\" x=\"680\">NOUN</tspan>\n",
       "</text>\n",
       "\n",
       "<text class=\"displacy-token\" fill=\"currentColor\" text-anchor=\"middle\" y=\"182.0\">\n",
       "    <tspan class=\"displacy-word\" fill=\"currentColor\" x=\"770\">sur</tspan>\n",
       "    <tspan class=\"displacy-tag\" dy=\"2em\" fill=\"currentColor\" x=\"770\">ADP</tspan>\n",
       "</text>\n",
       "\n",
       "<text class=\"displacy-token\" fill=\"currentColor\" text-anchor=\"middle\" y=\"182.0\">\n",
       "    <tspan class=\"displacy-word\" fill=\"currentColor\" x=\"860\">la</tspan>\n",
       "    <tspan class=\"displacy-tag\" dy=\"2em\" fill=\"currentColor\" x=\"860\">DET</tspan>\n",
       "</text>\n",
       "\n",
       "<text class=\"displacy-token\" fill=\"currentColor\" text-anchor=\"middle\" y=\"182.0\">\n",
       "    <tspan class=\"displacy-word\" fill=\"currentColor\" x=\"950\">crise.</tspan>\n",
       "    <tspan class=\"displacy-tag\" dy=\"2em\" fill=\"currentColor\" x=\"950\">NOUN</tspan>\n",
       "</text>\n",
       "\n",
       "<g class=\"displacy-arrow\">\n",
       "    <path class=\"displacy-arc\" id=\"arrow-6cc554f2c48d4a0b88ed088f3d522e20-0-0\" stroke-width=\"2px\" d=\"M62,137.0 62,122.0 134.0,122.0 134.0,137.0\" fill=\"none\" stroke=\"currentColor\"/>\n",
       "    <text dy=\"1.25em\" style=\"font-size: 0.8em; letter-spacing: 1px\">\n",
       "        <textPath xlink:href=\"#arrow-6cc554f2c48d4a0b88ed088f3d522e20-0-0\" class=\"displacy-label\" startOffset=\"50%\" side=\"left\" fill=\"currentColor\" text-anchor=\"middle\">nummod</textPath>\n",
       "    </text>\n",
       "    <path class=\"displacy-arrowhead\" d=\"M62,139.0 L58,131.0 66,131.0\" fill=\"currentColor\"/>\n",
       "</g>\n",
       "\n",
       "<g class=\"displacy-arrow\">\n",
       "    <path class=\"displacy-arc\" id=\"arrow-6cc554f2c48d4a0b88ed088f3d522e20-0-1\" stroke-width=\"2px\" d=\"M152,137.0 152,122.0 224.0,122.0 224.0,137.0\" fill=\"none\" stroke=\"currentColor\"/>\n",
       "    <text dy=\"1.25em\" style=\"font-size: 0.8em; letter-spacing: 1px\">\n",
       "        <textPath xlink:href=\"#arrow-6cc554f2c48d4a0b88ed088f3d522e20-0-1\" class=\"displacy-label\" startOffset=\"50%\" side=\"left\" fill=\"currentColor\" text-anchor=\"middle\">obl:mod</textPath>\n",
       "    </text>\n",
       "    <path class=\"displacy-arrowhead\" d=\"M152,139.0 L148,131.0 156,131.0\" fill=\"currentColor\"/>\n",
       "</g>\n",
       "\n",
       "<g class=\"displacy-arrow\">\n",
       "    <path class=\"displacy-arc\" id=\"arrow-6cc554f2c48d4a0b88ed088f3d522e20-0-2\" stroke-width=\"2px\" d=\"M242,137.0 242,122.0 314.0,122.0 314.0,137.0\" fill=\"none\" stroke=\"currentColor\"/>\n",
       "    <text dy=\"1.25em\" style=\"font-size: 0.8em; letter-spacing: 1px\">\n",
       "        <textPath xlink:href=\"#arrow-6cc554f2c48d4a0b88ed088f3d522e20-0-2\" class=\"displacy-label\" startOffset=\"50%\" side=\"left\" fill=\"currentColor\" text-anchor=\"middle\">advmod</textPath>\n",
       "    </text>\n",
       "    <path class=\"displacy-arrowhead\" d=\"M242,139.0 L238,131.0 246,131.0\" fill=\"currentColor\"/>\n",
       "</g>\n",
       "\n",
       "<g class=\"displacy-arrow\">\n",
       "    <path class=\"displacy-arc\" id=\"arrow-6cc554f2c48d4a0b88ed088f3d522e20-0-3\" stroke-width=\"2px\" d=\"M332,137.0 332,107.0 497.0,107.0 497.0,137.0\" fill=\"none\" stroke=\"currentColor\"/>\n",
       "    <text dy=\"1.25em\" style=\"font-size: 0.8em; letter-spacing: 1px\">\n",
       "        <textPath xlink:href=\"#arrow-6cc554f2c48d4a0b88ed088f3d522e20-0-3\" class=\"displacy-label\" startOffset=\"50%\" side=\"left\" fill=\"currentColor\" text-anchor=\"middle\">advmod</textPath>\n",
       "    </text>\n",
       "    <path class=\"displacy-arrowhead\" d=\"M332,139.0 L328,131.0 336,131.0\" fill=\"currentColor\"/>\n",
       "</g>\n",
       "\n",
       "<g class=\"displacy-arrow\">\n",
       "    <path class=\"displacy-arc\" id=\"arrow-6cc554f2c48d4a0b88ed088f3d522e20-0-4\" stroke-width=\"2px\" d=\"M422,137.0 422,122.0 494.0,122.0 494.0,137.0\" fill=\"none\" stroke=\"currentColor\"/>\n",
       "    <text dy=\"1.25em\" style=\"font-size: 0.8em; letter-spacing: 1px\">\n",
       "        <textPath xlink:href=\"#arrow-6cc554f2c48d4a0b88ed088f3d522e20-0-4\" class=\"displacy-label\" startOffset=\"50%\" side=\"left\" fill=\"currentColor\" text-anchor=\"middle\">nsubj</textPath>\n",
       "    </text>\n",
       "    <path class=\"displacy-arrowhead\" d=\"M422,139.0 L418,131.0 426,131.0\" fill=\"currentColor\"/>\n",
       "</g>\n",
       "\n",
       "<g class=\"displacy-arrow\">\n",
       "    <path class=\"displacy-arc\" id=\"arrow-6cc554f2c48d4a0b88ed088f3d522e20-0-5\" stroke-width=\"2px\" d=\"M602,137.0 602,122.0 674.0,122.0 674.0,137.0\" fill=\"none\" stroke=\"currentColor\"/>\n",
       "    <text dy=\"1.25em\" style=\"font-size: 0.8em; letter-spacing: 1px\">\n",
       "        <textPath xlink:href=\"#arrow-6cc554f2c48d4a0b88ed088f3d522e20-0-5\" class=\"displacy-label\" startOffset=\"50%\" side=\"left\" fill=\"currentColor\" text-anchor=\"middle\">det</textPath>\n",
       "    </text>\n",
       "    <path class=\"displacy-arrowhead\" d=\"M602,139.0 L598,131.0 606,131.0\" fill=\"currentColor\"/>\n",
       "</g>\n",
       "\n",
       "<g class=\"displacy-arrow\">\n",
       "    <path class=\"displacy-arc\" id=\"arrow-6cc554f2c48d4a0b88ed088f3d522e20-0-6\" stroke-width=\"2px\" d=\"M512,137.0 512,107.0 677.0,107.0 677.0,137.0\" fill=\"none\" stroke=\"currentColor\"/>\n",
       "    <text dy=\"1.25em\" style=\"font-size: 0.8em; letter-spacing: 1px\">\n",
       "        <textPath xlink:href=\"#arrow-6cc554f2c48d4a0b88ed088f3d522e20-0-6\" class=\"displacy-label\" startOffset=\"50%\" side=\"left\" fill=\"currentColor\" text-anchor=\"middle\">obj</textPath>\n",
       "    </text>\n",
       "    <path class=\"displacy-arrowhead\" d=\"M677.0,139.0 L681.0,131.0 673.0,131.0\" fill=\"currentColor\"/>\n",
       "</g>\n",
       "\n",
       "<g class=\"displacy-arrow\">\n",
       "    <path class=\"displacy-arc\" id=\"arrow-6cc554f2c48d4a0b88ed088f3d522e20-0-7\" stroke-width=\"2px\" d=\"M782,137.0 782,107.0 947.0,107.0 947.0,137.0\" fill=\"none\" stroke=\"currentColor\"/>\n",
       "    <text dy=\"1.25em\" style=\"font-size: 0.8em; letter-spacing: 1px\">\n",
       "        <textPath xlink:href=\"#arrow-6cc554f2c48d4a0b88ed088f3d522e20-0-7\" class=\"displacy-label\" startOffset=\"50%\" side=\"left\" fill=\"currentColor\" text-anchor=\"middle\">case</textPath>\n",
       "    </text>\n",
       "    <path class=\"displacy-arrowhead\" d=\"M782,139.0 L778,131.0 786,131.0\" fill=\"currentColor\"/>\n",
       "</g>\n",
       "\n",
       "<g class=\"displacy-arrow\">\n",
       "    <path class=\"displacy-arc\" id=\"arrow-6cc554f2c48d4a0b88ed088f3d522e20-0-8\" stroke-width=\"2px\" d=\"M872,137.0 872,122.0 944.0,122.0 944.0,137.0\" fill=\"none\" stroke=\"currentColor\"/>\n",
       "    <text dy=\"1.25em\" style=\"font-size: 0.8em; letter-spacing: 1px\">\n",
       "        <textPath xlink:href=\"#arrow-6cc554f2c48d4a0b88ed088f3d522e20-0-8\" class=\"displacy-label\" startOffset=\"50%\" side=\"left\" fill=\"currentColor\" text-anchor=\"middle\">det</textPath>\n",
       "    </text>\n",
       "    <path class=\"displacy-arrowhead\" d=\"M872,139.0 L868,131.0 876,131.0\" fill=\"currentColor\"/>\n",
       "</g>\n",
       "\n",
       "<g class=\"displacy-arrow\">\n",
       "    <path class=\"displacy-arc\" id=\"arrow-6cc554f2c48d4a0b88ed088f3d522e20-0-9\" stroke-width=\"2px\" d=\"M692,137.0 692,92.0 950.0,92.0 950.0,137.0\" fill=\"none\" stroke=\"currentColor\"/>\n",
       "    <text dy=\"1.25em\" style=\"font-size: 0.8em; letter-spacing: 1px\">\n",
       "        <textPath xlink:href=\"#arrow-6cc554f2c48d4a0b88ed088f3d522e20-0-9\" class=\"displacy-label\" startOffset=\"50%\" side=\"left\" fill=\"currentColor\" text-anchor=\"middle\">nmod</textPath>\n",
       "    </text>\n",
       "    <path class=\"displacy-arrowhead\" d=\"M950.0,139.0 L954.0,131.0 946.0,131.0\" fill=\"currentColor\"/>\n",
       "</g>\n",
       "</svg></span>"
      ],
      "text/plain": [
       "<IPython.core.display.HTML object>"
      ]
     },
     "metadata": {},
     "output_type": "display_data"
    }
   ],
   "source": [
    "displacy.render(nlp(s2.as_doc()), style=\"dep\", options = {\"compact\": True, \"distance\": 90})"
   ]
  },
  {
   "cell_type": "markdown",
   "metadata": {},
   "source": [
    "**2e.** Veuillez comparer les deux arbres de dépendances et indiquer ici les différences.  Quel est le taux de correction de la pipeline `nlp` sur cette phrase ?\n",
    "\n",
    "Suggestion : il peut être utile de sauvegarder les deux arbres dans des images SVG, en écrivant dans un fichier le résultat retourné par `displacy.render` avec l'option `jupyter = False`."
   ]
  },
  {
   "cell_type": "markdown",
   "metadata": {},
   "source": [
    "> La phrase utilisée contient 13 tokens, dont 2 de ponctuations, pour un total de 10 relations entre les tokens. À noter que les deux tokens de ponctuations sont liés au token précédent, sans générer de relation.\n",
    "> \n",
    "> La pipeline nlp génère également 10 relations, dont 2 sont différentes des relations correctes :\n",
    "> - Une relation existe de `plus` vers `ans` (obl:mod), alors que `ans` devrait dépendre du verbe `tient` (obl).\n",
    "> - Une relation existe de `tient` vers `tard` (advmod), alors que `tard` devrait dépendre de `ans` (advmod).\n",
    ">\n",
    "> Sur les 13 tokens, 2 sont donc mal classifiés par la pipeline nlp, ce qui donne donc un taux de correction de 2/13 ≈ 0.154. Si l'on cherche le score obtenu pour les éléments bien classifiés, le score est alors de 11/13 ≈ 0.846."
   ]
  },
  {
   "cell_type": "markdown",
   "metadata": {},
   "source": [
    "**2f.**  Veuillez appliquer le `Scorer` de spaCy (voir Labo 2) et afficher les deux scores qu'il produit pour l'analyse en dépendances (avec trois décimales après la virgule).  Retrouvez-vous les scores de la question précédente ? Pourquoi ?"
   ]
  },
  {
   "cell_type": "code",
   "execution_count": 12,
   "metadata": {
    "ExecuteTime": {
     "end_time": "2025-04-08T15:23:20.213282Z",
     "start_time": "2025-04-08T15:23:20.210581Z"
    }
   },
   "outputs": [],
   "source": [
    "from spacy.scorer import Scorer\n",
    "from spacy.training import Example"
   ]
  },
  {
   "cell_type": "code",
   "execution_count": 13,
   "metadata": {
    "ExecuteTime": {
     "end_time": "2025-04-08T15:23:22.337223Z",
     "start_time": "2025-04-08T15:23:22.125255Z"
    }
   },
   "outputs": [
    {
     "name": "stdout",
     "output_type": "stream",
     "text": [
      "UAS: 0.846\n",
      "LAS: 0.846\n"
     ]
    }
   ],
   "source": [
    "score = Scorer().score_deps([Example(nlp(s2.as_doc()), s2.as_doc())], \"dep\")\n",
    "\n",
    "print(f\"UAS: {score['dep_uas']:.3f}\")\n",
    "print(f\"LAS: {score['dep_las']:.3f}\")"
   ]
  },
  {
   "cell_type": "markdown",
   "metadata": {},
   "source": [
    "> Le taux de correction de la question précédente ne peut pas être retrouvé tel quel, puisque les scores UAS et LAS calcule la qualité d'alignement entre les deux éléments, en comparant les prédictions avec les annotations correctes. Cependant, ces scores correspondent bien à notre score, puisqu'il s'agit de la valeur obtenue lorsque l'on prends en considération que 11 annotations sur les 13 sont correctes, offrant donc un score de ~ 0.846."
   ]
  },
  {
   "cell_type": "markdown",
   "metadata": {},
   "source": [
    "## 3. Évaluation du *dependency parser* de `fr_core_news_sm` sur l'ensemble des phrases test"
   ]
  },
  {
   "cell_type": "markdown",
   "metadata": {},
   "source": [
    "**3a.** Veuillez calculer les deux scores qui caractérisent l'analyseur en dépendances de la pipeline `nlp` sur toutes les données de test présentes dans `test_data`.  Comment se comparent ces scores avec ceux mentionnés [dans la documentation de fr_core_news_sm](https://spacy.io/models/fr#fr_core_news_sm) ?"
   ]
  },
  {
   "cell_type": "code",
   "execution_count": 14,
   "metadata": {
    "ExecuteTime": {
     "end_time": "2025-04-08T15:23:32.596225Z",
     "start_time": "2025-04-08T15:23:31.819329Z"
    }
   },
   "outputs": [
    {
     "name": "stdout",
     "output_type": "stream",
     "text": [
      "UAS: 0.816\n",
      "LAS: 0.689\n"
     ]
    }
   ],
   "source": [
    "score = Scorer().score(\n",
    "    [Example(nlp(doc.copy()), doc) for doc in test_data.get_docs(nlp.vocab)]\n",
    ")\n",
    "\n",
    "print(f\"UAS: {score['dep_uas']:.3f}\")\n",
    "print(f\"LAS: {score['dep_las']:.3f}\")"
   ]
  },
  {
   "cell_type": "markdown",
   "metadata": {},
   "source": [
    "> Nous avons décidé de travailler en effectuant la copie des documents et non pas en les recréant à partir du vocabulaire. De cette manière, les annotations ont pu être conservées pour les documents de prédictions.\n",
    ">\n",
    "> La documentation indique un score UAS (DEP_UAS) de 0.88 et un score LAS (DEP_LAS) de 0.84 . Dans un cas comme dans l'autre, nos valeurs sont inférieures aux scores de référence, en particulier pour le score LAS. Le score UAS est relativement proche du score de référence, indiquant une annotation raisonnablement correcte, malgré un peu plus d'erreurs que dans le cas de référence. Ces différences peuvent être attribuées à l'entrainement du modèle sur un corpus différent de celui testé ici, les relations de dépendance pouvant alors ne pas être attribuées de la bonne manière. La séparation de notre texte en un ensemble de documents peut en être partiellement la cause, si cela fait perdre du contexte significatif aux différentes phrases. Le score LAS, quant à lui, montre une baisse significative par rapport au score de référence, indiquant des problèmes plus importants pour l'attribution des types de dépendances. Le labelling étant plus précis, il semble normal d'obtenir un score plus bas si le modèle n'a pas suffisamment d'informations contextuelles pour attribuer correctement les relations de dépendance ou si celles-ci sont ambiguës."
   ]
  },
  {
   "cell_type": "markdown",
   "metadata": {},
   "source": [
    "**3b.** Le *scorer* fournit également des scores détaillés pour chaque type de relation de dépendances.  Veuillez afficher ces valeurs dans un tableau proprement formaté, trié par score F1 décroissant, avec trois décimales."
   ]
  },
  {
   "cell_type": "code",
   "execution_count": 15,
   "metadata": {
    "ExecuteTime": {
     "end_time": "2025-04-08T15:23:40.974101Z",
     "start_time": "2025-04-08T15:23:40.961732Z"
    },
    "scrolled": true
   },
   "outputs": [
    {
     "data": {
      "text/html": [
       "<div>\n",
       "<style scoped>\n",
       "    .dataframe tbody tr th:only-of-type {\n",
       "        vertical-align: middle;\n",
       "    }\n",
       "\n",
       "    .dataframe tbody tr th {\n",
       "        vertical-align: top;\n",
       "    }\n",
       "\n",
       "    .dataframe thead th {\n",
       "        text-align: right;\n",
       "    }\n",
       "</style>\n",
       "<table border=\"1\" class=\"dataframe\">\n",
       "  <thead>\n",
       "    <tr style=\"text-align: right;\">\n",
       "      <th></th>\n",
       "      <th>Precision</th>\n",
       "      <th>Recall</th>\n",
       "      <th>F1</th>\n",
       "    </tr>\n",
       "  </thead>\n",
       "  <tbody>\n",
       "    <tr>\n",
       "      <th>det</th>\n",
       "      <td>0.938</td>\n",
       "      <td>0.937</td>\n",
       "      <td>0.938</td>\n",
       "    </tr>\n",
       "    <tr>\n",
       "      <th>case</th>\n",
       "      <td>0.874</td>\n",
       "      <td>0.927</td>\n",
       "      <td>0.899</td>\n",
       "    </tr>\n",
       "    <tr>\n",
       "      <th>root</th>\n",
       "      <td>1.000</td>\n",
       "      <td>0.786</td>\n",
       "      <td>0.880</td>\n",
       "    </tr>\n",
       "    <tr>\n",
       "      <th>cc</th>\n",
       "      <td>0.802</td>\n",
       "      <td>0.802</td>\n",
       "      <td>0.802</td>\n",
       "    </tr>\n",
       "    <tr>\n",
       "      <th>mark</th>\n",
       "      <td>0.745</td>\n",
       "      <td>0.797</td>\n",
       "      <td>0.770</td>\n",
       "    </tr>\n",
       "    <tr>\n",
       "      <th>nsubj</th>\n",
       "      <td>0.807</td>\n",
       "      <td>0.719</td>\n",
       "      <td>0.760</td>\n",
       "    </tr>\n",
       "    <tr>\n",
       "      <th>aux:pass</th>\n",
       "      <td>0.636</td>\n",
       "      <td>0.925</td>\n",
       "      <td>0.754</td>\n",
       "    </tr>\n",
       "    <tr>\n",
       "      <th>nsubj:pass</th>\n",
       "      <td>0.662</td>\n",
       "      <td>0.860</td>\n",
       "      <td>0.748</td>\n",
       "    </tr>\n",
       "    <tr>\n",
       "      <th>cop</th>\n",
       "      <td>0.738</td>\n",
       "      <td>0.748</td>\n",
       "      <td>0.743</td>\n",
       "    </tr>\n",
       "    <tr>\n",
       "      <th>nummod</th>\n",
       "      <td>0.755</td>\n",
       "      <td>0.719</td>\n",
       "      <td>0.737</td>\n",
       "    </tr>\n",
       "    <tr>\n",
       "      <th>amod</th>\n",
       "      <td>0.711</td>\n",
       "      <td>0.757</td>\n",
       "      <td>0.733</td>\n",
       "    </tr>\n",
       "    <tr>\n",
       "      <th>obj</th>\n",
       "      <td>0.728</td>\n",
       "      <td>0.693</td>\n",
       "      <td>0.710</td>\n",
       "    </tr>\n",
       "    <tr>\n",
       "      <th>advmod</th>\n",
       "      <td>0.707</td>\n",
       "      <td>0.694</td>\n",
       "      <td>0.700</td>\n",
       "    </tr>\n",
       "    <tr>\n",
       "      <th>nmod</th>\n",
       "      <td>0.617</td>\n",
       "      <td>0.738</td>\n",
       "      <td>0.672</td>\n",
       "    </tr>\n",
       "    <tr>\n",
       "      <th>flat:name</th>\n",
       "      <td>0.673</td>\n",
       "      <td>0.639</td>\n",
       "      <td>0.655</td>\n",
       "    </tr>\n",
       "    <tr>\n",
       "      <th>acl:relcl</th>\n",
       "      <td>0.600</td>\n",
       "      <td>0.640</td>\n",
       "      <td>0.619</td>\n",
       "    </tr>\n",
       "    <tr>\n",
       "      <th>xcomp</th>\n",
       "      <td>0.544</td>\n",
       "      <td>0.642</td>\n",
       "      <td>0.589</td>\n",
       "    </tr>\n",
       "    <tr>\n",
       "      <th>ccomp</th>\n",
       "      <td>0.604</td>\n",
       "      <td>0.460</td>\n",
       "      <td>0.523</td>\n",
       "    </tr>\n",
       "    <tr>\n",
       "      <th>acl</th>\n",
       "      <td>0.492</td>\n",
       "      <td>0.500</td>\n",
       "      <td>0.496</td>\n",
       "    </tr>\n",
       "    <tr>\n",
       "      <th>advcl</th>\n",
       "      <td>0.472</td>\n",
       "      <td>0.500</td>\n",
       "      <td>0.486</td>\n",
       "    </tr>\n",
       "    <tr>\n",
       "      <th>conj</th>\n",
       "      <td>0.414</td>\n",
       "      <td>0.408</td>\n",
       "      <td>0.411</td>\n",
       "    </tr>\n",
       "    <tr>\n",
       "      <th>fixed</th>\n",
       "      <td>0.580</td>\n",
       "      <td>0.291</td>\n",
       "      <td>0.388</td>\n",
       "    </tr>\n",
       "    <tr>\n",
       "      <th>appos</th>\n",
       "      <td>0.500</td>\n",
       "      <td>0.297</td>\n",
       "      <td>0.372</td>\n",
       "    </tr>\n",
       "    <tr>\n",
       "      <th>iobj</th>\n",
       "      <td>0.286</td>\n",
       "      <td>0.480</td>\n",
       "      <td>0.358</td>\n",
       "    </tr>\n",
       "    <tr>\n",
       "      <th>discourse</th>\n",
       "      <td>1.000</td>\n",
       "      <td>0.200</td>\n",
       "      <td>0.333</td>\n",
       "    </tr>\n",
       "    <tr>\n",
       "      <th>nsubj:caus</th>\n",
       "      <td>1.000</td>\n",
       "      <td>0.200</td>\n",
       "      <td>0.333</td>\n",
       "    </tr>\n",
       "    <tr>\n",
       "      <th>parataxis</th>\n",
       "      <td>0.292</td>\n",
       "      <td>0.219</td>\n",
       "      <td>0.250</td>\n",
       "    </tr>\n",
       "    <tr>\n",
       "      <th>dep</th>\n",
       "      <td>0.013</td>\n",
       "      <td>0.077</td>\n",
       "      <td>0.022</td>\n",
       "    </tr>\n",
       "    <tr>\n",
       "      <th>obl</th>\n",
       "      <td>1.000</td>\n",
       "      <td>0.011</td>\n",
       "      <td>0.021</td>\n",
       "    </tr>\n",
       "    <tr>\n",
       "      <th>aux</th>\n",
       "      <td>0.000</td>\n",
       "      <td>0.000</td>\n",
       "      <td>0.000</td>\n",
       "    </tr>\n",
       "    <tr>\n",
       "      <th>expl</th>\n",
       "      <td>0.000</td>\n",
       "      <td>0.000</td>\n",
       "      <td>0.000</td>\n",
       "    </tr>\n",
       "    <tr>\n",
       "      <th>aux:tense</th>\n",
       "      <td>0.000</td>\n",
       "      <td>0.000</td>\n",
       "      <td>0.000</td>\n",
       "    </tr>\n",
       "    <tr>\n",
       "      <th>obl:mod</th>\n",
       "      <td>0.000</td>\n",
       "      <td>0.000</td>\n",
       "      <td>0.000</td>\n",
       "    </tr>\n",
       "    <tr>\n",
       "      <th>expl:subj</th>\n",
       "      <td>0.000</td>\n",
       "      <td>0.000</td>\n",
       "      <td>0.000</td>\n",
       "    </tr>\n",
       "    <tr>\n",
       "      <th>expl:comp</th>\n",
       "      <td>0.000</td>\n",
       "      <td>0.000</td>\n",
       "      <td>0.000</td>\n",
       "    </tr>\n",
       "    <tr>\n",
       "      <th>obl:arg</th>\n",
       "      <td>0.000</td>\n",
       "      <td>0.000</td>\n",
       "      <td>0.000</td>\n",
       "    </tr>\n",
       "    <tr>\n",
       "      <th>obl:agent</th>\n",
       "      <td>0.000</td>\n",
       "      <td>0.000</td>\n",
       "      <td>0.000</td>\n",
       "    </tr>\n",
       "    <tr>\n",
       "      <th>aux:caus</th>\n",
       "      <td>0.000</td>\n",
       "      <td>0.000</td>\n",
       "      <td>0.000</td>\n",
       "    </tr>\n",
       "    <tr>\n",
       "      <th>obj:agent</th>\n",
       "      <td>0.000</td>\n",
       "      <td>0.000</td>\n",
       "      <td>0.000</td>\n",
       "    </tr>\n",
       "    <tr>\n",
       "      <th>expl:pass</th>\n",
       "      <td>0.000</td>\n",
       "      <td>0.000</td>\n",
       "      <td>0.000</td>\n",
       "    </tr>\n",
       "    <tr>\n",
       "      <th>compound</th>\n",
       "      <td>0.000</td>\n",
       "      <td>0.000</td>\n",
       "      <td>0.000</td>\n",
       "    </tr>\n",
       "    <tr>\n",
       "      <th>iobj:agent</th>\n",
       "      <td>0.000</td>\n",
       "      <td>0.000</td>\n",
       "      <td>0.000</td>\n",
       "    </tr>\n",
       "    <tr>\n",
       "      <th>vocative</th>\n",
       "      <td>0.000</td>\n",
       "      <td>0.000</td>\n",
       "      <td>0.000</td>\n",
       "    </tr>\n",
       "    <tr>\n",
       "      <th>csubj</th>\n",
       "      <td>0.000</td>\n",
       "      <td>0.000</td>\n",
       "      <td>0.000</td>\n",
       "    </tr>\n",
       "    <tr>\n",
       "      <th>flat:foreign</th>\n",
       "      <td>0.000</td>\n",
       "      <td>0.000</td>\n",
       "      <td>0.000</td>\n",
       "    </tr>\n",
       "  </tbody>\n",
       "</table>\n",
       "</div>"
      ],
      "text/plain": [
       "              Precision  Recall    F1\n",
       "det               0.938   0.937 0.938\n",
       "case              0.874   0.927 0.899\n",
       "root              1.000   0.786 0.880\n",
       "cc                0.802   0.802 0.802\n",
       "mark              0.745   0.797 0.770\n",
       "nsubj             0.807   0.719 0.760\n",
       "aux:pass          0.636   0.925 0.754\n",
       "nsubj:pass        0.662   0.860 0.748\n",
       "cop               0.738   0.748 0.743\n",
       "nummod            0.755   0.719 0.737\n",
       "amod              0.711   0.757 0.733\n",
       "obj               0.728   0.693 0.710\n",
       "advmod            0.707   0.694 0.700\n",
       "nmod              0.617   0.738 0.672\n",
       "flat:name         0.673   0.639 0.655\n",
       "acl:relcl         0.600   0.640 0.619\n",
       "xcomp             0.544   0.642 0.589\n",
       "ccomp             0.604   0.460 0.523\n",
       "acl               0.492   0.500 0.496\n",
       "advcl             0.472   0.500 0.486\n",
       "conj              0.414   0.408 0.411\n",
       "fixed             0.580   0.291 0.388\n",
       "appos             0.500   0.297 0.372\n",
       "iobj              0.286   0.480 0.358\n",
       "discourse         1.000   0.200 0.333\n",
       "nsubj:caus        1.000   0.200 0.333\n",
       "parataxis         0.292   0.219 0.250\n",
       "dep               0.013   0.077 0.022\n",
       "obl               1.000   0.011 0.021\n",
       "aux               0.000   0.000 0.000\n",
       "expl              0.000   0.000 0.000\n",
       "aux:tense         0.000   0.000 0.000\n",
       "obl:mod           0.000   0.000 0.000\n",
       "expl:subj         0.000   0.000 0.000\n",
       "expl:comp         0.000   0.000 0.000\n",
       "obl:arg           0.000   0.000 0.000\n",
       "obl:agent         0.000   0.000 0.000\n",
       "aux:caus          0.000   0.000 0.000\n",
       "obj:agent         0.000   0.000 0.000\n",
       "expl:pass         0.000   0.000 0.000\n",
       "compound          0.000   0.000 0.000\n",
       "iobj:agent        0.000   0.000 0.000\n",
       "vocative          0.000   0.000 0.000\n",
       "csubj             0.000   0.000 0.000\n",
       "flat:foreign      0.000   0.000 0.000"
      ]
     },
     "execution_count": 15,
     "metadata": {},
     "output_type": "execute_result"
    }
   ],
   "source": [
    "df = pd.DataFrame.from_dict(score[\"dep_las_per_type\"], orient='index')\n",
    "df.columns = ['Precision', 'Recall', 'F1']\n",
    "df.sort_values(by='F1', ascending=False, inplace=True)\n",
    "\n",
    "pd.options.display.float_format = \"{:.3f}\".format\n",
    "df"
   ]
  },
  {
   "cell_type": "markdown",
   "metadata": {},
   "source": [
    "## 4. Entraîner puis évaluer un nouveau *parser* français dans spaCy\n",
    "\n",
    "Le but de cette partie est d'entraîner une pipeline spaCy pour le français sur les données de `fr-ud-train.conllu`, puis de comparer le modèle obtenu avec le modèle prêt-à-l'emploi testé au point précédent (voir le Labo 2 et les [instructions de spaCy](https://spacy.io/usage/training#quickstart)).\n",
    "\n",
    "**4a.** Paramétrage de l'entraînement :\n",
    "* générez un fichier de départ grâce à [l'interface web](https://spacy.io/usage/training#quickstart), en indiquant que vous gardez seulement les composants `morphologizer` et `parser` dans la pipeline ;\n",
    "* sauvegardez le code généré par spaCy dans un fichier local `base_config.cfg` ;\n",
    "* générez un fichier `config.cfg` sur votre ordinateur en exécutant la ligne de commande suivante. "
   ]
  },
  {
   "cell_type": "code",
   "execution_count": 16,
   "metadata": {},
   "outputs": [
    {
     "name": "stdout",
     "output_type": "stream",
     "text": [
      "\u001b[38;5;2m[+] Auto-filled config with all values\u001b[0m\n",
      "\u001b[38;5;2m[+] Saved config\u001b[0m\n",
      "config.cfg\n",
      "You can now add your data and train your pipeline:\n",
      "python -m spacy train config.cfg --paths.train ./train.spacy --paths.dev ./dev.spacy\n"
     ]
    }
   ],
   "source": [
    "!python -m spacy init fill-config base_config.cfg config.cfg"
   ]
  },
  {
   "cell_type": "markdown",
   "metadata": {},
   "source": [
    "Veuillez effectuer l'entraînement avec la ligne de commande suivante.  Faites plusieurs essais, d'abord avec un petit nombre d'époques (*à indiquer dans config.cfg*), pour estimer le temps nécessaire et observer les messages affichés.  Augmentez progressivement le nombre d'époques, jusqu'à ce que les scores sur le jeu de validation n'augmentent plus (si vous avez le temps).  Pendant combien d'époques entraînez-vous au final ?"
   ]
  },
  {
   "cell_type": "code",
   "execution_count": 17,
   "metadata": {},
   "outputs": [],
   "source": [
    "# Note : il vaut mieux exécuter cela directement dans une fenêtre de commande, pour voir les logs en temps réel.\n",
    "# !python -m spacy train config.cfg \\\n",
    "#     --output ./myDEPparser1 \\\n",
    "#     --paths.train ../Labo2/spacy_data/fr-ud-train.spacy \\\n",
    "#     --paths.dev ../Labo2/spacy_data/fr-ud-dev.spacy \\\n",
    "#     --verbose"
   ]
  },
  {
   "cell_type": "markdown",
   "metadata": {},
   "source": [
    "```\n",
    "[2025-04-05 16:25:41,628] [DEBUG] Config overrides from CLI: ['paths.train', 'paths.dev']\n",
    "✔ Created output directory: myDEPparser1\n",
    "ℹ Saving to output directory: myDEPparser1\n",
    "ℹ Using CPU\n",
    "\n",
    "=========================== Initializing pipeline ===========================\n",
    "[2025-04-05 16:25:45,046] [INFO] Set up nlp object from config\n",
    "[2025-04-05 16:25:45,057] [DEBUG] Loading corpus from path: ..\\Labo2\\spacy_data\\fr-ud-dev.spacy\n",
    "[2025-04-05 16:25:45,059] [DEBUG] Loading corpus from path: ..\\Labo2\\spacy_data\\fr-ud-train.spacy\n",
    "[2025-04-05 16:25:45,059] [INFO] Pipeline: ['tok2vec', 'morphologizer', 'parser']\n",
    "[2025-04-05 16:25:45,063] [INFO] Created vocabulary\n",
    "[2025-04-05 16:25:45,063] [INFO] Finished initializing nlp object\n",
    "[2025-04-05 16:26:10,819] [INFO] Initialized pipeline components: ['tok2vec', 'morphologizer', 'parser']\n",
    "✔ Initialized pipeline\n",
    "\n",
    "============================= Training pipeline =============================\n",
    "[2025-04-05 16:26:10,831] [DEBUG] Loading corpus from path: ..\\Labo2\\spacy_data\\fr-ud-dev.spacy\n",
    "[2025-04-05 16:26:10,832] [DEBUG] Loading corpus from path: ..\\Labo2\\spacy_data\\fr-ud-train.spacy\n",
    "ℹ Pipeline: ['tok2vec', 'morphologizer', 'parser']\n",
    "ℹ Initial learn rate: 0.001\n",
    "E    #       LOSS TOK2VEC  LOSS MORPH...  LOSS PARSER  POS_ACC  MORPH_ACC  DEP_UAS  DEP_LAS  SENTS_F  SCORE\n",
    "---  ------  ------------  -------------  -----------  -------  ---------  -------  -------  -------  ------\n",
    "  0       0          0.00         224.53       504.38    34.04      29.37    24.62     9.44     0.15    0.24\n",
    "  0     200       4076.83       19248.97     37619.19    87.07      82.56    71.50    63.42    81.56    0.76\n",
    "  0     400       6106.26        9646.12     25713.28    90.24      87.90    77.30    70.88    92.09    0.82\n",
    "  0     600       6043.18        7294.74     22102.46    91.29      89.39    78.45    72.95    94.25    0.83\n",
    "  0     800       6622.88        6605.53     22011.44    91.85      90.37    80.19    74.98    92.14    0.84\n",
    "  0    1000       6505.47        5656.93     19717.99    92.28      91.06    80.99    75.94    93.86    0.85\n",
    "  0    1200       6554.39        5286.01     19127.81    92.39      91.41    81.90    76.99    95.13    0.86\n",
    "  0    1400       6925.99        4947.77     19057.76    92.69      91.80    81.59    76.47    94.77    0.86\n",
    "  1    1600       6795.02        4322.92     17605.95    92.81      92.00    82.00    77.39    94.99    0.86\n",
    "  1    1800       7133.65        4014.09     16746.83    92.80      92.14    81.74    77.31    95.14    0.86\n",
    "  1    2000       7413.99        4116.94     16786.62    92.82      92.07    82.60    78.11    95.66    0.86\n",
    "  1    2200       7756.61        3850.70     16827.29    93.02      92.32    82.76    78.45    95.20    0.87\n",
    "  1    2400       7941.20        4029.44     16722.92    93.06      92.48    83.43    79.40    94.86    0.87\n",
    "  1    2600       8371.70        4018.36     17306.68    92.98      92.46    82.97    78.90    95.65    0.87\n",
    "  1    2800       8407.93        4014.37     17000.82    93.19      92.73    83.83    79.61    96.02    0.87\n",
    "  2    3000       8628.17        3813.38     16635.18    93.32      92.74    83.58    79.64    95.51    0.87\n",
    "  2    3200       8374.46        3132.56     14904.19    93.24      92.73    83.69    79.38    95.34    0.87\n",
    "  2    3400       8930.12        3361.20     15474.46    93.24      92.72    83.96    80.02    95.84    0.87\n",
    "  2    3600       9263.96        3473.93     15434.55    93.36      92.90    83.85    80.05    96.16    0.88\n",
    "  2    3800       9084.25        3290.00     14773.37    93.45      92.87    83.95    79.85    95.61    0.88\n",
    "  2    4000       9602.68        3133.96     14988.53    93.40      92.98    84.16    80.39    96.35    0.88\n",
    "  2    4200       9774.70        3302.76     15072.96    93.40      93.01    84.33    80.50    95.92    0.88\n",
    "  3    4400       9770.63        3201.89     14441.56    93.45      93.08    84.29    80.54    96.05    0.88\n",
    "  3    4600      10241.10        2941.22     14243.12    93.45      92.91    84.15    80.30    95.82    0.88\n",
    "  3    4800      10506.24        2818.77     13832.77    93.40      93.01    84.15    80.13    95.83    0.88\n",
    "  3    5000      11219.74        2863.98     14140.47    93.35      93.06    84.17    80.39    95.56    0.88\n",
    "  3    5200      11126.38        2797.06     14193.04    93.43      93.02    84.50    80.66    96.24    0.88\n",
    "  3    5400      11095.29        2849.36     13973.46    93.41      93.02    84.17    80.40    96.23    0.88\n",
    "  3    5600      11454.07        2969.16     13729.25    93.44      93.07    84.43    80.68    95.37    0.88\n",
    "  3    5800      12051.29        3018.24     14151.85    93.45      93.03    84.90    81.01    95.68    0.88\n",
    "  4    6000      11405.89        2422.85     12918.35    93.48      92.99    85.13    81.42    95.92    0.88\n",
    "  4    6200      12504.17        2626.70     13084.72    93.45      93.01    84.89    81.20    96.06    0.88\n",
    "  4    6400      12737.20        2558.20     12908.75    93.45      93.04    84.81    80.96    95.31    0.88\n",
    "  4    6600      13707.71        2654.45     13701.64    93.55      93.04    84.96    81.53    96.17    0.88\n",
    "  4    6800      13596.57        2562.43     13251.81    93.47      93.13    84.91    81.18    96.29    0.88\n",
    "  4    7000      13596.54        2689.95     13616.15    93.59      93.23    84.76    81.23    95.82    0.88\n",
    "  4    7200      13955.75        2563.59     13263.38    93.55      93.14    84.72    81.15    95.96    0.88\n",
    "  5    7400      13961.36        2520.17     12909.74    93.71      93.31    85.21    81.70    95.26    0.88\n",
    "  5    7600      14314.13        2318.97     12145.28    93.59      93.16    85.04    81.59    96.36    0.88\n",
    "  5    7800      15668.42        2380.80     12693.07    93.65      93.31    85.05    81.48    96.77    0.88\n",
    "  5    8000      15879.24        2449.79     12810.25    93.55      93.14    84.71    81.35    96.37    0.88\n",
    "  5    8200      16376.59        2475.15     13191.64    93.58      93.24    84.86    81.28    96.02    0.88\n",
    "  5    8400      15816.04        2528.74     12304.19    93.63      93.28    85.20    81.78    95.97    0.88\n",
    "  5    8600      15334.79        2391.78     11997.73    93.61      93.29    85.13    81.69    96.69    0.88\n",
    "  6    8800      16372.70        2272.01     12571.86    93.54      93.28    85.01    81.44    96.16    0.88\n",
    "  6    9000      16277.84        2131.20     11267.94    93.51      93.22    85.33    81.72    96.16    0.88\n",
    "✔ Saved pipeline to output directory\n",
    "myDEPparser1\\model-last\n",
    "```"
   ]
  },
  {
   "cell_type": "markdown",
   "metadata": {},
   "source": [
    "> La configuration par défaut a été utilisée, avec un paramètre `patience` permettant un arrêt anticipé de l'entraînement et un nombre maximal d'étapes (`max_steps`) avant l'arret de l'entraînement. Un total de 6 epoques ont été réalisées avant que le modèle ne s'arrête, ayant atteint son paramètre de patience."
   ]
  },
  {
   "cell_type": "markdown",
   "metadata": {},
   "source": [
    "**4b.**  Veuillez charger le meilleur modèle (pipeline) dans la variable `nlp2` et afficher ses scores sur les données de test.  Comment se comparent les résultats avec les précédents ?"
   ]
  },
  {
   "cell_type": "code",
   "execution_count": 18,
   "metadata": {
    "ExecuteTime": {
     "end_time": "2025-04-08T15:27:55.168916Z",
     "start_time": "2025-04-08T15:27:53.907027Z"
    }
   },
   "outputs": [
    {
     "name": "stdout",
     "output_type": "stream",
     "text": [
      "UAS: 0.882\n",
      "LAS: 0.838\n"
     ]
    }
   ],
   "source": [
    "nlp2 = spacy.load(\"./myDEPparser2/model-best\")\n",
    "test_data = DocBin().from_disk(\"../Labo2/spacy_data/fr-ud-test.spacy\")\n",
    "\n",
    "score = Scorer().score(\n",
    "    [Example(nlp2(doc.copy()), doc) for doc in test_data.get_docs(nlp2.vocab)]\n",
    ")\n",
    "\n",
    "print(f\"UAS: {score['dep_uas']:.3f}\")\n",
    "print(f\"LAS: {score['dep_las']:.3f}\")"
   ]
  },
  {
   "cell_type": "markdown",
   "metadata": {},
   "source": [
    "**4c.** Veuillez afficher les scores détaillés pour chaque type de relation de dépendances, dans un tableau formaté comme au 3b."
   ]
  },
  {
   "cell_type": "code",
   "execution_count": 19,
   "metadata": {
    "ExecuteTime": {
     "end_time": "2025-04-08T15:28:14.125085Z",
     "start_time": "2025-04-08T15:28:14.116429Z"
    },
    "scrolled": true
   },
   "outputs": [
    {
     "data": {
      "text/html": [
       "<div>\n",
       "<style scoped>\n",
       "    .dataframe tbody tr th:only-of-type {\n",
       "        vertical-align: middle;\n",
       "    }\n",
       "\n",
       "    .dataframe tbody tr th {\n",
       "        vertical-align: top;\n",
       "    }\n",
       "\n",
       "    .dataframe thead th {\n",
       "        text-align: right;\n",
       "    }\n",
       "</style>\n",
       "<table border=\"1\" class=\"dataframe\">\n",
       "  <thead>\n",
       "    <tr style=\"text-align: right;\">\n",
       "      <th></th>\n",
       "      <th>Precision</th>\n",
       "      <th>Recall</th>\n",
       "      <th>F1</th>\n",
       "    </tr>\n",
       "  </thead>\n",
       "  <tbody>\n",
       "    <tr>\n",
       "      <th>det</th>\n",
       "      <td>0.972</td>\n",
       "      <td>0.984</td>\n",
       "      <td>0.978</td>\n",
       "    </tr>\n",
       "    <tr>\n",
       "      <th>aux:caus</th>\n",
       "      <td>1.000</td>\n",
       "      <td>0.923</td>\n",
       "      <td>0.960</td>\n",
       "    </tr>\n",
       "    <tr>\n",
       "      <th>case</th>\n",
       "      <td>0.926</td>\n",
       "      <td>0.962</td>\n",
       "      <td>0.943</td>\n",
       "    </tr>\n",
       "    <tr>\n",
       "      <th>root</th>\n",
       "      <td>1.000</td>\n",
       "      <td>0.877</td>\n",
       "      <td>0.935</td>\n",
       "    </tr>\n",
       "    <tr>\n",
       "      <th>aux</th>\n",
       "      <td>0.947</td>\n",
       "      <td>0.881</td>\n",
       "      <td>0.913</td>\n",
       "    </tr>\n",
       "    <tr>\n",
       "      <th>cop</th>\n",
       "      <td>0.885</td>\n",
       "      <td>0.885</td>\n",
       "      <td>0.885</td>\n",
       "    </tr>\n",
       "    <tr>\n",
       "      <th>cc</th>\n",
       "      <td>0.884</td>\n",
       "      <td>0.860</td>\n",
       "      <td>0.872</td>\n",
       "    </tr>\n",
       "    <tr>\n",
       "      <th>amod</th>\n",
       "      <td>0.857</td>\n",
       "      <td>0.875</td>\n",
       "      <td>0.866</td>\n",
       "    </tr>\n",
       "    <tr>\n",
       "      <th>mark</th>\n",
       "      <td>0.856</td>\n",
       "      <td>0.874</td>\n",
       "      <td>0.865</td>\n",
       "    </tr>\n",
       "    <tr>\n",
       "      <th>nummod</th>\n",
       "      <td>0.879</td>\n",
       "      <td>0.849</td>\n",
       "      <td>0.864</td>\n",
       "    </tr>\n",
       "    <tr>\n",
       "      <th>obj</th>\n",
       "      <td>0.835</td>\n",
       "      <td>0.888</td>\n",
       "      <td>0.860</td>\n",
       "    </tr>\n",
       "    <tr>\n",
       "      <th>nsubj</th>\n",
       "      <td>0.866</td>\n",
       "      <td>0.848</td>\n",
       "      <td>0.857</td>\n",
       "    </tr>\n",
       "    <tr>\n",
       "      <th>flat:name</th>\n",
       "      <td>0.810</td>\n",
       "      <td>0.824</td>\n",
       "      <td>0.817</td>\n",
       "    </tr>\n",
       "    <tr>\n",
       "      <th>xcomp</th>\n",
       "      <td>0.825</td>\n",
       "      <td>0.802</td>\n",
       "      <td>0.813</td>\n",
       "    </tr>\n",
       "    <tr>\n",
       "      <th>aux:pass</th>\n",
       "      <td>0.721</td>\n",
       "      <td>0.925</td>\n",
       "      <td>0.810</td>\n",
       "    </tr>\n",
       "    <tr>\n",
       "      <th>advmod</th>\n",
       "      <td>0.791</td>\n",
       "      <td>0.803</td>\n",
       "      <td>0.797</td>\n",
       "    </tr>\n",
       "    <tr>\n",
       "      <th>nsubj:pass</th>\n",
       "      <td>0.703</td>\n",
       "      <td>0.900</td>\n",
       "      <td>0.789</td>\n",
       "    </tr>\n",
       "    <tr>\n",
       "      <th>nmod</th>\n",
       "      <td>0.811</td>\n",
       "      <td>0.764</td>\n",
       "      <td>0.787</td>\n",
       "    </tr>\n",
       "    <tr>\n",
       "      <th>acl:relcl</th>\n",
       "      <td>0.753</td>\n",
       "      <td>0.733</td>\n",
       "      <td>0.743</td>\n",
       "    </tr>\n",
       "    <tr>\n",
       "      <th>obl</th>\n",
       "      <td>0.670</td>\n",
       "      <td>0.730</td>\n",
       "      <td>0.698</td>\n",
       "    </tr>\n",
       "    <tr>\n",
       "      <th>ccomp</th>\n",
       "      <td>0.622</td>\n",
       "      <td>0.730</td>\n",
       "      <td>0.672</td>\n",
       "    </tr>\n",
       "    <tr>\n",
       "      <th>nsubj:caus</th>\n",
       "      <td>0.750</td>\n",
       "      <td>0.600</td>\n",
       "      <td>0.667</td>\n",
       "    </tr>\n",
       "    <tr>\n",
       "      <th>advcl</th>\n",
       "      <td>0.634</td>\n",
       "      <td>0.627</td>\n",
       "      <td>0.631</td>\n",
       "    </tr>\n",
       "    <tr>\n",
       "      <th>conj</th>\n",
       "      <td>0.602</td>\n",
       "      <td>0.650</td>\n",
       "      <td>0.625</td>\n",
       "    </tr>\n",
       "    <tr>\n",
       "      <th>iobj</th>\n",
       "      <td>0.531</td>\n",
       "      <td>0.680</td>\n",
       "      <td>0.596</td>\n",
       "    </tr>\n",
       "    <tr>\n",
       "      <th>acl</th>\n",
       "      <td>0.595</td>\n",
       "      <td>0.571</td>\n",
       "      <td>0.583</td>\n",
       "    </tr>\n",
       "    <tr>\n",
       "      <th>expl</th>\n",
       "      <td>0.711</td>\n",
       "      <td>0.482</td>\n",
       "      <td>0.574</td>\n",
       "    </tr>\n",
       "    <tr>\n",
       "      <th>fixed</th>\n",
       "      <td>0.815</td>\n",
       "      <td>0.429</td>\n",
       "      <td>0.562</td>\n",
       "    </tr>\n",
       "    <tr>\n",
       "      <th>parataxis</th>\n",
       "      <td>0.765</td>\n",
       "      <td>0.406</td>\n",
       "      <td>0.531</td>\n",
       "    </tr>\n",
       "    <tr>\n",
       "      <th>appos</th>\n",
       "      <td>0.404</td>\n",
       "      <td>0.568</td>\n",
       "      <td>0.472</td>\n",
       "    </tr>\n",
       "    <tr>\n",
       "      <th>compound</th>\n",
       "      <td>0.350</td>\n",
       "      <td>0.159</td>\n",
       "      <td>0.219</td>\n",
       "    </tr>\n",
       "    <tr>\n",
       "      <th>dep</th>\n",
       "      <td>0.080</td>\n",
       "      <td>0.154</td>\n",
       "      <td>0.105</td>\n",
       "    </tr>\n",
       "    <tr>\n",
       "      <th>obj:agent</th>\n",
       "      <td>0.000</td>\n",
       "      <td>0.000</td>\n",
       "      <td>0.000</td>\n",
       "    </tr>\n",
       "    <tr>\n",
       "      <th>iobj:agent</th>\n",
       "      <td>0.000</td>\n",
       "      <td>0.000</td>\n",
       "      <td>0.000</td>\n",
       "    </tr>\n",
       "    <tr>\n",
       "      <th>obl:agent</th>\n",
       "      <td>0.000</td>\n",
       "      <td>0.000</td>\n",
       "      <td>0.000</td>\n",
       "    </tr>\n",
       "    <tr>\n",
       "      <th>discourse</th>\n",
       "      <td>0.000</td>\n",
       "      <td>0.000</td>\n",
       "      <td>0.000</td>\n",
       "    </tr>\n",
       "    <tr>\n",
       "      <th>csubj</th>\n",
       "      <td>0.000</td>\n",
       "      <td>0.000</td>\n",
       "      <td>0.000</td>\n",
       "    </tr>\n",
       "  </tbody>\n",
       "</table>\n",
       "</div>"
      ],
      "text/plain": [
       "            Precision  Recall    F1\n",
       "det             0.972   0.984 0.978\n",
       "aux:caus        1.000   0.923 0.960\n",
       "case            0.926   0.962 0.943\n",
       "root            1.000   0.877 0.935\n",
       "aux             0.947   0.881 0.913\n",
       "cop             0.885   0.885 0.885\n",
       "cc              0.884   0.860 0.872\n",
       "amod            0.857   0.875 0.866\n",
       "mark            0.856   0.874 0.865\n",
       "nummod          0.879   0.849 0.864\n",
       "obj             0.835   0.888 0.860\n",
       "nsubj           0.866   0.848 0.857\n",
       "flat:name       0.810   0.824 0.817\n",
       "xcomp           0.825   0.802 0.813\n",
       "aux:pass        0.721   0.925 0.810\n",
       "advmod          0.791   0.803 0.797\n",
       "nsubj:pass      0.703   0.900 0.789\n",
       "nmod            0.811   0.764 0.787\n",
       "acl:relcl       0.753   0.733 0.743\n",
       "obl             0.670   0.730 0.698\n",
       "ccomp           0.622   0.730 0.672\n",
       "nsubj:caus      0.750   0.600 0.667\n",
       "advcl           0.634   0.627 0.631\n",
       "conj            0.602   0.650 0.625\n",
       "iobj            0.531   0.680 0.596\n",
       "acl             0.595   0.571 0.583\n",
       "expl            0.711   0.482 0.574\n",
       "fixed           0.815   0.429 0.562\n",
       "parataxis       0.765   0.406 0.531\n",
       "appos           0.404   0.568 0.472\n",
       "compound        0.350   0.159 0.219\n",
       "dep             0.080   0.154 0.105\n",
       "obj:agent       0.000   0.000 0.000\n",
       "iobj:agent      0.000   0.000 0.000\n",
       "obl:agent       0.000   0.000 0.000\n",
       "discourse       0.000   0.000 0.000\n",
       "csubj           0.000   0.000 0.000"
      ]
     },
     "execution_count": 19,
     "metadata": {},
     "output_type": "execute_result"
    }
   ],
   "source": [
    "df = pd.DataFrame.from_dict(score[\"dep_las_per_type\"], orient='index')\n",
    "df.columns = ['Precision', 'Recall', 'F1']\n",
    "df.sort_values(by='F1', ascending=False, inplace=True)\n",
    "\n",
    "pd.options.display.float_format = \"{:.3f}\".format\n",
    "df"
   ]
  },
  {
   "cell_type": "markdown",
   "metadata": {},
   "source": [
    "**4d.** Quels changements observez-vous en haut (3 premiers labels) et en bas du classement ?  Voyez-vous un label pour lequel les scores n'augmentent pas avec le parser entraîné ?"
   ]
  },
  {
   "cell_type": "markdown",
   "metadata": {},
   "source": [
    "> Si l'on observe les classements obtenus, on constate que les trois premiers labels étaient `[det, case, root]` avec le modèle prêt-à-l'emploi et sont `[det, aux:caus, case]` pour le modèle entrainé, avec des f-scores plus élevés que ceux obtenus précédemment. En ce qui concerne les trois derniers labels, ceux-ci étaient initialement `[flat:foreign, discourse, csubj]` et sont maintenant devenu `[obl:agent, discourse, csubj]`, toujours avec des f-scores à 0.\n",
    ">\n",
    "> On notera toutefois qu'il y a moins de labels avec un f-score de 0 dans les résultats du modèle entrainé, indiquant une amélioration par rapport au modèle prêt-à-l'emploi et une potentielle précision plus élevée de notre modèle sur les relations de dépendances dans certains contextes spécifiques à notre corpus.\n",
    ">\n",
    "> csubj (clausal subject) est un label pour lequel les scores n'augmentent pas avec le parser entraîné, certainement parce que ce label n'est pas utilisé dans notre corpus (dans UD_english, ce label est utilisé pour 340 nodes, c'est 0%: https://universaldependencies.org/docs/en/dep/csubj.html)"
   ]
  },
  {
   "cell_type": "markdown",
   "metadata": {},
   "source": [
    "**Fin du Labo.** Veuillez nettoyer ce notebook en gardant seulement les résultats désirés, l'enregistrer, et le soumettre comme devoir sur Cyberlearn."
   ]
  }
 ],
 "metadata": {
  "kernelspec": {
   "display_name": "TAL",
   "language": "python",
   "name": "tal"
  },
  "language_info": {
   "codemirror_mode": {
    "name": "ipython",
    "version": 3
   },
   "file_extension": ".py",
   "mimetype": "text/x-python",
   "name": "python",
   "nbconvert_exporter": "python",
   "pygments_lexer": "ipython3",
   "version": "3.12.3"
  }
 },
 "nbformat": 4,
 "nbformat_minor": 4
}
