{
 "cells": [
  {
   "cell_type": "markdown",
   "metadata": {},
   "source": [
    "<img src=\"https://heig-vd.ch/docs/default-source/doc-global-newsletter/2020-slim.svg\" alt=\"HEIG-VD Logo\" width=\"100\" align=\"right\" /> \n",
    "\n",
    "# Cours TAL - Laboratoire 3<br/>*Depedency parser* pour le français dans spaCy\n",
    "\n",
    "**Objectif**\n",
    "\n",
    "Évaluer l'analyseur syntaxique en dépendances fourni par spaCy dans le modèle `fr_core_news_sm`, puis le comparer avec un analyseur entraîné par vous-mêmes.  Les données sont les mêmes qu'au Labo 2 et la démarche du labo est similaire aussi."
   ]
  },
  {
   "cell_type": "markdown",
   "metadata": {},
   "source": [
    "## 1. Prise en main de l'analyseur de spaCy"
   ]
  },
  {
   "cell_type": "code",
   "metadata": {
    "ExecuteTime": {
     "end_time": "2025-03-27T12:36:12.553609Z",
     "start_time": "2025-03-27T12:36:11.695543Z"
    }
   },
   "source": [
    "import spacy\n",
    "\n",
    "nlp = spacy.load(\"fr_core_news_sm\")  # charge la pipeline"
   ],
   "outputs": [],
   "execution_count": 9
  },
  {
   "cell_type": "markdown",
   "metadata": {},
   "source": [
    "**1a.** Pour la pipeline `fr_core_news_sm`, veuillez afficher les traitements disponibles, puis désactiver tous les traitements sauf `tok2vec`, `morphologizer` et `parser`, puis vérifiez que la désactivation a bien fonctionné."
   ]
  },
  {
   "cell_type": "code",
   "metadata": {
    "ExecuteTime": {
     "end_time": "2025-03-27T12:36:13.107664Z",
     "start_time": "2025-03-27T12:36:13.104007Z"
    }
   },
   "source": [
    "# Veuillez écrire votre code ici.\n",
    "print(f\"Liste des traitements disponibles : {nlp.pipe_names}\")\n",
    "\n",
    "for pipe in nlp.pipe_names:\n",
    "    if pipe not in [\"tok2vec\", \"morphologizer\", \"parser\"]:\n",
    "        nlp.disable_pipe(pipe)\n",
    "\n",
    "print(f\"Liste des traitements actifs : {nlp.pipe_names}\")"
   ],
   "outputs": [
    {
     "name": "stdout",
     "output_type": "stream",
     "text": [
      "Liste des traitements disponibles : ['tok2vec', 'morphologizer', 'parser', 'attribute_ruler', 'lemmatizer', 'ner']\n",
      "Liste des traitements actifs : ['tok2vec', 'morphologizer', 'parser']\n"
     ]
    }
   ],
   "execution_count": 10
  },
  {
   "cell_type": "code",
   "metadata": {
    "ExecuteTime": {
     "end_time": "2025-03-27T12:36:15.044554Z",
     "start_time": "2025-03-27T12:36:15.040420Z"
    }
   },
   "source": [
    "from spacy.lang.fr.examples import sentences\n",
    "\n",
    "s1 = sentences[2]  # prenons la 3e phrase comme exemple\n",
    "s1"
   ],
   "outputs": [
    {
     "data": {
      "text/plain": [
       "\"San Francisco envisage d'interdire les robots coursiers sur les trottoirs\""
      ]
     },
     "execution_count": 11,
     "metadata": {},
     "output_type": "execute_result"
    }
   ],
   "execution_count": 11
  },
  {
   "cell_type": "markdown",
   "metadata": {},
   "source": [
    "**1b.** Veuillez analyser `s1` avec la pipeline `nlp` puis afficher chaque token, son POS tag, et son étiquette indiquant la relation de dépendance (entre crochets, après le token).  Quelle information essentielle manque dans cette représentation ?\n",
    "\n",
    "Note : le *morphologizer* fournit aussi les POS tags.  La liste des tags possibles est [fournie par spaCy](https://spacy.io/models/fr#fr_core_news_md-labels).  "
   ]
  },
  {
   "cell_type": "code",
   "metadata": {
    "ExecuteTime": {
     "end_time": "2025-03-27T12:41:06.928354Z",
     "start_time": "2025-03-27T12:41:06.912290Z"
    }
   },
   "source": [
    "# Veuillez écrire votre code et votre réponse ici.\n",
    "s1_doc = nlp(s1)\n",
    "\n",
    "print(\"Tokens:\")\n",
    "for token in s1_doc:\n",
    "    print(f\"{token.text} [{token.pos_}] [{token.dep_}]\")"
   ],
   "outputs": [
    {
     "name": "stdout",
     "output_type": "stream",
     "text": [
      "Tokens:\n",
      "San [PRON] [nsubj]\n",
      "Francisco [PROPN] [flat:name]\n",
      "envisage [VERB] [ROOT]\n",
      "d' [ADP] [case]\n",
      "interdire [NOUN] [obl:arg]\n",
      "les [DET] [det]\n",
      "robots [NOUN] [obj]\n",
      "coursiers [ADJ] [amod]\n",
      "sur [ADP] [case]\n",
      "les [DET] [det]\n",
      "trottoirs [NOUN] [nmod]\n"
     ]
    }
   ],
   "execution_count": 25
  },
  {
   "cell_type": "markdown",
   "metadata": {},
   "source": "**1c.** Veuillez afficher tous les groupes de mots qui sont soit des `nsubj` soit des `obj` dans la phrase `s1` (c'est à dire les sujets et les objets du verbe).   Indication : le sous-arbre d'un token *t* est accessible comme `t.subtree`."
  },
  {
   "cell_type": "code",
   "metadata": {
    "ExecuteTime": {
     "end_time": "2025-03-27T12:40:58.403110Z",
     "start_time": "2025-03-27T12:40:58.385573Z"
    }
   },
   "source": [
    "# Veuillez écrire votre code ici.\n",
    "print(\"Groupes de mots:\")\n",
    "for token in s1_doc:\n",
    "    if token.dep_ in [\"nsubj\", \"obj\"]:\n",
    "        print(\"----------------\")\n",
    "        print(f\"{token.text} [{token.pos_}] [{token.dep_}]:\")\n",
    "        for subtoken in token.subtree:\n",
    "            print(f\"- {subtoken.text} [{token.pos_}] [{subtoken.dep_}]\")"
   ],
   "outputs": [
    {
     "name": "stdout",
     "output_type": "stream",
     "text": [
      "Groupes de mots:\n",
      "----------------\n",
      "San [PRON] [nsubj]:\n",
      "- San [PRON] [nsubj]\n",
      "- Francisco [PRON] [flat:name]\n",
      "----------------\n",
      "robots [NOUN] [obj]:\n",
      "- les [NOUN] [det]\n",
      "- robots [NOUN] [obj]\n",
      "- coursiers [NOUN] [amod]\n",
      "- sur [NOUN] [case]\n",
      "- les [NOUN] [det]\n",
      "- trottoirs [NOUN] [nmod]\n"
     ]
    }
   ],
   "execution_count": 24
  },
  {
   "cell_type": "markdown",
   "metadata": {},
   "source": [
    "## 2. Évaluation quantitative de l'analyseur sur une phrase \n",
    "\n",
    "Les données sont les mêmes que celles du Labo 2.  Vous les avez déjà transformées au Labo 2 dans un format utilisable par spaCy, dans un dossier nommé `Labo2/spacy_data` que vous allez réutiliser.  Les trois fichiers contiennent des phrases en français annotées aussi avec les arbres de dépendance.  Le fichier `fr-ud-train.conllu` est destiné à l'entraînement, `fr-ud-dev.conllu` au réglage des paramètres, et `fr-ud-test.conllu` à l'évaluation finale.\n",
    "\n",
    "**2a.** En inspectant un des fichiers d'origine avec un éditeur texte, veuillez indiquer dans quelles colonnes se trouvent les informations sur les relations de dépendance, et comment elles sont représentées."
   ]
  },
  {
   "metadata": {},
   "cell_type": "markdown",
   "source": [
    "> Selon la documentation officielle du format: https://universaldependencies.org/format.html\n",
    ">\n",
    "> - Les relations de dépendances sont situées dans la 8e colonne (DEPREL) et sont représentées avec le format des étiquettes de dépendances universelles (https://universaldependencies.org/u/dep/index.html).\n",
    "> - La 7e colonne (HEAD) contient l'identifiant du token gouverneur (ou 0 si c'est la racine).\n",
    "> - La 9e colonne (DEPS) contient, elle, optionnellement, un graphe de dépendances amélioré sous forme de paires (HEAD, DEPREL)\n"
   ]
  },
  {
   "cell_type": "code",
   "metadata": {
    "ExecuteTime": {
     "end_time": "2025-03-27T12:48:38.077519Z",
     "start_time": "2025-03-27T12:48:38.065456Z"
    }
   },
   "source": [
    "from spacy.tokens import DocBin, Doc\n",
    "\n",
    "test_data = DocBin().from_disk(\"../pw2/spacy_data/fr-ud-test.spacy\")\n",
    "# for doc in test_data.get_docs(nlp.vocab):  # exemple\n",
    "#     for sent in doc.sents:\n",
    "#         print(sent)"
   ],
   "outputs": [],
   "execution_count": 26
  },
  {
   "cell_type": "markdown",
   "metadata": {},
   "source": [
    "**2b**. On rapplle que les données des fichiers convertis peuvent être chargées dans un objet de type `DocBin`.  Ici, un tel objet contient un ensemble de documents, chacun contenant 10 phrases.  Chaque document est un objet de type `Doc`.  Le code donné ci-dessous vous permet de charger les données de test et vous montre comment les afficher.\n",
    "\n",
    "* Veuillez stocker la *7e phrase du 2e document des données de test* dans une variable nommée `s2`.\n",
    "* Veuillez afficher cette phrase (elle commence par \"Trois ans\")."
   ]
  },
  {
   "cell_type": "code",
   "metadata": {
    "ExecuteTime": {
     "end_time": "2025-03-27T13:18:42.784667Z",
     "start_time": "2025-03-27T13:18:42.725807Z"
    }
   },
   "source": [
    "# Veuillez écrire votre code ici.\n",
    "doc = list(test_data.get_docs(nlp.vocab))[1]\n",
    "s2 = list(doc.sents)[6]\n",
    "s2"
   ],
   "outputs": [
    {
     "data": {
      "text/plain": [
       "Trois ans plus tard, il tient un discours sur la crise."
      ]
     },
     "execution_count": 74,
     "metadata": {},
     "output_type": "execute_result"
    }
   ],
   "execution_count": 74
  },
  {
   "cell_type": "markdown",
   "metadata": {},
   "source": [
    "**2c.** En utilisant `displaCy` comme expliqué [ici](https://spacy.io/usage/visualizers) veuillez afficher graphiquement l'arbre de dépendances de la phrase `s2` tel qu'il est fourni dans les données.  Pour être affichée, la phrase doit être transformée en objet `Doc`."
   ]
  },
  {
   "cell_type": "code",
   "metadata": {
    "ExecuteTime": {
     "end_time": "2025-03-27T13:13:10.052450Z",
     "start_time": "2025-03-27T13:13:10.050215Z"
    }
   },
   "source": [
    "from spacy import displacy\n",
    "from IPython.display import HTML, display"
   ],
   "outputs": [],
   "execution_count": 65
  },
  {
   "cell_type": "code",
   "metadata": {
    "ExecuteTime": {
     "end_time": "2025-03-27T13:55:06.338878Z",
     "start_time": "2025-03-27T13:55:06.329584Z"
    }
   },
   "source": [
    "# Veuillez écrire votre code ici.\n",
    "display(HTML('<span class=\"tex2jax_ignore\">{}</span>'.format(\n",
    "    displacy.render(s2, style=\"dep\", options={\"compact\": True}, jupyter=False)\n",
    ")))"
   ],
   "outputs": [
    {
     "data": {
      "text/plain": [
       "<IPython.core.display.HTML object>"
      ],
      "text/html": [
       "<span class=\"tex2jax_ignore\"><svg xmlns=\"http://www.w3.org/2000/svg\" xmlns:xlink=\"http://www.w3.org/1999/xlink\" xml:lang=\"fr\" id=\"216130ec071843e9bb6cfe7a3480936f-0\" class=\"displacy\" width=\"1700\" height=\"362.0\" direction=\"ltr\" style=\"max-width: none; height: 362.0px; color: #000000; background: #ffffff; font-family: Arial; direction: ltr\">\n",
       "<text class=\"displacy-token\" fill=\"currentColor\" text-anchor=\"middle\" y=\"272.0\">\n",
       "    <tspan class=\"displacy-word\" fill=\"currentColor\" x=\"50\">Trois</tspan>\n",
       "    <tspan class=\"displacy-tag\" dy=\"2em\" fill=\"currentColor\" x=\"50\">NUM</tspan>\n",
       "</text>\n",
       "\n",
       "<text class=\"displacy-token\" fill=\"currentColor\" text-anchor=\"middle\" y=\"272.0\">\n",
       "    <tspan class=\"displacy-word\" fill=\"currentColor\" x=\"200\">ans</tspan>\n",
       "    <tspan class=\"displacy-tag\" dy=\"2em\" fill=\"currentColor\" x=\"200\">NOUN</tspan>\n",
       "</text>\n",
       "\n",
       "<text class=\"displacy-token\" fill=\"currentColor\" text-anchor=\"middle\" y=\"272.0\">\n",
       "    <tspan class=\"displacy-word\" fill=\"currentColor\" x=\"350\">plus</tspan>\n",
       "    <tspan class=\"displacy-tag\" dy=\"2em\" fill=\"currentColor\" x=\"350\">ADV</tspan>\n",
       "</text>\n",
       "\n",
       "<text class=\"displacy-token\" fill=\"currentColor\" text-anchor=\"middle\" y=\"272.0\">\n",
       "    <tspan class=\"displacy-word\" fill=\"currentColor\" x=\"500\">tard,</tspan>\n",
       "    <tspan class=\"displacy-tag\" dy=\"2em\" fill=\"currentColor\" x=\"500\">ADV</tspan>\n",
       "</text>\n",
       "\n",
       "<text class=\"displacy-token\" fill=\"currentColor\" text-anchor=\"middle\" y=\"272.0\">\n",
       "    <tspan class=\"displacy-word\" fill=\"currentColor\" x=\"650\">il</tspan>\n",
       "    <tspan class=\"displacy-tag\" dy=\"2em\" fill=\"currentColor\" x=\"650\">PRON</tspan>\n",
       "</text>\n",
       "\n",
       "<text class=\"displacy-token\" fill=\"currentColor\" text-anchor=\"middle\" y=\"272.0\">\n",
       "    <tspan class=\"displacy-word\" fill=\"currentColor\" x=\"800\">tient</tspan>\n",
       "    <tspan class=\"displacy-tag\" dy=\"2em\" fill=\"currentColor\" x=\"800\">VERB</tspan>\n",
       "</text>\n",
       "\n",
       "<text class=\"displacy-token\" fill=\"currentColor\" text-anchor=\"middle\" y=\"272.0\">\n",
       "    <tspan class=\"displacy-word\" fill=\"currentColor\" x=\"950\">un</tspan>\n",
       "    <tspan class=\"displacy-tag\" dy=\"2em\" fill=\"currentColor\" x=\"950\">DET</tspan>\n",
       "</text>\n",
       "\n",
       "<text class=\"displacy-token\" fill=\"currentColor\" text-anchor=\"middle\" y=\"272.0\">\n",
       "    <tspan class=\"displacy-word\" fill=\"currentColor\" x=\"1100\">discours</tspan>\n",
       "    <tspan class=\"displacy-tag\" dy=\"2em\" fill=\"currentColor\" x=\"1100\">NOUN</tspan>\n",
       "</text>\n",
       "\n",
       "<text class=\"displacy-token\" fill=\"currentColor\" text-anchor=\"middle\" y=\"272.0\">\n",
       "    <tspan class=\"displacy-word\" fill=\"currentColor\" x=\"1250\">sur</tspan>\n",
       "    <tspan class=\"displacy-tag\" dy=\"2em\" fill=\"currentColor\" x=\"1250\">ADP</tspan>\n",
       "</text>\n",
       "\n",
       "<text class=\"displacy-token\" fill=\"currentColor\" text-anchor=\"middle\" y=\"272.0\">\n",
       "    <tspan class=\"displacy-word\" fill=\"currentColor\" x=\"1400\">la</tspan>\n",
       "    <tspan class=\"displacy-tag\" dy=\"2em\" fill=\"currentColor\" x=\"1400\">DET</tspan>\n",
       "</text>\n",
       "\n",
       "<text class=\"displacy-token\" fill=\"currentColor\" text-anchor=\"middle\" y=\"272.0\">\n",
       "    <tspan class=\"displacy-word\" fill=\"currentColor\" x=\"1550\">crise.</tspan>\n",
       "    <tspan class=\"displacy-tag\" dy=\"2em\" fill=\"currentColor\" x=\"1550\">NOUN</tspan>\n",
       "</text>\n",
       "\n",
       "<g class=\"displacy-arrow\">\n",
       "    <path class=\"displacy-arc\" id=\"arrow-216130ec071843e9bb6cfe7a3480936f-0-0\" stroke-width=\"2px\" d=\"M62,227.0 62,202.0 194.0,202.0 194.0,227.0\" fill=\"none\" stroke=\"currentColor\"/>\n",
       "    <text dy=\"1.25em\" style=\"font-size: 0.8em; letter-spacing: 1px\">\n",
       "        <textPath xlink:href=\"#arrow-216130ec071843e9bb6cfe7a3480936f-0-0\" class=\"displacy-label\" startOffset=\"50%\" side=\"left\" fill=\"currentColor\" text-anchor=\"middle\">nummod</textPath>\n",
       "    </text>\n",
       "    <path class=\"displacy-arrowhead\" d=\"M62,229.0 L58,221.0 66,221.0\" fill=\"currentColor\"/>\n",
       "</g>\n",
       "\n",
       "<g class=\"displacy-arrow\">\n",
       "    <path class=\"displacy-arc\" id=\"arrow-216130ec071843e9bb6cfe7a3480936f-0-1\" stroke-width=\"2px\" d=\"M212,227.0 212,152.0 800.0,152.0 800.0,227.0\" fill=\"none\" stroke=\"currentColor\"/>\n",
       "    <text dy=\"1.25em\" style=\"font-size: 0.8em; letter-spacing: 1px\">\n",
       "        <textPath xlink:href=\"#arrow-216130ec071843e9bb6cfe7a3480936f-0-1\" class=\"displacy-label\" startOffset=\"50%\" side=\"left\" fill=\"currentColor\" text-anchor=\"middle\">obl</textPath>\n",
       "    </text>\n",
       "    <path class=\"displacy-arrowhead\" d=\"M212,229.0 L208,221.0 216,221.0\" fill=\"currentColor\"/>\n",
       "</g>\n",
       "\n",
       "<g class=\"displacy-arrow\">\n",
       "    <path class=\"displacy-arc\" id=\"arrow-216130ec071843e9bb6cfe7a3480936f-0-2\" stroke-width=\"2px\" d=\"M362,227.0 362,202.0 494.0,202.0 494.0,227.0\" fill=\"none\" stroke=\"currentColor\"/>\n",
       "    <text dy=\"1.25em\" style=\"font-size: 0.8em; letter-spacing: 1px\">\n",
       "        <textPath xlink:href=\"#arrow-216130ec071843e9bb6cfe7a3480936f-0-2\" class=\"displacy-label\" startOffset=\"50%\" side=\"left\" fill=\"currentColor\" text-anchor=\"middle\">advmod</textPath>\n",
       "    </text>\n",
       "    <path class=\"displacy-arrowhead\" d=\"M362,229.0 L358,221.0 366,221.0\" fill=\"currentColor\"/>\n",
       "</g>\n",
       "\n",
       "<g class=\"displacy-arrow\">\n",
       "    <path class=\"displacy-arc\" id=\"arrow-216130ec071843e9bb6cfe7a3480936f-0-3\" stroke-width=\"2px\" d=\"M212,227.0 212,177.0 497.0,177.0 497.0,227.0\" fill=\"none\" stroke=\"currentColor\"/>\n",
       "    <text dy=\"1.25em\" style=\"font-size: 0.8em; letter-spacing: 1px\">\n",
       "        <textPath xlink:href=\"#arrow-216130ec071843e9bb6cfe7a3480936f-0-3\" class=\"displacy-label\" startOffset=\"50%\" side=\"left\" fill=\"currentColor\" text-anchor=\"middle\">advmod</textPath>\n",
       "    </text>\n",
       "    <path class=\"displacy-arrowhead\" d=\"M497.0,229.0 L501.0,221.0 493.0,221.0\" fill=\"currentColor\"/>\n",
       "</g>\n",
       "\n",
       "<g class=\"displacy-arrow\">\n",
       "    <path class=\"displacy-arc\" id=\"arrow-216130ec071843e9bb6cfe7a3480936f-0-4\" stroke-width=\"2px\" d=\"M662,227.0 662,202.0 794.0,202.0 794.0,227.0\" fill=\"none\" stroke=\"currentColor\"/>\n",
       "    <text dy=\"1.25em\" style=\"font-size: 0.8em; letter-spacing: 1px\">\n",
       "        <textPath xlink:href=\"#arrow-216130ec071843e9bb6cfe7a3480936f-0-4\" class=\"displacy-label\" startOffset=\"50%\" side=\"left\" fill=\"currentColor\" text-anchor=\"middle\">nsubj</textPath>\n",
       "    </text>\n",
       "    <path class=\"displacy-arrowhead\" d=\"M662,229.0 L658,221.0 666,221.0\" fill=\"currentColor\"/>\n",
       "</g>\n",
       "\n",
       "<g class=\"displacy-arrow\">\n",
       "    <path class=\"displacy-arc\" id=\"arrow-216130ec071843e9bb6cfe7a3480936f-0-5\" stroke-width=\"2px\" d=\"M962,227.0 962,202.0 1094.0,202.0 1094.0,227.0\" fill=\"none\" stroke=\"currentColor\"/>\n",
       "    <text dy=\"1.25em\" style=\"font-size: 0.8em; letter-spacing: 1px\">\n",
       "        <textPath xlink:href=\"#arrow-216130ec071843e9bb6cfe7a3480936f-0-5\" class=\"displacy-label\" startOffset=\"50%\" side=\"left\" fill=\"currentColor\" text-anchor=\"middle\">det</textPath>\n",
       "    </text>\n",
       "    <path class=\"displacy-arrowhead\" d=\"M962,229.0 L958,221.0 966,221.0\" fill=\"currentColor\"/>\n",
       "</g>\n",
       "\n",
       "<g class=\"displacy-arrow\">\n",
       "    <path class=\"displacy-arc\" id=\"arrow-216130ec071843e9bb6cfe7a3480936f-0-6\" stroke-width=\"2px\" d=\"M812,227.0 812,177.0 1097.0,177.0 1097.0,227.0\" fill=\"none\" stroke=\"currentColor\"/>\n",
       "    <text dy=\"1.25em\" style=\"font-size: 0.8em; letter-spacing: 1px\">\n",
       "        <textPath xlink:href=\"#arrow-216130ec071843e9bb6cfe7a3480936f-0-6\" class=\"displacy-label\" startOffset=\"50%\" side=\"left\" fill=\"currentColor\" text-anchor=\"middle\">obj</textPath>\n",
       "    </text>\n",
       "    <path class=\"displacy-arrowhead\" d=\"M1097.0,229.0 L1101.0,221.0 1093.0,221.0\" fill=\"currentColor\"/>\n",
       "</g>\n",
       "\n",
       "<g class=\"displacy-arrow\">\n",
       "    <path class=\"displacy-arc\" id=\"arrow-216130ec071843e9bb6cfe7a3480936f-0-7\" stroke-width=\"2px\" d=\"M1262,227.0 1262,177.0 1547.0,177.0 1547.0,227.0\" fill=\"none\" stroke=\"currentColor\"/>\n",
       "    <text dy=\"1.25em\" style=\"font-size: 0.8em; letter-spacing: 1px\">\n",
       "        <textPath xlink:href=\"#arrow-216130ec071843e9bb6cfe7a3480936f-0-7\" class=\"displacy-label\" startOffset=\"50%\" side=\"left\" fill=\"currentColor\" text-anchor=\"middle\">case</textPath>\n",
       "    </text>\n",
       "    <path class=\"displacy-arrowhead\" d=\"M1262,229.0 L1258,221.0 1266,221.0\" fill=\"currentColor\"/>\n",
       "</g>\n",
       "\n",
       "<g class=\"displacy-arrow\">\n",
       "    <path class=\"displacy-arc\" id=\"arrow-216130ec071843e9bb6cfe7a3480936f-0-8\" stroke-width=\"2px\" d=\"M1412,227.0 1412,202.0 1544.0,202.0 1544.0,227.0\" fill=\"none\" stroke=\"currentColor\"/>\n",
       "    <text dy=\"1.25em\" style=\"font-size: 0.8em; letter-spacing: 1px\">\n",
       "        <textPath xlink:href=\"#arrow-216130ec071843e9bb6cfe7a3480936f-0-8\" class=\"displacy-label\" startOffset=\"50%\" side=\"left\" fill=\"currentColor\" text-anchor=\"middle\">det</textPath>\n",
       "    </text>\n",
       "    <path class=\"displacy-arrowhead\" d=\"M1412,229.0 L1408,221.0 1416,221.0\" fill=\"currentColor\"/>\n",
       "</g>\n",
       "\n",
       "<g class=\"displacy-arrow\">\n",
       "    <path class=\"displacy-arc\" id=\"arrow-216130ec071843e9bb6cfe7a3480936f-0-9\" stroke-width=\"2px\" d=\"M1112,227.0 1112,152.0 1550.0,152.0 1550.0,227.0\" fill=\"none\" stroke=\"currentColor\"/>\n",
       "    <text dy=\"1.25em\" style=\"font-size: 0.8em; letter-spacing: 1px\">\n",
       "        <textPath xlink:href=\"#arrow-216130ec071843e9bb6cfe7a3480936f-0-9\" class=\"displacy-label\" startOffset=\"50%\" side=\"left\" fill=\"currentColor\" text-anchor=\"middle\">nmod</textPath>\n",
       "    </text>\n",
       "    <path class=\"displacy-arrowhead\" d=\"M1550.0,229.0 L1554.0,221.0 1546.0,221.0\" fill=\"currentColor\"/>\n",
       "</g>\n",
       "</svg></span>"
      ]
     },
     "metadata": {},
     "output_type": "display_data"
    }
   ],
   "execution_count": 118
  },
  {
   "cell_type": "markdown",
   "metadata": {},
   "source": [
    "**2d.** En utilisant `displaCy`, veuillez également afficher l'arbre de dépendances calculé par la pipeline `nlp` pour cette même phrase `s2`.  Pour être analysée et affichée, la phrase doit être transformée en objet `Doc`."
   ]
  },
  {
   "cell_type": "code",
   "metadata": {
    "ExecuteTime": {
     "end_time": "2025-03-27T13:47:35.476604Z",
     "start_time": "2025-03-27T13:47:35.464077Z"
    }
   },
   "source": [
    "# Veuillez écrire votre code ici.\n",
    "display(HTML('<span class=\"tex2jax_ignore\">{}</span>'.format(\n",
    "    displacy.render(nlp(s2.as_doc()), style=\"dep\", options={\"compact\": True}, jupyter=False)\n",
    ")))"
   ],
   "outputs": [
    {
     "data": {
      "text/plain": [
       "<IPython.core.display.HTML object>"
      ],
      "text/html": [
       "<span class=\"tex2jax_ignore\"><svg xmlns=\"http://www.w3.org/2000/svg\" xmlns:xlink=\"http://www.w3.org/1999/xlink\" xml:lang=\"fr\" id=\"507881d57d294ae0b43874179e95d860-0\" class=\"displacy\" width=\"1700\" height=\"362.0\" direction=\"ltr\" style=\"max-width: none; height: 362.0px; color: #000000; background: #ffffff; font-family: Arial; direction: ltr\">\n",
       "<text class=\"displacy-token\" fill=\"currentColor\" text-anchor=\"middle\" y=\"272.0\">\n",
       "    <tspan class=\"displacy-word\" fill=\"currentColor\" x=\"50\">Trois</tspan>\n",
       "    <tspan class=\"displacy-tag\" dy=\"2em\" fill=\"currentColor\" x=\"50\">NUM</tspan>\n",
       "</text>\n",
       "\n",
       "<text class=\"displacy-token\" fill=\"currentColor\" text-anchor=\"middle\" y=\"272.0\">\n",
       "    <tspan class=\"displacy-word\" fill=\"currentColor\" x=\"200\">ans</tspan>\n",
       "    <tspan class=\"displacy-tag\" dy=\"2em\" fill=\"currentColor\" x=\"200\">NOUN</tspan>\n",
       "</text>\n",
       "\n",
       "<text class=\"displacy-token\" fill=\"currentColor\" text-anchor=\"middle\" y=\"272.0\">\n",
       "    <tspan class=\"displacy-word\" fill=\"currentColor\" x=\"350\">plus</tspan>\n",
       "    <tspan class=\"displacy-tag\" dy=\"2em\" fill=\"currentColor\" x=\"350\">ADV</tspan>\n",
       "</text>\n",
       "\n",
       "<text class=\"displacy-token\" fill=\"currentColor\" text-anchor=\"middle\" y=\"272.0\">\n",
       "    <tspan class=\"displacy-word\" fill=\"currentColor\" x=\"500\">tard,</tspan>\n",
       "    <tspan class=\"displacy-tag\" dy=\"2em\" fill=\"currentColor\" x=\"500\">ADV</tspan>\n",
       "</text>\n",
       "\n",
       "<text class=\"displacy-token\" fill=\"currentColor\" text-anchor=\"middle\" y=\"272.0\">\n",
       "    <tspan class=\"displacy-word\" fill=\"currentColor\" x=\"650\">il</tspan>\n",
       "    <tspan class=\"displacy-tag\" dy=\"2em\" fill=\"currentColor\" x=\"650\">PRON</tspan>\n",
       "</text>\n",
       "\n",
       "<text class=\"displacy-token\" fill=\"currentColor\" text-anchor=\"middle\" y=\"272.0\">\n",
       "    <tspan class=\"displacy-word\" fill=\"currentColor\" x=\"800\">tient</tspan>\n",
       "    <tspan class=\"displacy-tag\" dy=\"2em\" fill=\"currentColor\" x=\"800\">VERB</tspan>\n",
       "</text>\n",
       "\n",
       "<text class=\"displacy-token\" fill=\"currentColor\" text-anchor=\"middle\" y=\"272.0\">\n",
       "    <tspan class=\"displacy-word\" fill=\"currentColor\" x=\"950\">un</tspan>\n",
       "    <tspan class=\"displacy-tag\" dy=\"2em\" fill=\"currentColor\" x=\"950\">DET</tspan>\n",
       "</text>\n",
       "\n",
       "<text class=\"displacy-token\" fill=\"currentColor\" text-anchor=\"middle\" y=\"272.0\">\n",
       "    <tspan class=\"displacy-word\" fill=\"currentColor\" x=\"1100\">discours</tspan>\n",
       "    <tspan class=\"displacy-tag\" dy=\"2em\" fill=\"currentColor\" x=\"1100\">NOUN</tspan>\n",
       "</text>\n",
       "\n",
       "<text class=\"displacy-token\" fill=\"currentColor\" text-anchor=\"middle\" y=\"272.0\">\n",
       "    <tspan class=\"displacy-word\" fill=\"currentColor\" x=\"1250\">sur</tspan>\n",
       "    <tspan class=\"displacy-tag\" dy=\"2em\" fill=\"currentColor\" x=\"1250\">ADP</tspan>\n",
       "</text>\n",
       "\n",
       "<text class=\"displacy-token\" fill=\"currentColor\" text-anchor=\"middle\" y=\"272.0\">\n",
       "    <tspan class=\"displacy-word\" fill=\"currentColor\" x=\"1400\">la</tspan>\n",
       "    <tspan class=\"displacy-tag\" dy=\"2em\" fill=\"currentColor\" x=\"1400\">DET</tspan>\n",
       "</text>\n",
       "\n",
       "<text class=\"displacy-token\" fill=\"currentColor\" text-anchor=\"middle\" y=\"272.0\">\n",
       "    <tspan class=\"displacy-word\" fill=\"currentColor\" x=\"1550\">crise.</tspan>\n",
       "    <tspan class=\"displacy-tag\" dy=\"2em\" fill=\"currentColor\" x=\"1550\">NOUN</tspan>\n",
       "</text>\n",
       "\n",
       "<g class=\"displacy-arrow\">\n",
       "    <path class=\"displacy-arc\" id=\"arrow-507881d57d294ae0b43874179e95d860-0-0\" stroke-width=\"2px\" d=\"M62,227.0 62,202.0 194.0,202.0 194.0,227.0\" fill=\"none\" stroke=\"currentColor\"/>\n",
       "    <text dy=\"1.25em\" style=\"font-size: 0.8em; letter-spacing: 1px\">\n",
       "        <textPath xlink:href=\"#arrow-507881d57d294ae0b43874179e95d860-0-0\" class=\"displacy-label\" startOffset=\"50%\" side=\"left\" fill=\"currentColor\" text-anchor=\"middle\">nummod</textPath>\n",
       "    </text>\n",
       "    <path class=\"displacy-arrowhead\" d=\"M62,229.0 L58,221.0 66,221.0\" fill=\"currentColor\"/>\n",
       "</g>\n",
       "\n",
       "<g class=\"displacy-arrow\">\n",
       "    <path class=\"displacy-arc\" id=\"arrow-507881d57d294ae0b43874179e95d860-0-1\" stroke-width=\"2px\" d=\"M212,227.0 212,202.0 344.0,202.0 344.0,227.0\" fill=\"none\" stroke=\"currentColor\"/>\n",
       "    <text dy=\"1.25em\" style=\"font-size: 0.8em; letter-spacing: 1px\">\n",
       "        <textPath xlink:href=\"#arrow-507881d57d294ae0b43874179e95d860-0-1\" class=\"displacy-label\" startOffset=\"50%\" side=\"left\" fill=\"currentColor\" text-anchor=\"middle\">obl:mod</textPath>\n",
       "    </text>\n",
       "    <path class=\"displacy-arrowhead\" d=\"M212,229.0 L208,221.0 216,221.0\" fill=\"currentColor\"/>\n",
       "</g>\n",
       "\n",
       "<g class=\"displacy-arrow\">\n",
       "    <path class=\"displacy-arc\" id=\"arrow-507881d57d294ae0b43874179e95d860-0-2\" stroke-width=\"2px\" d=\"M362,227.0 362,202.0 494.0,202.0 494.0,227.0\" fill=\"none\" stroke=\"currentColor\"/>\n",
       "    <text dy=\"1.25em\" style=\"font-size: 0.8em; letter-spacing: 1px\">\n",
       "        <textPath xlink:href=\"#arrow-507881d57d294ae0b43874179e95d860-0-2\" class=\"displacy-label\" startOffset=\"50%\" side=\"left\" fill=\"currentColor\" text-anchor=\"middle\">advmod</textPath>\n",
       "    </text>\n",
       "    <path class=\"displacy-arrowhead\" d=\"M362,229.0 L358,221.0 366,221.0\" fill=\"currentColor\"/>\n",
       "</g>\n",
       "\n",
       "<g class=\"displacy-arrow\">\n",
       "    <path class=\"displacy-arc\" id=\"arrow-507881d57d294ae0b43874179e95d860-0-3\" stroke-width=\"2px\" d=\"M512,227.0 512,177.0 797.0,177.0 797.0,227.0\" fill=\"none\" stroke=\"currentColor\"/>\n",
       "    <text dy=\"1.25em\" style=\"font-size: 0.8em; letter-spacing: 1px\">\n",
       "        <textPath xlink:href=\"#arrow-507881d57d294ae0b43874179e95d860-0-3\" class=\"displacy-label\" startOffset=\"50%\" side=\"left\" fill=\"currentColor\" text-anchor=\"middle\">advmod</textPath>\n",
       "    </text>\n",
       "    <path class=\"displacy-arrowhead\" d=\"M512,229.0 L508,221.0 516,221.0\" fill=\"currentColor\"/>\n",
       "</g>\n",
       "\n",
       "<g class=\"displacy-arrow\">\n",
       "    <path class=\"displacy-arc\" id=\"arrow-507881d57d294ae0b43874179e95d860-0-4\" stroke-width=\"2px\" d=\"M662,227.0 662,202.0 794.0,202.0 794.0,227.0\" fill=\"none\" stroke=\"currentColor\"/>\n",
       "    <text dy=\"1.25em\" style=\"font-size: 0.8em; letter-spacing: 1px\">\n",
       "        <textPath xlink:href=\"#arrow-507881d57d294ae0b43874179e95d860-0-4\" class=\"displacy-label\" startOffset=\"50%\" side=\"left\" fill=\"currentColor\" text-anchor=\"middle\">nsubj</textPath>\n",
       "    </text>\n",
       "    <path class=\"displacy-arrowhead\" d=\"M662,229.0 L658,221.0 666,221.0\" fill=\"currentColor\"/>\n",
       "</g>\n",
       "\n",
       "<g class=\"displacy-arrow\">\n",
       "    <path class=\"displacy-arc\" id=\"arrow-507881d57d294ae0b43874179e95d860-0-5\" stroke-width=\"2px\" d=\"M962,227.0 962,202.0 1094.0,202.0 1094.0,227.0\" fill=\"none\" stroke=\"currentColor\"/>\n",
       "    <text dy=\"1.25em\" style=\"font-size: 0.8em; letter-spacing: 1px\">\n",
       "        <textPath xlink:href=\"#arrow-507881d57d294ae0b43874179e95d860-0-5\" class=\"displacy-label\" startOffset=\"50%\" side=\"left\" fill=\"currentColor\" text-anchor=\"middle\">det</textPath>\n",
       "    </text>\n",
       "    <path class=\"displacy-arrowhead\" d=\"M962,229.0 L958,221.0 966,221.0\" fill=\"currentColor\"/>\n",
       "</g>\n",
       "\n",
       "<g class=\"displacy-arrow\">\n",
       "    <path class=\"displacy-arc\" id=\"arrow-507881d57d294ae0b43874179e95d860-0-6\" stroke-width=\"2px\" d=\"M812,227.0 812,177.0 1097.0,177.0 1097.0,227.0\" fill=\"none\" stroke=\"currentColor\"/>\n",
       "    <text dy=\"1.25em\" style=\"font-size: 0.8em; letter-spacing: 1px\">\n",
       "        <textPath xlink:href=\"#arrow-507881d57d294ae0b43874179e95d860-0-6\" class=\"displacy-label\" startOffset=\"50%\" side=\"left\" fill=\"currentColor\" text-anchor=\"middle\">obj</textPath>\n",
       "    </text>\n",
       "    <path class=\"displacy-arrowhead\" d=\"M1097.0,229.0 L1101.0,221.0 1093.0,221.0\" fill=\"currentColor\"/>\n",
       "</g>\n",
       "\n",
       "<g class=\"displacy-arrow\">\n",
       "    <path class=\"displacy-arc\" id=\"arrow-507881d57d294ae0b43874179e95d860-0-7\" stroke-width=\"2px\" d=\"M1262,227.0 1262,177.0 1547.0,177.0 1547.0,227.0\" fill=\"none\" stroke=\"currentColor\"/>\n",
       "    <text dy=\"1.25em\" style=\"font-size: 0.8em; letter-spacing: 1px\">\n",
       "        <textPath xlink:href=\"#arrow-507881d57d294ae0b43874179e95d860-0-7\" class=\"displacy-label\" startOffset=\"50%\" side=\"left\" fill=\"currentColor\" text-anchor=\"middle\">case</textPath>\n",
       "    </text>\n",
       "    <path class=\"displacy-arrowhead\" d=\"M1262,229.0 L1258,221.0 1266,221.0\" fill=\"currentColor\"/>\n",
       "</g>\n",
       "\n",
       "<g class=\"displacy-arrow\">\n",
       "    <path class=\"displacy-arc\" id=\"arrow-507881d57d294ae0b43874179e95d860-0-8\" stroke-width=\"2px\" d=\"M1412,227.0 1412,202.0 1544.0,202.0 1544.0,227.0\" fill=\"none\" stroke=\"currentColor\"/>\n",
       "    <text dy=\"1.25em\" style=\"font-size: 0.8em; letter-spacing: 1px\">\n",
       "        <textPath xlink:href=\"#arrow-507881d57d294ae0b43874179e95d860-0-8\" class=\"displacy-label\" startOffset=\"50%\" side=\"left\" fill=\"currentColor\" text-anchor=\"middle\">det</textPath>\n",
       "    </text>\n",
       "    <path class=\"displacy-arrowhead\" d=\"M1412,229.0 L1408,221.0 1416,221.0\" fill=\"currentColor\"/>\n",
       "</g>\n",
       "\n",
       "<g class=\"displacy-arrow\">\n",
       "    <path class=\"displacy-arc\" id=\"arrow-507881d57d294ae0b43874179e95d860-0-9\" stroke-width=\"2px\" d=\"M1112,227.0 1112,152.0 1550.0,152.0 1550.0,227.0\" fill=\"none\" stroke=\"currentColor\"/>\n",
       "    <text dy=\"1.25em\" style=\"font-size: 0.8em; letter-spacing: 1px\">\n",
       "        <textPath xlink:href=\"#arrow-507881d57d294ae0b43874179e95d860-0-9\" class=\"displacy-label\" startOffset=\"50%\" side=\"left\" fill=\"currentColor\" text-anchor=\"middle\">nmod</textPath>\n",
       "    </text>\n",
       "    <path class=\"displacy-arrowhead\" d=\"M1550.0,229.0 L1554.0,221.0 1546.0,221.0\" fill=\"currentColor\"/>\n",
       "</g>\n",
       "</svg></span>"
      ]
     },
     "metadata": {},
     "output_type": "display_data"
    }
   ],
   "execution_count": 114
  },
  {
   "cell_type": "markdown",
   "metadata": {},
   "source": [
    "**2e.** Veuillez comparer les deux arbres de dépendances et indiquer ici les différences.  Quel est le taux de correction de la pipeline `nlp` sur cette phrase ?\n",
    "\n",
    "Suggestion : il peut être utile de sauvegarder les deux arbres dans des images SVG, en écrivant dans un fichier le résultat retourné par `displacy.render` avec l'option `jupyter = False`."
   ]
  },
  {
   "metadata": {},
   "cell_type": "markdown",
   "source": [
    "> La phrase contient 13 tokens, dont 2 tokens de ponctuation et 10 relations entre les tokens.\n",
    ">\n",
    "> La pipeline `nlp` génère également 10 relations. Il y a toutefois deux erreurs:\n",
    ">   - le mot \"ans\" devrait dépendre de \"tient\" mais il dépend que de \"plus\" avec le résultat de la pipeline `nlp`.\n",
    ">   - le mot \"tard\" devrait dépendre de \"ans\" mais il dépend de \"tien\" avec le résultat de la pipeline `nlp`.\n",
    ">\n",
    "> Le taux de correction est donc de 11/13 = 0.846."
   ]
  },
  {
   "cell_type": "markdown",
   "metadata": {},
   "source": [
    "**2f.**  Veuillez appliquer le `Scorer` de spaCy (voir Labo 2) et afficher les deux scores qu'il produit pour l'analyse en dépendances (avec trois décimales après la virgule).  Retrouvez-vous les scores de la question précédente ? Pourquoi ?"
   ]
  },
  {
   "cell_type": "code",
   "metadata": {
    "ExecuteTime": {
     "end_time": "2025-03-27T13:17:17.682498Z",
     "start_time": "2025-03-27T13:17:17.678466Z"
    }
   },
   "source": [
    "from spacy.scorer import Scorer\n",
    "from spacy.training import Example"
   ],
   "outputs": [],
   "execution_count": 69
  },
  {
   "cell_type": "code",
   "metadata": {
    "ExecuteTime": {
     "end_time": "2025-03-27T13:59:29.535938Z",
     "start_time": "2025-03-27T13:59:29.343489Z"
    }
   },
   "source": [
    "# Veuillez écrire votre code et votre réponse ici.\n",
    "score = Scorer().score_deps([Example(nlp(s2.as_doc()), s2.as_doc())], \"dep\")\n",
    "print(f\"UAS: {score['dep_uas']:.3f}\")\n",
    "print(f\"LAS: {score['dep_las']:.3f}\")"
   ],
   "outputs": [
    {
     "name": "stdout",
     "output_type": "stream",
     "text": [
      "UAS: 0.846\n",
      "LAS: 0.846\n"
     ]
    }
   ],
   "execution_count": 120
  },
  {
   "metadata": {},
   "cell_type": "markdown",
   "source": "> Le score est légèrement différent de celui qui a été calculé à la main, certainement parce que le scorer établit un f-score sur une comparaison plus complète"
  },
  {
   "cell_type": "markdown",
   "metadata": {},
   "source": [
    "## 3. Évaluation du *dependency parser* de `fr_core_news_sm` sur l'ensemble des phrases test"
   ]
  },
  {
   "cell_type": "markdown",
   "metadata": {},
   "source": [
    "**3a.** Veuillez calculer les deux scores qui caractérisent l'analyseur en dépendances de la pipeline `nlp` sur toutes les données de test présentes dans `test_data`.  Comment se comparent ces scores avec ceux mentionnés [dans la documentation de fr_core_news_sm](https://spacy.io/models/fr#fr_core_news_sm) ?"
   ]
  },
  {
   "cell_type": "code",
   "metadata": {
    "ExecuteTime": {
     "end_time": "2025-03-27T14:13:00.451099Z",
     "start_time": "2025-03-27T14:12:58.411578Z"
    }
   },
   "source": [
    "# Veuillez écrire votre code ici.\n",
    "score = Scorer().score([\n",
    "    Example(\n",
    "        nlp(Doc(nlp.vocab, [token.text for token in doc])),\n",
    "        doc\n",
    "    ) for doc in test_data.get_docs(nlp.vocab)\n",
    "])\n",
    "print(f\"UAS: {score['dep_uas']:.3f}\")\n",
    "print(f\"LAS: {score['dep_las']:.3f}\")"
   ],
   "outputs": [
    {
     "name": "stdout",
     "output_type": "stream",
     "text": [
      "UAS: 0.801\n",
      "LAS: 0.675\n"
     ]
    }
   ],
   "execution_count": 144
  },
  {
   "metadata": {},
   "cell_type": "markdown",
   "source": [
    "> La pipeline indique un score de 0.88 pour le UAS et 0.84 pour le LAS, nos scores pour le unlabelled sont assez similaires, mais pour le labelled, il y a une plus grande différence. On peut attribuer ça au fait que le modèle utilisé n'a pas été entrainé sur le même corpus que celui que nous utilisons dans nos tests. Ainsi, il se peut que les relations de dépendances ne soient pas attribuées de la même manière.\n",
    ">\n",
    "> Le labelling étant plus précis, il est normal que le score soit plus bas si le modèle n'a pas assez d'informations contextuelles pour attribuer les relations de dépendances correctement."
   ]
  },
  {
   "cell_type": "markdown",
   "metadata": {},
   "source": [
    "**3b.** Le *scorer* fournit également des scores détaillés pour chaque type de relation de dépendances.  Veuillez afficher ces valeurs dans un tableau proprement formaté, trié par score F1 décroissant, avec trois décimales."
   ]
  },
  {
   "cell_type": "code",
   "metadata": {
    "ExecuteTime": {
     "end_time": "2025-03-27T14:20:21.321263Z",
     "start_time": "2025-03-27T14:20:21.310215Z"
    }
   },
   "source": [
    "# Veuillez écrire votre code ici.\n",
    "from tabulate import tabulate\n",
    "\n",
    "dep_las_per_type = score[\"dep_las_per_type\"]\n",
    "dep_las_per_type = sorted(dep_las_per_type.items(), key=lambda x: x[1][\"f\"], reverse=True)\n",
    "\n",
    "print(tabulate(\n",
    "    [(dep, f\"{score['p']:.3f}\", f\"{score['r']:.3f}\", f\"{score['f']:.3f}\") for dep, score in dep_las_per_type],\n",
    "    headers=[\"Dep\", \"Precision\", \"Recall\", \"F1\"],\n",
    "    tablefmt=\"fancy_grid\"\n",
    "))"
   ],
   "outputs": [
    {
     "name": "stdout",
     "output_type": "stream",
     "text": [
      "╒══════════════╤═════════════╤══════════╤═══════╕\n",
      "│ Dep          │   Precision │   Recall │    F1 │\n",
      "╞══════════════╪═════════════╪══════════╪═══════╡\n",
      "│ det          │       0.935 │    0.937 │ 0.936 │\n",
      "├──────────────┼─────────────┼──────────┼───────┤\n",
      "│ case         │       0.876 │    0.923 │ 0.899 │\n",
      "├──────────────┼─────────────┼──────────┼───────┤\n",
      "│ cc           │       0.805 │    0.798 │ 0.802 │\n",
      "├──────────────┼─────────────┼──────────┼───────┤\n",
      "│ aux:pass     │       0.636 │    0.925 │ 0.754 │\n",
      "├──────────────┼─────────────┼──────────┼───────┤\n",
      "│ cop          │       0.734 │    0.755 │ 0.745 │\n",
      "├──────────────┼─────────────┼──────────┼───────┤\n",
      "│ root         │       0.695 │    0.8   │ 0.744 │\n",
      "├──────────────┼─────────────┼──────────┼───────┤\n",
      "│ nummod       │       0.763 │    0.726 │ 0.744 │\n",
      "├──────────────┼─────────────┼──────────┼───────┤\n",
      "│ mark         │       0.714 │    0.758 │ 0.735 │\n",
      "├──────────────┼─────────────┼──────────┼───────┤\n",
      "│ nsubj:pass   │       0.661 │    0.82  │ 0.732 │\n",
      "├──────────────┼─────────────┼──────────┼───────┤\n",
      "│ nsubj        │       0.787 │    0.684 │ 0.732 │\n",
      "├──────────────┼─────────────┼──────────┼───────┤\n",
      "│ amod         │       0.706 │    0.748 │ 0.727 │\n",
      "├──────────────┼─────────────┼──────────┼───────┤\n",
      "│ advmod       │       0.719 │    0.694 │ 0.707 │\n",
      "├──────────────┼─────────────┼──────────┼───────┤\n",
      "│ obj          │       0.712 │    0.68  │ 0.696 │\n",
      "├──────────────┼─────────────┼──────────┼───────┤\n",
      "│ nmod         │       0.616 │    0.726 │ 0.667 │\n",
      "├──────────────┼─────────────┼──────────┼───────┤\n",
      "│ flat:name    │       0.714 │    0.588 │ 0.645 │\n",
      "├──────────────┼─────────────┼──────────┼───────┤\n",
      "│ xcomp        │       0.508 │    0.623 │ 0.559 │\n",
      "├──────────────┼─────────────┼──────────┼───────┤\n",
      "│ acl:relcl    │       0.525 │    0.56  │ 0.542 │\n",
      "├──────────────┼─────────────┼──────────┼───────┤\n",
      "│ acl          │       0.43  │    0.413 │ 0.421 │\n",
      "├──────────────┼─────────────┼──────────┼───────┤\n",
      "│ fixed        │       0.589 │    0.32  │ 0.415 │\n",
      "├──────────────┼─────────────┼──────────┼───────┤\n",
      "│ ccomp        │       0.525 │    0.333 │ 0.408 │\n",
      "├──────────────┼─────────────┼──────────┼───────┤\n",
      "│ conj         │       0.402 │    0.393 │ 0.398 │\n",
      "├──────────────┼─────────────┼──────────┼───────┤\n",
      "│ iobj         │       0.31  │    0.52  │ 0.388 │\n",
      "├──────────────┼─────────────┼──────────┼───────┤\n",
      "│ advcl        │       0.379 │    0.382 │ 0.38  │\n",
      "├──────────────┼─────────────┼──────────┼───────┤\n",
      "│ appos        │       0.482 │    0.229 │ 0.31  │\n",
      "├──────────────┼─────────────┼──────────┼───────┤\n",
      "│ parataxis    │       0.056 │    0.031 │ 0.04  │\n",
      "├──────────────┼─────────────┼──────────┼───────┤\n",
      "│ obl          │       0     │    0     │ 0     │\n",
      "├──────────────┼─────────────┼──────────┼───────┤\n",
      "│ aux          │       0     │    0     │ 0     │\n",
      "├──────────────┼─────────────┼──────────┼───────┤\n",
      "│ expl         │       0     │    0     │ 0     │\n",
      "├──────────────┼─────────────┼──────────┼───────┤\n",
      "│ dep          │       0     │    0     │ 0     │\n",
      "├──────────────┼─────────────┼──────────┼───────┤\n",
      "│ aux:tense    │       0     │    0     │ 0     │\n",
      "├──────────────┼─────────────┼──────────┼───────┤\n",
      "│ obl:mod      │       0     │    0     │ 0     │\n",
      "├──────────────┼─────────────┼──────────┼───────┤\n",
      "│ obl:arg      │       0     │    0     │ 0     │\n",
      "├──────────────┼─────────────┼──────────┼───────┤\n",
      "│ obl:agent    │       0     │    0     │ 0     │\n",
      "├──────────────┼─────────────┼──────────┼───────┤\n",
      "│ expl:subj    │       0     │    0     │ 0     │\n",
      "├──────────────┼─────────────┼──────────┼───────┤\n",
      "│ expl:comp    │       0     │    0     │ 0     │\n",
      "├──────────────┼─────────────┼──────────┼───────┤\n",
      "│ obj:agent    │       0     │    0     │ 0     │\n",
      "├──────────────┼─────────────┼──────────┼───────┤\n",
      "│ aux:caus     │       0     │    0     │ 0     │\n",
      "├──────────────┼─────────────┼──────────┼───────┤\n",
      "│ nsubj:caus   │       0     │    0     │ 0     │\n",
      "├──────────────┼─────────────┼──────────┼───────┤\n",
      "│ compound     │       0     │    0     │ 0     │\n",
      "├──────────────┼─────────────┼──────────┼───────┤\n",
      "│ expl:pass    │       0     │    0     │ 0     │\n",
      "├──────────────┼─────────────┼──────────┼───────┤\n",
      "│ iobj:agent   │       0     │    0     │ 0     │\n",
      "├──────────────┼─────────────┼──────────┼───────┤\n",
      "│ flat:foreign │       0     │    0     │ 0     │\n",
      "├──────────────┼─────────────┼──────────┼───────┤\n",
      "│ discourse    │       0     │    0     │ 0     │\n",
      "├──────────────┼─────────────┼──────────┼───────┤\n",
      "│ csubj        │       0     │    0     │ 0     │\n",
      "╘══════════════╧═════════════╧══════════╧═══════╛\n"
     ]
    }
   ],
   "execution_count": 150
  },
  {
   "cell_type": "markdown",
   "metadata": {},
   "source": [
    "## 4. Entraîner puis évaluer un nouveau *parser* français dans spaCy\n",
    "\n",
    "Le but de cette partie est d'entraîner une pipeline spaCy pour le français sur les données de `fr-ud-train.conllu`, puis de comparer le modèle obtenu avec le modèle prêt-à-l'emploi testé au point précédent (voir le Labo 2 et les [instructions de spaCy](https://spacy.io/usage/training#quickstart)).\n",
    "\n",
    "**4a.** Paramétrage de l'entraînement :\n",
    "* générez un fichier de départ grâce à [l'interface web](https://spacy.io/usage/training#quickstart), en indiquant que vous gardez seulement les composants `morphologizer` et `parser` dans la pipeline ;\n",
    "* sauvegardez le code généré par spaCy dans un fichier local `base_config.cfg` ;\n",
    "* générez un fichier `config.cfg` sur votre ordinateur en exécutant la ligne de commande suivante. "
   ]
  },
  {
   "cell_type": "code",
   "metadata": {
    "ExecuteTime": {
     "end_time": "2025-03-27T14:21:46.889388Z",
     "start_time": "2025-03-27T14:21:40.799014Z"
    }
   },
   "source": [
    "!python -m spacy init fill-config base_config.cfg config.cfg"
   ],
   "outputs": [
    {
     "name": "stdout",
     "output_type": "stream",
     "text": [
      "\u001B[38;5;2m✔ Auto-filled config with all values\u001B[0m\r\n",
      "\u001B[38;5;2m✔ Saved config\u001B[0m\r\n",
      "config.cfg\r\n",
      "You can now add your data and train your pipeline:\r\n",
      "python -m spacy train config.cfg --paths.train ./train.spacy --paths.dev ./dev.spacy\r\n"
     ]
    }
   ],
   "execution_count": 152
  },
  {
   "cell_type": "markdown",
   "metadata": {},
   "source": [
    "Veuillez effectuer l'entraînement avec la ligne de commande suivante.  Faites plusieurs essais, d'abord avec un petit nombre d'époques (*à indiquer dans config.cfg*), pour estimer le temps nécessaire et observer les messages affichés.  Augmentez progressivement le nombre d'époques, jusqu'à ce que les scores sur le jeu de validation n'augmentent plus (si vous avez le temps).  Pendant combien d'époques entraînez-vous au final ?"
   ]
  },
  {
   "cell_type": "code",
   "metadata": {
    "ExecuteTime": {
     "end_time": "2025-03-27T14:59:58.217558Z",
     "start_time": "2025-03-27T14:22:48.523285Z"
    }
   },
   "source": [
    "# Note : il vaut mieux exécuter cela directement dans une fenêtre de commande, pour voir les logs en temps réel.\n",
    "\n",
    "# !python -m spacy train config.cfg \\\n",
    "#     --output ./myDEPparser1-5epoch \\\n",
    "#     --paths.train ../pw2/spacy_data/fr-ud-train.spacy \\\n",
    "#     --paths.dev ../pw2/spacy_data/fr-ud-dev.spacy \\\n",
    "#     --verbose"
   ],
   "outputs": [
    {
     "name": "stdout",
     "output_type": "stream",
     "text": [
      "[2025-03-27 15:22:50,247] [DEBUG] Config overrides from CLI: ['paths.train', 'paths.dev']\r\n",
      "\u001B[38;5;2m✔ Created output directory: myDEPparser1-5epoch\u001B[0m\r\n",
      "\u001B[38;5;4mℹ Saving to output directory: myDEPparser1-5epoch\u001B[0m\r\n",
      "\u001B[38;5;4mℹ Using CPU\u001B[0m\r\n",
      "\u001B[1m\r\n",
      "=========================== Initializing pipeline ===========================\u001B[0m\r\n",
      "[2025-03-27 15:22:54,754] [INFO] Set up nlp object from config\r\n",
      "[2025-03-27 15:22:54,768] [DEBUG] Loading corpus from path: ../pw2/spacy_data/fr-ud-dev.spacy\r\n",
      "[2025-03-27 15:22:54,769] [DEBUG] Loading corpus from path: ../pw2/spacy_data/fr-ud-train.spacy\r\n",
      "[2025-03-27 15:22:54,770] [INFO] Pipeline: ['tok2vec', 'morphologizer', 'parser']\r\n",
      "[2025-03-27 15:22:54,773] [INFO] Created vocabulary\r\n",
      "[2025-03-27 15:22:54,773] [INFO] Finished initializing nlp object\r\n",
      "[2025-03-27 15:23:37,533] [INFO] Initialized pipeline components: ['tok2vec', 'morphologizer', 'parser']\r\n",
      "\u001B[38;5;2m✔ Initialized pipeline\u001B[0m\r\n",
      "\u001B[1m\r\n",
      "============================= Training pipeline =============================\u001B[0m\r\n",
      "[2025-03-27 15:23:37,547] [DEBUG] Loading corpus from path: ../pw2/spacy_data/fr-ud-dev.spacy\r\n",
      "[2025-03-27 15:23:37,549] [DEBUG] Loading corpus from path: ../pw2/spacy_data/fr-ud-train.spacy\r\n",
      "\u001B[38;5;4mℹ Pipeline: ['tok2vec', 'morphologizer', 'parser']\u001B[0m\r\n",
      "\u001B[38;5;4mℹ Initial learn rate: 0.001\u001B[0m\r\n",
      "E    #       LOSS TOK2VEC  LOSS MORPH...  LOSS PARSER  POS_ACC  MORPH_ACC  DEP_UAS  DEP_LAS  SENTS_F  SCORE \r\n",
      "---  ------  ------------  -------------  -----------  -------  ---------  -------  -------  -------  ------\r\n",
      "  0       0          0.00         224.53       504.38    34.04      29.37    24.62     9.44     0.15    0.24\r\n",
      "  0     200       4060.55       19251.43     37267.02    87.39      82.74    71.67    63.52    76.87    0.76\r\n",
      "  0     400       6078.55        9631.12     25636.29    90.10      87.65    76.85    70.36    89.21    0.81\r\n",
      "  0     600       6089.60        7225.07     22198.68    91.28      89.56    78.60    73.04    93.36    0.83\r\n",
      "  0     800       6720.73        6589.13     22060.12    91.95      90.44    80.21    75.17    91.62    0.84\r\n",
      "  0    1000       6487.70        5660.14     19827.29    92.15      91.02    80.79    75.83    94.51    0.85\r\n",
      "  0    1200       6675.89        5334.08     19243.78    92.41      91.38    81.22    76.37    94.70    0.85\r\n",
      "  0    1400       7180.55        4952.55     19190.49    92.69      91.76    81.80    77.13    94.38    0.86\r\n",
      "  1    1600       6772.04        4375.73     17548.54    92.88      92.10    82.20    77.45    95.27    0.86\r\n",
      "  1    1800       7216.21        3979.11     16831.81    92.83      92.10    82.09    77.76    94.17    0.86\r\n",
      "  1    2000       7499.67        4077.74     16852.93    92.84      92.19    82.52    78.13    94.85    0.86\r\n",
      "  1    2200       8104.87        3889.65     16943.18    92.87      92.23    82.44    78.20    95.67    0.86\r\n",
      "  1    2400       8051.83        4030.38     16697.38    93.06      92.41    83.26    79.20    95.17    0.87\r\n",
      "  1    2600       8482.20        4089.08     17322.71    93.05      92.51    83.07    78.96    95.71    0.87\r\n",
      "  1    2800       8631.11        4047.39     16992.46    93.12      92.62    83.52    79.54    95.82    0.87\r\n",
      "  2    3000       8762.61        3805.62     16666.61    93.28      92.78    83.85    79.87    95.91    0.87\r\n",
      "  2    3200       8441.62        3119.77     14858.84    93.23      92.71    83.92    79.80    95.98    0.87\r\n",
      "  2    3400       9023.56        3356.34     15283.27    93.22      92.69    83.63    79.79    95.60    0.87\r\n",
      "  2    3600       9412.72        3440.23     15446.00    93.23      92.73    83.34    79.42    95.76    0.87\r\n",
      "  2    3800       9563.30        3349.41     14953.08    93.34      92.86    84.15    80.12    95.61    0.88\r\n",
      "  2    4000       9472.35        3150.19     14940.88    93.34      92.91    84.01    80.21    95.31    0.88\r\n",
      "  2    4200       9958.62        3270.04     15226.65    93.39      92.97    84.23    80.32    95.88    0.88\r\n",
      "  3    4400       9791.16        3197.65     14490.56    93.45      93.04    84.41    80.84    95.81    0.88\r\n",
      "  3    4600      10543.70        2917.72     14337.23    93.33      92.79    84.34    80.43    95.68    0.88\r\n",
      "  3    4800      10721.12        2887.70     13873.54    93.42      92.98    84.01    80.12    95.59    0.88\r\n",
      "  3    5000      11330.71        2901.47     14148.54    93.40      92.97    84.38    80.58    95.63    0.88\r\n",
      "  3    5200      11361.94        2834.30     14421.46    93.36      92.89    84.45    80.52    95.52    0.88\r\n",
      "  3    5400      11207.81        2809.29     13976.77    93.33      92.97    84.18    80.34    95.95    0.88\r\n",
      "  3    5600      11284.86        2985.10     13710.67    93.50      93.10    84.29    80.54    95.75    0.88\r\n",
      "  3    5800      11816.28        2925.35     13951.97    93.54      93.06    84.76    81.01    95.78    0.88\r\n",
      "  4    6000      11719.93        2523.61     13098.11    93.57      93.11    84.79    81.21    95.65    0.88\r\n",
      "  4    6200      12267.38        2653.84     13096.07    93.57      93.06    84.60    80.91    96.05    0.88\r\n",
      "  4    6400      12905.56        2554.01     13068.55    93.47      93.12    84.86    81.11    95.40    0.88\r\n",
      "  4    6600      13658.85        2654.71     13701.33    93.56      93.03    84.86    81.34    96.01    0.88\r\n",
      "  4    6800      13551.06        2505.36     13276.12    93.57      93.20    84.93    81.23    95.82    0.88\r\n",
      "  4    7000      14230.18        2710.39     13604.25    93.53      93.17    84.97    81.39    95.78    0.88\r\n",
      "  4    7200      13680.95        2555.98     13239.29    93.58      93.04    85.07    81.40    96.02    0.88\r\n",
      "  5    7400      14209.67        2559.19     12947.13    93.56      93.11    84.93    81.43    96.16    0.88\r\n",
      "  5    7600      14127.15        2308.53     12115.39    93.52      93.08    85.02    81.45    95.72    0.88\r\n",
      "^C\r\n"
     ]
    }
   ],
   "execution_count": 153
  },
  {
   "metadata": {},
   "cell_type": "markdown",
   "source": "> Nous avons laissé la configuration par défaut qui utilise un paramètre de \"patience\" pour déterminer lorsque l'entraînement doit s'arrêter. Cela a pris 5 époques pour que le modèle atteigne son meilleur score sur le jeu de validation.\n"
  },
  {
   "cell_type": "markdown",
   "metadata": {},
   "source": [
    "**4b.**  Veuillez charger le meilleur modèle (pipeline) dans la variable `nlp2` et afficher ses scores sur les données de test.  Comment se comparent les résultats avec les précédents ?"
   ]
  },
  {
   "cell_type": "code",
   "metadata": {
    "ExecuteTime": {
     "end_time": "2025-03-27T15:01:28.697008Z",
     "start_time": "2025-03-27T15:01:25.556126Z"
    }
   },
   "source": [
    "# Veuillez écrire votre code ici.\n",
    "nlp2 = spacy.load(\"./myDEPparser1-5epoch/model-best\")\n",
    "test_data = DocBin().from_disk(\"../pw2/spacy_data/fr-ud-test.spacy\")\n",
    "\n",
    "score = Scorer().score([\n",
    "    Example(\n",
    "        nlp2(Doc(nlp2.vocab, [token.text for token in doc])),\n",
    "        doc\n",
    "    ) for doc in test_data.get_docs(nlp2.vocab)\n",
    "])\n",
    "\n",
    "print(f\"UAS: {score['dep_uas']:.3f}\")\n",
    "print(f\"LAS: {score['dep_las']:.3f}\")"
   ],
   "outputs": [
    {
     "name": "stdout",
     "output_type": "stream",
     "text": [
      "UAS: 0.877\n",
      "LAS: 0.832\n"
     ]
    }
   ],
   "execution_count": 155
  },
  {
   "metadata": {},
   "cell_type": "markdown",
   "source": "> Le résultat du UAS est similaire, on voit par contre une grande augmentation dans le résultat du LAS. Ce qui confirme l'hypothèse que le modèle prêt-à-l'emploi n'a pas été entraîné sur le même corpus que celui que nous utilisons pour nos tests. Et que d'avoir un modèle entrainé sur un corpus similaire permet d'obtenir de meilleurs résultats en termes de labelling des dépendances."
  },
  {
   "cell_type": "markdown",
   "metadata": {},
   "source": [
    "**4c.** Veuillez afficher les scores détaillés pour chaque type de relation de dépendances, dans un tableau formaté comme au 3b."
   ]
  },
  {
   "cell_type": "code",
   "metadata": {
    "ExecuteTime": {
     "end_time": "2025-03-27T15:01:51.408117Z",
     "start_time": "2025-03-27T15:01:51.399649Z"
    }
   },
   "source": [
    "# Veuillez écrire votre code ici.\n",
    "\n",
    "dep_las_per_type = score[\"dep_las_per_type\"]\n",
    "dep_las_per_type = sorted(dep_las_per_type.items(), key=lambda x: x[1][\"f\"], reverse=True)\n",
    "\n",
    "print(tabulate(\n",
    "    [(dep, f\"{score['p']:.3f}\", f\"{score['r']:.3f}\", f\"{score['f']:.3f}\") for dep, score in dep_las_per_type],\n",
    "    headers=[\"Dep\", \"Precision\", \"Recall\", \"F1\"],\n",
    "    tablefmt=\"fancy_grid\"\n",
    "))"
   ],
   "outputs": [
    {
     "name": "stdout",
     "output_type": "stream",
     "text": [
      "╒════════════╤═════════════╤══════════╤═══════╕\n",
      "│ Dep        │   Precision │   Recall │    F1 │\n",
      "╞════════════╪═════════════╪══════════╪═══════╡\n",
      "│ det        │       0.97  │    0.982 │ 0.976 │\n",
      "├────────────┼─────────────┼──────────┼───────┤\n",
      "│ case       │       0.921 │    0.962 │ 0.941 │\n",
      "├────────────┼─────────────┼──────────┼───────┤\n",
      "│ aux        │       0.94  │    0.874 │ 0.906 │\n",
      "├────────────┼─────────────┼──────────┼───────┤\n",
      "│ cc         │       0.898 │    0.888 │ 0.893 │\n",
      "├────────────┼─────────────┼──────────┼───────┤\n",
      "│ aux:caus   │       0.917 │    0.846 │ 0.88  │\n",
      "├────────────┼─────────────┼──────────┼───────┤\n",
      "│ root       │       0.886 │    0.863 │ 0.875 │\n",
      "├────────────┼─────────────┼──────────┼───────┤\n",
      "│ amod       │       0.866 │    0.884 │ 0.874 │\n",
      "├────────────┼─────────────┼──────────┼───────┤\n",
      "│ obj        │       0.828 │    0.901 │ 0.863 │\n",
      "├────────────┼─────────────┼──────────┼───────┤\n",
      "│ nsubj      │       0.852 │    0.855 │ 0.853 │\n",
      "├────────────┼─────────────┼──────────┼───────┤\n",
      "│ nummod     │       0.86  │    0.842 │ 0.851 │\n",
      "├────────────┼─────────────┼──────────┼───────┤\n",
      "│ aux:pass   │       0.778 │    0.925 │ 0.845 │\n",
      "├────────────┼─────────────┼──────────┼───────┤\n",
      "│ mark       │       0.827 │    0.848 │ 0.838 │\n",
      "├────────────┼─────────────┼──────────┼───────┤\n",
      "│ cop        │       0.818 │    0.842 │ 0.83  │\n",
      "├────────────┼─────────────┼──────────┼───────┤\n",
      "│ flat:name  │       0.789 │    0.849 │ 0.818 │\n",
      "├────────────┼─────────────┼──────────┼───────┤\n",
      "│ nsubj:caus │       0.8   │    0.8   │ 0.8   │\n",
      "├────────────┼─────────────┼──────────┼───────┤\n",
      "│ nmod       │       0.806 │    0.79  │ 0.798 │\n",
      "├────────────┼─────────────┼──────────┼───────┤\n",
      "│ advmod     │       0.804 │    0.786 │ 0.795 │\n",
      "├────────────┼─────────────┼──────────┼───────┤\n",
      "│ xcomp      │       0.865 │    0.726 │ 0.79  │\n",
      "├────────────┼─────────────┼──────────┼───────┤\n",
      "│ nsubj:pass │       0.727 │    0.8   │ 0.762 │\n",
      "├────────────┼─────────────┼──────────┼───────┤\n",
      "│ obl        │       0.697 │    0.74  │ 0.718 │\n",
      "├────────────┼─────────────┼──────────┼───────┤\n",
      "│ acl:relcl  │       0.704 │    0.667 │ 0.685 │\n",
      "├────────────┼─────────────┼──────────┼───────┤\n",
      "│ conj       │       0.639 │    0.616 │ 0.628 │\n",
      "├────────────┼─────────────┼──────────┼───────┤\n",
      "│ advcl      │       0.595 │    0.647 │ 0.62  │\n",
      "├────────────┼─────────────┼──────────┼───────┤\n",
      "│ ccomp      │       0.633 │    0.603 │ 0.618 │\n",
      "├────────────┼─────────────┼──────────┼───────┤\n",
      "│ acl        │       0.627 │    0.587 │ 0.607 │\n",
      "├────────────┼─────────────┼──────────┼───────┤\n",
      "│ fixed      │       0.91  │    0.406 │ 0.561 │\n",
      "├────────────┼─────────────┼──────────┼───────┤\n",
      "│ expl       │       0.815 │    0.393 │ 0.53  │\n",
      "├────────────┼─────────────┼──────────┼───────┤\n",
      "│ appos      │       0.405 │    0.449 │ 0.426 │\n",
      "├────────────┼─────────────┼──────────┼───────┤\n",
      "│ iobj       │       0.355 │    0.44  │ 0.393 │\n",
      "├────────────┼─────────────┼──────────┼───────┤\n",
      "│ parataxis  │       0.292 │    0.219 │ 0.25  │\n",
      "├────────────┼─────────────┼──────────┼───────┤\n",
      "│ obj:agent  │       1     │    0.143 │ 0.25  │\n",
      "├────────────┼─────────────┼──────────┼───────┤\n",
      "│ compound   │       0.8   │    0.091 │ 0.163 │\n",
      "├────────────┼─────────────┼──────────┼───────┤\n",
      "│ dep        │       0     │    0     │ 0     │\n",
      "├────────────┼─────────────┼──────────┼───────┤\n",
      "│ iobj:agent │       0     │    0     │ 0     │\n",
      "├────────────┼─────────────┼──────────┼───────┤\n",
      "│ obl:agent  │       0     │    0     │ 0     │\n",
      "├────────────┼─────────────┼──────────┼───────┤\n",
      "│ discourse  │       0     │    0     │ 0     │\n",
      "├────────────┼─────────────┼──────────┼───────┤\n",
      "│ csubj      │       0     │    0     │ 0     │\n",
      "╘════════════╧═════════════╧══════════╧═══════╛\n"
     ]
    }
   ],
   "execution_count": 156
  },
  {
   "cell_type": "markdown",
   "metadata": {},
   "source": [
    "**4d.** Quels changements observez-vous en haut (3 premiers labels) et en bas du classement ?  Voyez-vous un label pour lequel les scores n'augmentent pas avec le parser entraîné ?"
   ]
  },
  {
   "metadata": {},
   "cell_type": "markdown",
   "source": [
    "> On constate que les trois premiers avant étaient `[det, case, cc]` et maintenant ce sont `[det, case, aux]` avec des f-scores plus élevés.\n",
    ">\n",
    "> Les trois derniers étaient `[flat:foreign, discourse, csubj]` et maintenant ce sont `[obl:agent, discourse, csubj]` avec des f-scores qui sont toujours à 0.\n",
    ">\n",
    "> On notera toutefois qu'il y a moins de labels qui ont un f-score de 0, ce qui est une amélioration par rapport au modèle prêt-à-l'emploi et indique que notre modèle est peut-être plus précis sur les relations de dépendances dans certains contextes spécifiques à notre corpus.\n",
    ">\n",
    "> csubj (clausal subject) est un label pour lequel les scores n'augmentent pas avec le parser entraîné, certainement parce que ce label n'est pas utilisé dans notre corpus (dans UD_english, ce label est utilisé pour 340 nodes, c'est 0%: https://universaldependencies.org/docs/en/dep/csubj.html)"
   ]
  },
  {
   "cell_type": "markdown",
   "metadata": {},
   "source": [
    "**Fin du Labo.** Veuillez nettoyer ce notebook en gardant seulement les résultats désirés, l'enregistrer, et le soumettre comme devoir sur Cyberlearn."
   ]
  }
 ],
 "metadata": {
  "kernelspec": {
   "display_name": "Python 3 (ipykernel)",
   "language": "python",
   "name": "python3"
  },
  "language_info": {
   "codemirror_mode": {
    "name": "ipython",
    "version": 3
   },
   "file_extension": ".py",
   "mimetype": "text/x-python",
   "name": "python",
   "nbconvert_exporter": "python",
   "pygments_lexer": "ipython3",
   "version": "3.10.13"
  }
 },
 "nbformat": 4,
 "nbformat_minor": 4
}
