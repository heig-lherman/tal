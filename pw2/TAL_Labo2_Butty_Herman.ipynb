{
 "cells": [
  {
   "cell_type": "markdown",
   "metadata": {},
   "source": [
    "<img src=\"https://heig-vd.ch/docs/default-source/doc-global-newsletter/2020-slim.svg\" alt=\"HEIG-VD Logo\" width=\"100\" align=\"right\" /> \n",
    "\n",
    "# Cours TAL - Laboratoire 2<br/>*POS taggers* pour le français dans spaCy et NLTK\n",
    "\n",
    "**Objectif**\n",
    "\n",
    "Comparer l'étiqueteur morphosyntaxique français prêt-à-l'emploi de spaCy avec deux étiqueteurs entraînés, l'un dans spaCy et l'autre dans NLTK."
   ]
  },
  {
   "cell_type": "markdown",
   "metadata": {},
   "source": [
    "## 1. Installation et test de spaCy\n",
    "\n",
    "La boîte à outils spaCy est une librairie Python *open source* pour le TAL, dédiée à un usage en production. Les documents suivants vous seront utiles :\n",
    "* comment [installer](https://spacy.io/usage) spaCy\n",
    "* comment [télécharger un modèle](https://spacy.io/usage/models) pour une langue donnée (on appelle ces modèles des *trained pipelines* car ils enchaînent plusieurs traitements)\n",
    "* comment faire les [premiers pas](https://spacy.io/usage/spacy-101) dans l'utilisation de spaCy\n",
    "\n",
    "Veuillez installer spaCy, puis la *pipeline* pour le français appelée `fr_core_news_sm`.  Si vous utilisez *conda*, installez spaCy dans l'environnement du cours TAL."
   ]
  },
  {
   "cell_type": "code",
   "metadata": {
    "ExecuteTime": {
     "end_time": "2025-03-11T16:21:28.800682Z",
     "start_time": "2025-03-11T16:21:23.796055Z"
    }
   },
   "source": [
    "import spacy\n",
    "from markdown_it.rules_block import reference\n",
    "\n",
    "nlp = spacy.load(\"fr_core_news_sm\")  # charge la pipeline\n",
    "import tqdm  # permet l'affichage d'une barre de progression"
   ],
   "outputs": [],
   "execution_count": 1
  },
  {
   "cell_type": "markdown",
   "metadata": {},
   "source": [
    "**1a.** Une pipeline effectue un ensemble de traitements d'un texte en lui ajoutant des annotations.  Les traitements effectués par la pipeline `fr_core_news_sm` sont [documentés ici](https://spacy.io/models/fr#fr_core_news_sm).  La liste des traitements d'une pipeline figure dans son attribut `.pipe_names`.  On peut activer ou désactiver un traitement T avec, respectivement, les méthodes `.disable_pipe(T)` et `.enable_pipe(T)` appliquées à la pipeline.\n",
    "\n",
    "* Veuillez afficher les traitements disponibles dans la pipeline `fr_core_news_sm` chargée ci-dessus sous le nom de `nlp` .\n",
    "* Veuillez désactiver tous les traitements sauf `tok2vec` et `morphologizer` (on fait cela pour accélerer le traitement).\n",
    "* Vérifiez que la désactivation a bien fonctionné en affichant les traitements activés."
   ]
  },
  {
   "cell_type": "code",
   "metadata": {
    "ExecuteTime": {
     "end_time": "2025-03-11T16:21:28.811534Z",
     "start_time": "2025-03-11T16:21:28.807233Z"
    }
   },
   "source": [
    "# Veuillez écrire votre code ici.\n",
    "\n",
    "print(\"=== Liste des traitements disponibles\")\n",
    "for pipe in nlp.pipe_names:\n",
    "    print(pipe)\n",
    "\n",
    "for pipe in nlp.pipe_names:\n",
    "    if pipe != \"tok2vec\" and pipe != \"morphologizer\":\n",
    "        nlp.disable_pipe(pipe)\n",
    "\n",
    "print(\"=== Liste des traitements activés\")\n",
    "for pipe in nlp.pipe_names:\n",
    "    print(pipe)"
   ],
   "outputs": [
    {
     "name": "stdout",
     "output_type": "stream",
     "text": [
      "=== Liste des traitements disponibles\n",
      "tok2vec\n",
      "morphologizer\n",
      "parser\n",
      "attribute_ruler\n",
      "lemmatizer\n",
      "ner\n",
      "=== Liste des traitements activés\n",
      "tok2vec\n",
      "morphologizer\n"
     ]
    }
   ],
   "execution_count": 2
  },
  {
   "cell_type": "code",
   "metadata": {
    "ExecuteTime": {
     "end_time": "2025-03-11T16:21:28.967497Z",
     "start_time": "2025-03-11T16:21:28.964505Z"
    }
   },
   "source": [
    "from spacy.lang.fr.examples import sentences"
   ],
   "outputs": [],
   "execution_count": 3
  },
  {
   "cell_type": "markdown",
   "metadata": {},
   "source": [
    "**1b.** L'objet `sentences` chargé ci-dessus contient une liste de phrases en français. \n",
    "\n",
    "* Veuillez afficher les deux premières phrases de `sentences`.\n",
    "* Veuillez analyser chacune de ces deux phrases avec la pipeline `nlp` puis afficher chaque token et son POS tag.\n",
    "    * indication : aidez-vous de la [documentation](https://spacy.io/models/fr#fr_core_news_sm) de `fr_core_news_sm`\n",
    "    * consigne d'affichage : indiquer le tag entre crochets après chaque token, comme ceci : Les \\[DET\\] robots \\[NOUN\\] ...\n",
    "    * note : la documentation détaillée du POS tagging dans spaCy est [disponible ici](https://spacy.io/usage/linguistic-features)\n",
    "* Veuillez commenter la tokenisation et les POS tags observés : vous semblent-ils corrects pour les deux phrases ?"
   ]
  },
  {
   "cell_type": "code",
   "metadata": {
    "ExecuteTime": {
     "end_time": "2025-03-11T16:21:29.027968Z",
     "start_time": "2025-03-11T16:21:29.011332Z"
    }
   },
   "source": [
    "# Veuillez écrire votre code et votre commentaire ici.\n",
    "print(f\"Premières phrases: {sentences[:2]}\")\n",
    "\n",
    "result = []\n",
    "for sentence in sentences[:2]:\n",
    "    doc = nlp(sentence)\n",
    "    res = []\n",
    "    for token in doc:\n",
    "        res.append(f'{token.text} [{token.pos_}]')\n",
    "\n",
    "    result.append(res)\n",
    "\n",
    "print(\"=== Résultat\")\n",
    "for res in result:\n",
    "    print(' '.join(res))"
   ],
   "outputs": [
    {
     "name": "stdout",
     "output_type": "stream",
     "text": [
      "Premières phrases: ['Apple cherche à acheter une start-up anglaise pour 1 milliard de dollars', \"Les voitures autonomes déplacent la responsabilité de l'assurance vers les constructeurs\"]\n",
      "=== Résultat\n",
      "Apple [NOUN] cherche [NOUN] à [ADP] acheter [VERB] une [DET] start [NOUN] - [NOUN] up [ADJ] anglaise [NOUN] pour [ADP] 1 [NUM] milliard [NOUN] de [ADP] dollars [NOUN]\n",
      "Les [DET] voitures [NOUN] autonomes [ADJ] déplacent [ADV] la [DET] responsabilité [NOUN] de [ADP] l' [DET] assurance [NOUN] vers [ADP] les [DET] constructeurs [NOUN]\n"
     ]
    }
   ],
   "execution_count": 4
  },
  {
   "metadata": {},
   "cell_type": "markdown",
   "source": [
    "> On constate que le mot start-up a été taggé en trois parties, comportant le trait d'union comme nom rejoignant les deux parties du mot. Le up de start-up est du coup considéré comme un adjectif.\n",
    ">\n",
    "> On peut supposer que le tagger a une valeur par défaut pour les mots inconnus, ou que l'entrainement ayant été fait avec les mots français le modèle soit moins performant avec les anglicismes.\n",
    ">\n",
    "> Le tagging de la deuxième phrase semble correct."
   ]
  },
  {
   "cell_type": "markdown",
   "metadata": {},
   "source": [
    "## 2. Prise en main des données\n",
    "\n",
    "Les données sont fournies dans un format tabulaire dans l'archive `UD_French-GSD.zip` sur Cyberlearn.  Elles sont basées sur les données fournies par le projet [Universal Dependencies](https://github.com/UniversalDependencies/UD_French-GSD).  Leur format, appelé CoNLL-U, est [documenté ici](https://universaldependencies.org/format.html).  Veuillez placer les trois fichiers contenus dans l'archive dans un sous-dossier de ce notebook nommé `spacy_data`.\n",
    "\n",
    "Les trois fichiers contiennent des phrases en français annotées avec les POS tags :\n",
    "* le fichier `fr-ud-train.conllu` est destiné à l'entraînement\n",
    "* le fichier `fr-ud-dev.conllu` est destiné aux tests préliminaires et aux réglages des paramètres\n",
    "* le fichier `fr-ud-test.conllu` est destiné à l'évaluation finale.\n",
    "\n",
    "**2a.** En inspectant les fichiers avec un éditeur texte, veuillez déterminer dans quelle colonne se trouvent les *tokens* des textes originaux, et dans quelle colonne se trouvent leurs étiquettes morpho-syntaxiques correctes (*POS tags*).  Que contient la troisième colonne ?"
   ]
  },
  {
   "metadata": {},
   "cell_type": "markdown",
   "source": [
    "- On compte la première colonne comme étant celle des identifiants.\n",
    "- La deuxième colonne comprend les tokens des textes originaux.\n",
    "- La quatrième colonne comprend les étiquettes morpho-syntaxiques correctes.\n",
    "- La troisième colonne contient le lemme des tokens."
   ]
  },
  {
   "attachments": {},
   "cell_type": "markdown",
   "metadata": {},
   "source": [
    "**2b.** Veuillez convertir les trois fichiers de données en des fichiers binaires utilisables par spaCy, en utilisant la [commande 'convert' fournie par spaCy](https://spacy.io/api/cli#convert).  La commande est donnée ci-dessous, le premier dossier `./input_data` contient les 3 fichiers `.conllu` et le dossier `./spacy-data` contiendra les 3 résultats.\n",
    "\n",
    "* Veuillez exécuter la commande de conversion.\n",
    "* Combien de phrases environ (à 10 phrases près) contient chaque fichier (*train*, *dev*, *test*) ?  Observez la commande et son résultat pour répondre."
   ]
  },
  {
   "cell_type": "code",
   "metadata": {
    "ExecuteTime": {
     "end_time": "2025-03-11T16:21:50.435214Z",
     "start_time": "2025-03-11T16:21:29.065287Z"
    }
   },
   "source": "!python -m spacy convert ./input_data ./spacy_data --converter conllu  --n-sents 10 --lang fr",
   "outputs": [
    {
     "name": "stdout",
     "output_type": "stream",
     "text": [
      "\u001B[38;5;4mℹ Grouping every 10 sentences into a document.\u001B[0m\r\n",
      "\u001B[38;5;2m✔ Generated output file (148 documents): spacy_data/fr-ud-dev.spacy\u001B[0m\r\n",
      "\u001B[38;5;4mℹ Grouping every 10 sentences into a document.\u001B[0m\r\n",
      "\u001B[38;5;2m✔ Generated output file (42 documents): spacy_data/fr-ud-test.spacy\u001B[0m\r\n",
      "\u001B[38;5;4mℹ Grouping every 10 sentences into a document.\u001B[0m\r\n",
      "\u001B[38;5;2m✔ Generated output file (1456 documents):\r\n",
      "spacy_data/fr-ud-train.spacy\u001B[0m\r\n"
     ]
    }
   ],
   "execution_count": 5
  },
  {
   "cell_type": "code",
   "metadata": {
    "ExecuteTime": {
     "end_time": "2025-03-11T16:32:05.855237Z",
     "start_time": "2025-03-11T16:32:05.754688Z"
    }
   },
   "source": [
    "# Veuillez indiquer les nombres de phrases ici.\n",
    "INPUT_FILE_DEV = \"./input_data/fr-ud-dev.conllu\"\n",
    "INPUT_FILE_TEST = \"./input_data/fr-ud-test.conllu\"\n",
    "INPUT_FILE_TRAIN = \"./input_data/fr-ud-train.conllu\"\n",
    "\n",
    "def count_sentences(file):\n",
    "    with open(file, 'r') as f:\n",
    "        return len([line for line in f if line.strip() != \"\"])\n",
    "\n",
    "print(f\"Nombre de phrases dans le fichier de développement: {count_sentences(INPUT_FILE_DEV)}\")\n",
    "print(f\"Nombre de phrases dans le fichier de test: {count_sentences(INPUT_FILE_TEST)}\")\n",
    "print(f\"Nombre de phrases dans le fichier d'entraînement: {count_sentences(INPUT_FILE_TRAIN)}\")"
   ],
   "outputs": [
    {
     "name": "stdout",
     "output_type": "stream",
     "text": [
      "Nombre de phrases dans le fichier de développement: 36830\n",
      "Nombre de phrases dans le fichier de test: 10298\n",
      "Nombre de phrases dans le fichier d'entraînement: 366371\n"
     ]
    }
   ],
   "execution_count": 29
  },
  {
   "cell_type": "markdown",
   "metadata": {},
   "source": [
    "**2c**. Les données des fichiers convertis peuvent être chargées dans un objet de type `DocBin`.  Dans notre cas, un tel objet contient un ensemble de documents, chacun contenant 10 phrases.  Chaque document est un objet de type `Doc`.  Le code donné ci-dessous vous permet de charger les données de test et vous montre comment les afficher.\n",
    "\n",
    "* Veuillez stocker la première phrase des données de test dans une variable nommée `premiere_phrase_test`.\n",
    "* Veuillez afficher cette phrase, ainsi que son type dans spaCy."
   ]
  },
  {
   "cell_type": "code",
   "metadata": {
    "ExecuteTime": {
     "end_time": "2025-03-11T16:21:50.579117Z",
     "start_time": "2025-03-11T16:21:50.572890Z"
    }
   },
   "source": [
    "from spacy.tokens import DocBin\n",
    "from spacy.tokens import Doc\n",
    "\n",
    "FILE_DEV = \"./input_data/fr-ud-dev.conllu\"\n",
    "FILE_TEST = \"./input_data/fr-ud-test.conllu\"\n",
    "FILE_TRAIN = \"./input_data/fr-ud-train.conllu\"\n",
    "\n",
    "test_data = DocBin().from_disk(\"./spacy_data/fr-ud-test.spacy\")\n",
    "# Exemple d'utilisation (afficher toutes les phrases)\n",
    "# for doc in test_data.get_docs(nlp.vocab):\n",
    "#     for sent in doc.sents:\n",
    "#         print(sent)"
   ],
   "outputs": [],
   "execution_count": 7
  },
  {
   "cell_type": "code",
   "metadata": {
    "ExecuteTime": {
     "end_time": "2025-03-11T16:21:50.690822Z",
     "start_time": "2025-03-11T16:21:50.620372Z"
    }
   },
   "source": [
    "# Veuillez écrire votre code ici.\n",
    "\n",
    "first_doc = next(test_data.get_docs(nlp.vocab))\n",
    "premiere_phrase_test = next(first_doc.sents)\n",
    "print(f\"Première phrase des données de test: {premiere_phrase_test.text}\")\n",
    "print(f\"Type de la première phrase: {type(premiere_phrase_test)}\")"
   ],
   "outputs": [
    {
     "name": "stdout",
     "output_type": "stream",
     "text": [
      "Première phrase des données de test: Je sens qu'entre ça et les films de médecins et scientifiques fous que nous avons déjà vus, nous pourrions emprunter un autre chemin pour l'origine.\n",
      "Type de la première phrase: <class 'spacy.tokens.span.Span'>\n"
     ]
    }
   ],
   "execution_count": 8
  },
  {
   "cell_type": "markdown",
   "metadata": {},
   "source": [
    "## 3. Évaluation du POS tagger français de la pipeline `fr_core_news_sm`"
   ]
  },
  {
   "cell_type": "markdown",
   "metadata": {},
   "source": [
    "**3a.** Veuillez effectuer le *POS tagging* avec spaCy de la `premiere_phrase_test` et afficher les résultats dans le format demandé au (1b).  Indication : convertissez la `premiere_phrase_test` dans un objet de type `Doc` en lui appliquant la méthode `.as_doc()`.  Cet objet peut être ensuite traité par la pipeline `nlp`."
   ]
  },
  {
   "cell_type": "code",
   "metadata": {
    "ExecuteTime": {
     "end_time": "2025-03-11T16:21:50.732581Z",
     "start_time": "2025-03-11T16:21:50.720459Z"
    }
   },
   "source": [
    "# Veuillez écrire votre code ici.\n",
    "\n",
    "sentence_doc = nlp(premiere_phrase_test.as_doc().text)\n",
    "res_pipeline = []\n",
    "for token in sentence_doc:\n",
    "    res_pipeline.append(f'{token.text} [{token.pos_}]')\n",
    "\n",
    "print(f\"Résultat de la pipeline sur la première phrase: {' '.join(res_pipeline)}\")"
   ],
   "outputs": [
    {
     "name": "stdout",
     "output_type": "stream",
     "text": [
      "Résultat de la pipeline sur la première phrase: Je [PRON] sens [VERB] qu' [SCONJ] entre [ADP] ça [PRON] et [CCONJ] les [DET] films [NOUN] de [ADP] médecins [NOUN] et [CCONJ] scientifiques [NOUN] fous [PRON] que [PRON] nous [PRON] avons [AUX] déjà [ADV] vus [VERB] , [PUNCT] nous [PRON] pourrions [VERB] emprunter [VERB] un [DET] autre [ADJ] chemin [NOUN] pour [ADP] l' [DET] origine [NOUN] . [PUNCT]\n"
     ]
    }
   ],
   "execution_count": 9
  },
  {
   "cell_type": "markdown",
   "metadata": {},
   "source": [
    "**3b.** Veuillez afficher les tags corrects de `premiere_phrase_test`, puis comparez-les visuellement les tags trouvés automatiquement au (3a).  Quelles différences trouvez-vous ?"
   ]
  },
  {
   "cell_type": "code",
   "metadata": {
    "ExecuteTime": {
     "end_time": "2025-03-11T16:21:50.782684Z",
     "start_time": "2025-03-11T16:21:50.777698Z"
    }
   },
   "source": [
    "# Veuillez écrire votre réponse ici.\n",
    "\n",
    "res_model = []\n",
    "for token in premiere_phrase_test:\n",
    "    res_model.append(f'{token.text} [{token.pos_}]')\n",
    "\n",
    "print(f\"Tags corrects de la première phrase: {' '.join(res_model)}\")\n"
   ],
   "outputs": [
    {
     "name": "stdout",
     "output_type": "stream",
     "text": [
      "Tags corrects de la première phrase: Je [PRON] sens [VERB] qu' [SCONJ] entre [ADP] ça [PRON] et [CCONJ] les [DET] films [NOUN] de [ADP] médecins [NOUN] et [CCONJ] scientifiques [NOUN] fous [ADJ] que [PRON] nous [PRON] avons [AUX] déjà [ADV] vus [VERB] , [PUNCT] nous [PRON] pourrions [VERB] emprunter [VERB] un [DET] autre [ADJ] chemin [NOUN] pour [ADP] l' [DET] origine [NOUN] . [PUNCT]\n"
     ]
    }
   ],
   "execution_count": 10
  },
  {
   "metadata": {
    "ExecuteTime": {
     "end_time": "2025-03-11T16:21:50.836628Z",
     "start_time": "2025-03-11T16:21:50.831503Z"
    }
   },
   "cell_type": "code",
   "source": [
    "print(\"Différences entre la pipeline et le modèle:\")\n",
    "bad_count = 0\n",
    "for i, (token, token2) in enumerate(zip(res_pipeline, res_model)):\n",
    "    if token != token2:\n",
    "        bad_count += 1\n",
    "        print(f\"Token {i + 1}: {token} != {token2}\")\n",
    "\n",
    "print(f\"Précision: {1 - bad_count / len(res_model)}\")"
   ],
   "outputs": [
    {
     "name": "stdout",
     "output_type": "stream",
     "text": [
      "Différences entre la pipeline et le modèle:\n",
      "Token 13: fous [PRON] != fous [ADJ]\n",
      "Précision: 0.9655172413793104\n"
     ]
    }
   ],
   "execution_count": 11
  },
  {
   "metadata": {},
   "cell_type": "markdown",
   "source": "> On constate une différence sur le token numéro 13 (\"fous\"), qui est taggé comme un pronom par la pipeline, alors que les données de tests en font mention en tant qu'adjectif ce qui bien entendu juste. On parle bien des scientifiques qui sont fous."
  },
  {
   "cell_type": "code",
   "metadata": {
    "ExecuteTime": {
     "end_time": "2025-03-11T16:21:50.888060Z",
     "start_time": "2025-03-11T16:21:50.883798Z"
    }
   },
   "source": [
    "from spacy.scorer import Scorer\n",
    "from spacy.training import Example"
   ],
   "outputs": [],
   "execution_count": 12
  },
  {
   "cell_type": "code",
   "metadata": {
    "ExecuteTime": {
     "end_time": "2025-03-11T16:21:51.048633Z",
     "start_time": "2025-03-11T16:21:50.933736Z"
    }
   },
   "source": "scorer = Scorer()",
   "outputs": [],
   "execution_count": 13
  },
  {
   "cell_type": "markdown",
   "metadata": {},
   "source": [
    "**3c.** Au lieu de compter manuellement combien de tags sont différents entre la référence et le résultat de la pipeline `nlp`, vous allez utiliser la classe `Scorer` de spaCy.  Une instance de cette classe permet de calculer les scores d'une liste d'objets de type `Exemple`, en fonction des annotations disponibles dans les objets.  Un objet de type `Exemple` contient deux objets de type `Doc`, l'un avec les annotations correctes et l'autre avec les annotations produites par une pipeline.  La [documentation de la méthode](https://spacy.io/api/scorer#score) `Scorer.score(..)` vous sera utile. \n",
    "\n",
    "* Veuillez calculer la justesse (*accuracy*) du *POS tagging* de `premiere_phrase_test`. \n",
    "* Veuillez justifier la valeur du score obtenu en utilisant votre réponse du (3b)."
   ]
  },
  {
   "cell_type": "code",
   "metadata": {
    "ExecuteTime": {
     "end_time": "2025-03-11T16:29:01.555385Z",
     "start_time": "2025-03-11T16:29:01.545322Z"
    }
   },
   "source": [
    "# Veuillez écrire votre code ici.\n",
    "\n",
    "score = scorer.score([Example(sentence_doc, premiere_phrase_test.as_doc())])\n",
    "print(f\"POS Accuracy: {score.get('pos_acc')}\")"
   ],
   "outputs": [
    {
     "name": "stdout",
     "output_type": "stream",
     "text": [
      "POS Accuracy: 0.9655172413793104\n"
     ]
    }
   ],
   "execution_count": 25
  },
  {
   "metadata": {},
   "cell_type": "markdown",
   "source": "> Nous obtenons donc une précision du tagging à 96.5%, ce qui correspond à ce qui a été observé précédemment. Un seul token n'était pas correctement taggé, et donc sur l'ensemble de tokens de la phrase la valeur correspond."
  },
  {
   "cell_type": "markdown",
   "metadata": {},
   "source": [
    "**3d.** Veuillez calculer la précision du *POS tagging* de la pipeline `nlp` sur toutes les données de test présentes dans `test_data`.  Comment se compare le score obtenu avec celui mentionné [dans la documentation](https://spacy.io/models/fr#fr_core_news_sm) du modèle `fr_core_news_sm` ?"
   ]
  },
  {
   "cell_type": "code",
   "metadata": {
    "ExecuteTime": {
     "end_time": "2025-03-11T16:21:53.053518Z",
     "start_time": "2025-03-11T16:21:51.106813Z"
    }
   },
   "source": [
    "# Veuillez écrire votre code ici, suivi de votre réponse à la question.\n",
    "\n",
    "score_docs = scorer.score([Example(nlp(doc.text), doc) for doc in test_data.get_docs(nlp.vocab)])\n",
    "print(f\"POS Accuracy over whole documents: {score_docs.get('pos_acc')}\")\n",
    "\n",
    "sentences = [sentence for doc in test_data.get_docs(nlp.vocab) for sentence in doc.sents]\n",
    "score_sentences = scorer.score([Example(nlp(sentence.as_doc().text), sentence.as_doc()) for sentence in sentences])\n",
    "print(f\"POS Accuracy over sentences: {score_sentences.get('pos_acc')}\")"
   ],
   "outputs": [
    {
     "name": "stdout",
     "output_type": "stream",
     "text": [
      "POS Accuracy over whole documents: 0.8809902922594894\n",
      "POS Accuracy over sentences: 0.8806246147524142\n"
     ]
    }
   ],
   "execution_count": 15
  },
  {
   "metadata": {},
   "cell_type": "markdown",
   "source": [
    "> Nous avons en premier lieu comparé la précision sur l'ensemble des documents, en demandant à la pipeline de traiter en une fois l'ensemble des phrases de chaque document. Nous constatons une précision à 0.88, nous avons ensuite chercher à comparer la précision si le tagging était fait phrase par phrase sans avoir le contexte (comme effectué dans les exercices précédents). La précision dans ce cas est pratiquement égale, ce qui nous semble toujours très correct étant donné que dans certains cas le contexte peut aider à déterminer le bon tag.\n",
    ">\n",
    "> La documentation du modèle préconise une précision sur le tagging de 0.96, ce qui est légèrement supérieur à ce que nous observons ici. Probablement que le modèle fourni a été entrainé sur un ensemble de données qui n'est pas contextuellement similaire aux données de test que nous utilisons ici."
   ]
  },
  {
   "cell_type": "markdown",
   "metadata": {},
   "source": [
    "## 4. Entraîner puis évaluer un nouveau POS tagger français dans spaCy\n",
    "\n",
    "Le but de cette partie est d'entraîner une pipeline spaCy pour le français sur les données de `fr-ud-train.conllu`, puis de comparer le modèle obtenu avec le modèle prêt-à-l'emploi testé au point précédent.  Les [instructions d'entraînement](https://spacy.io/usage/training#quickstart) de spaCy vous montrent comment entraîner une pipeline avec un POS tagger.\n",
    "\n",
    "**4a.** Paramétrage de l'entraînement :\n",
    "* générez un fichier de départ grâce à [l'interface web](https://spacy.io/usage/training#quickstart), en indiquant que vous voulez seulement un POS tagger dans la pipeline ;\n",
    "* sauvegardez le code généré par spaCy dans un fichier local `base_config.cfg` ;\n",
    "* générez un fichier `config.cfg` sur votre ordinateur en exécutant la ligne de commande suivante. "
   ]
  },
  {
   "cell_type": "code",
   "metadata": {
    "ExecuteTime": {
     "end_time": "2025-03-11T16:21:56.515833Z",
     "start_time": "2025-03-11T16:21:53.060414Z"
    }
   },
   "source": [
    "!python -m spacy init fill-config base_config.cfg config.cfg"
   ],
   "outputs": [
    {
     "name": "stdout",
     "output_type": "stream",
     "text": [
      "\u001B[38;5;2m✔ Auto-filled config with all values\u001B[0m\r\n",
      "\u001B[38;5;2m✔ Saved config\u001B[0m\r\n",
      "config.cfg\r\n",
      "You can now add your data and train your pipeline:\r\n",
      "python -m spacy train config.cfg --paths.train ./train.spacy --paths.dev ./dev.spacy\r\n"
     ]
    }
   ],
   "execution_count": 16
  },
  {
   "cell_type": "markdown",
   "metadata": {},
   "source": [
    "Enfin, veuillez effectuer l'entraînement avec la ligne de commande suivante.  Faites plusieurs essais, d'abord avec un petit nombre d'époques, pour estimer le temps nécessaire et observer les messages affichés.  Puis augmentez progressivement le nombre d'époques.  Quel est le critère qui vous permet de décider que vous avez un nombre suffisant d'époques ?  Dans quel dossier se trouve le meilleur modèle ?"
   ]
  },
  {
   "cell_type": "code",
   "metadata": {
    "ExecuteTime": {
     "end_time": "2025-03-11T16:21:56.534888Z",
     "start_time": "2025-03-11T16:21:56.533165Z"
    }
   },
   "source": [
    "# Dernier résultat dans myPOStagger-5epoch\n",
    "# !python -m spacy train config.cfg --output './myPOStagger-5epoch' --paths.train ./spacy_data/fr-ud-train.spacy --paths.dev ./spacy_data/fr-ud-dev.spacy --verbose"
   ],
   "outputs": [],
   "execution_count": 17
  },
  {
   "metadata": {},
   "cell_type": "markdown",
   "source": [
    "Avec `max_epoch=1`\n",
    "\n",
    "```\n",
    "E    #       LOSS TOK2VEC  LOSS TAGGER  TAG_ACC  SCORE\n",
    "---  ------  ------------  -----------  -------  ------\n",
    "  0       0          0.00       211.77    36.34    0.36\n",
    "  0     200        315.78     10403.58    90.38    0.90\n",
    "  0     400        287.59      4500.03    91.63    0.92\n",
    "  0     600        222.64      3447.72    92.14    0.92\n",
    "  0     800        217.77      3472.31    92.58    0.93\n",
    "  0    1000        190.27      3012.89    92.61    0.93\n",
    "  0    1200        184.36      2921.70    92.90    0.93\n",
    "  0    1400        171.64      2746.66    93.02    0.93\n",
    "```\n",
    "\n",
    "Avec `max_epoch=5`\n",
    "\n",
    "```\n",
    "E    #       LOSS TOK2VEC  LOSS TAGGER  TAG_ACC  SCORE\n",
    "---  ------  ------------  -----------  -------  ------\n",
    "  0       0          0.00       211.77    36.34    0.36\n",
    "  0     200        315.78     10403.58    90.38    0.90\n",
    "  0     400        287.59      4500.03    91.63    0.92\n",
    "  0     600        222.64      3447.72    92.14    0.92\n",
    "  0     800        217.77      3472.31    92.58    0.93\n",
    "  0    1000        190.27      3012.89    92.61    0.93\n",
    "  0    1200        184.36      2921.70    92.90    0.93\n",
    "  0    1400        171.64      2746.66    93.02    0.93\n",
    "  1    1600        147.59      2232.49    93.10    0.93\n",
    "  1    1800        140.07      2025.26    93.13    0.93\n",
    "  1    2000        155.89      2274.63    93.22    0.93\n",
    "  1    2200        147.96      2143.40    93.26    0.93\n",
    "  1    2400        148.56      2133.26    93.39    0.93\n",
    "  1    2600        150.10      2141.56    93.20    0.93\n",
    "  1    2800        152.66      2182.57    93.46    0.93\n",
    "  2    3000        131.79      1809.59    93.36    0.93\n",
    "  2    3200        122.10      1576.16    93.27    0.93\n",
    "  2    3400        134.89      1725.80    93.49    0.93\n",
    "  2    3600        131.55      1643.79    93.47    0.93\n",
    "  2    3800        126.99      1564.77    93.42    0.93\n",
    "  2    4000        133.31      1665.34    93.42    0.93\n",
    "  2    4200        141.77      1755.45    93.55    0.94\n",
    "  3    4400        139.83      1696.87    93.53    0.94\n",
    "  3    4600        101.02      1149.63    93.57    0.94\n",
    "  3    4800        116.95      1310.59    93.61    0.94\n",
    "  3    5000        127.54      1422.67    93.49    0.93\n",
    "  3    5200        126.94      1419.86    93.60    0.94\n",
    "  3    5400        125.46      1401.61    93.52    0.94\n",
    "  3    5600        123.99      1371.43    93.57    0.94\n",
    "  3    5800        133.30      1439.02    93.69    0.94\n",
    "  4    6000        111.11      1149.63    93.63    0.94\n",
    "  4    6200        105.39      1048.16    93.56    0.94\n",
    "  4    6400        112.71      1114.82    93.63    0.94\n",
    "  4    6600        121.72      1216.46    93.67    0.94\n",
    "  4    6800        121.94      1222.12    93.68    0.94\n",
    "  4    7000        121.71      1226.58    93.60    0.94\n",
    "  4    7200        114.93      1125.15    93.61    0.94\n",
    "```\n",
    "\n",
    "Avec `max_epoch=0` (arrêt automatique après 1600 étapes sans amélioration, configuration par défaut)\n",
    "\n",
    "```\n",
    "E    #       LOSS TOK2VEC  LOSS TAGGER  TAG_ACC  SCORE\n",
    "---  ------  ------------  -----------  -------  ------\n",
    "  0       0          0.00       211.77    36.34    0.36\n",
    "  0     200        315.78     10403.58    90.38    0.90\n",
    "  0     400        287.59      4500.03    91.63    0.92\n",
    "  0     600        222.64      3447.72    92.14    0.92\n",
    "  0     800        217.77      3472.31    92.58    0.93\n",
    "  0    1000        190.27      3012.89    92.61    0.93\n",
    "  0    1200        184.36      2921.70    92.90    0.93\n",
    "  0    1400        171.64      2746.66    93.02    0.93\n",
    "  1    1600        147.59      2232.49    93.10    0.93\n",
    "  1    1800        140.07      2025.26    93.13    0.93\n",
    "  1    2000        155.89      2274.63    93.22    0.93\n",
    "  1    2200        147.96      2143.40    93.26    0.93\n",
    "  1    2400        148.56      2133.26    93.39    0.93\n",
    "  1    2600        150.10      2141.56    93.20    0.93\n",
    "  1    2800        152.66      2182.57    93.46    0.93\n",
    "  2    3000        131.79      1809.59    93.36    0.93\n",
    "  2    3200        122.10      1576.16    93.27    0.93\n",
    "  2    3400        134.89      1725.80    93.49    0.93\n",
    "  2    3600        131.55      1643.79    93.47    0.93\n",
    "  2    3800        126.99      1564.77    93.42    0.93\n",
    "  2    4000        133.31      1665.34    93.42    0.93\n",
    "  2    4200        141.77      1755.45    93.55    0.94\n",
    "  3    4400        139.83      1696.87    93.53    0.94\n",
    "  3    4600        101.02      1149.63    93.57    0.94\n",
    "  3    4800        116.95      1310.59    93.61    0.94\n",
    "  3    5000        127.54      1422.67    93.49    0.93\n",
    "  3    5200        126.94      1419.86    93.60    0.94\n",
    "  3    5400        125.46      1401.61    93.52    0.94\n",
    "  3    5600        123.99      1371.43    93.57    0.94\n",
    "  3    5800        133.30      1439.02    93.69    0.94\n",
    "  4    6000        111.11      1149.63    93.63    0.94\n",
    "  4    6200        105.39      1048.16    93.56    0.94\n",
    "  4    6400        112.71      1114.82    93.63    0.94\n",
    "  4    6600        121.72      1216.46    93.67    0.94\n",
    "  4    6800        121.94      1222.12    93.68    0.94\n",
    "  4    7000        121.71      1226.58    93.60    0.94\n",
    "  4    7200        114.93      1125.15    93.61    0.94\n",
    "  5    7400        106.20      1017.87    93.62    0.94\n",
    "```\n"
   ]
  },
  {
   "metadata": {},
   "cell_type": "markdown",
   "source": [
    "> Le critère principal pour déterminer que le nombre d'epochs est suffisant est si l'amélioration stagne ou si la précision n'augmente plus.\n",
    "> La configuration par défaut utilise un nombre illimité d'epoch mais arrete si le modèle stagne depuis 1600 étapes. Cela permet d'éviter de devoir déterminer le nombre d'épochs de façon empirique.\n",
    ">\n",
    "> Le meilleur modèle d'une série d'entrainement est dans le sous-dossier `model-best` du dossier cible.\n",
    ">\n",
    "> Dans notre cas, le modèle s'arrête après 5 épochs, avec une précision de 0.94.\n"
   ]
  },
  {
   "cell_type": "markdown",
   "metadata": {},
   "source": [
    "**4b.**  Veuillez charger le meilleur modèle (pipeline) dans la variable `nlp2` et afficher la *POS tagging accuracy* sur le corpus de test.  Le composant de la pipeline étant un *POS tagger*, vous devrez évaluer la propriété *tag_acc*. "
   ]
  },
  {
   "cell_type": "code",
   "metadata": {
    "ExecuteTime": {
     "end_time": "2025-03-11T16:21:57.381668Z",
     "start_time": "2025-03-11T16:21:56.579620Z"
    }
   },
   "source": [
    "# Veuillez écrire votre code ici.\n",
    "\n",
    "nlp2 = spacy.load(\"./myPOStagger-5epoch/model-best\")\n",
    "score = scorer.score([Example(nlp2(doc.text), doc) for doc in list(test_data.get_docs(nlp.vocab))])\n",
    "\n",
    "print(f\"Précision du POS tagging: {score.get('tag_acc')}\")"
   ],
   "outputs": [
    {
     "name": "stdout",
     "output_type": "stream",
     "text": [
      "Précision du POS tagging: 0.9341969977380219\n"
     ]
    }
   ],
   "execution_count": 18
  },
  {
   "cell_type": "markdown",
   "metadata": {},
   "source": [
    "## 5. Entraîner puis évaluer un POS tagger pour le français dans NLTK\n",
    "\n",
    "Le but de cette partie est d'utiliser le POS tagger appelé *Averaged Perceptron* fourni par NLTK, en l'entraînant pour le français sur les mêmes données que ci-dessus, importées cette fois-ci avec NLTK.  Pour une introduction au POS tagging avec NLTK, voir le [Chapitre 5.1 du livre NLTK](http://www.nltk.org/book/ch05.html).\n",
    "\n",
    "Remarques :\n",
    "* pour l'anglais, des taggers pré-entraînés sont disponibles dans NLTK ;\n",
    "* pour appliquer un tagger existant, on écrit `nltk.pos_tag(sentence)` où `sentence` est une liste de tokens et on obtient des paires (token, TAG) ;\n",
    "* l'implémentation de *Averaged Perceptron* a été faite par [Mathew Honnibal de Explosion.AI](https://explosion.ai/blog/part-of-speech-pos-tagger-in-python), la société qui a créé spaCy."
   ]
  },
  {
   "cell_type": "markdown",
   "metadata": {},
   "source": [
    "**5a.** Veuillez charger les données d'entraînement et celles de test grâce à la classe `ConllCorpusReader` de NLTK.  [La documentation de cette classe](https://www.nltk.org/api/nltk.corpus.reader.conll.html#nltk.corpus.reader.conll.ConllCorpusReader) vous montrera comment indiquer les colonnes qui contiennent les tokens ('words') et les tags corrects ('pos').  Une fois les données chargées dans une variable, vous pouvez accéder aux phrases et aux tags avec la méthode `.tagged_sents()`."
   ]
  },
  {
   "cell_type": "code",
   "metadata": {
    "ExecuteTime": {
     "end_time": "2025-03-11T16:21:57.580770Z",
     "start_time": "2025-03-11T16:21:57.400399Z"
    }
   },
   "source": [
    "from nltk.corpus.reader.conll import ConllCorpusReader"
   ],
   "outputs": [],
   "execution_count": 19
  },
  {
   "cell_type": "code",
   "metadata": {
    "ExecuteTime": {
     "end_time": "2025-03-11T16:21:57.589498Z",
     "start_time": "2025-03-11T16:21:57.585271Z"
    }
   },
   "source": [
    "# Veuillez écrire votre code ici.\n",
    "\n",
    "train = ConllCorpusReader(\"./input_data\", \"fr-ud-train.conllu\", (\"ignore\", \"words\", \"ignore\", \"pos\"), separator=\"\\t\")\n",
    "test = ConllCorpusReader(\"./input_data\", \"fr-ud-test.conllu\", (\"ignore\", \"words\", \"ignore\", \"pos\"), separator=\"\\t\")\n",
    "\n",
    "sentences_train = train.tagged_sents()\n",
    "sentences_test = test.tagged_sents()\n",
    "\n",
    "print(sentences_test[0])\n"
   ],
   "outputs": [
    {
     "name": "stdout",
     "output_type": "stream",
     "text": [
      "[('Je', 'PRON'), ('sens', 'VERB'), (\"qu'\", 'SCONJ'), ('entre', 'ADP'), ('ça', 'PRON'), ('et', 'CCONJ'), ('les', 'DET'), ('films', 'NOUN'), ('de', 'ADP'), ('médecins', 'NOUN'), ('et', 'CCONJ'), ('scientifiques', 'NOUN'), ('fous', 'ADJ'), ('que', 'PRON'), ('nous', 'PRON'), ('avons', 'AUX'), ('déjà', 'ADV'), ('vus', 'VERB'), (',', 'PUNCT'), ('nous', 'PRON'), ('pourrions', 'VERB'), ('emprunter', 'VERB'), ('un', 'DET'), ('autre', 'ADJ'), ('chemin', 'NOUN'), ('pour', 'ADP'), (\"l'\", 'DET'), ('origine', 'NOUN'), ('.', 'PUNCT')]\n"
     ]
    }
   ],
   "execution_count": 20
  },
  {
   "cell_type": "markdown",
   "metadata": {},
   "source": [
    "**5b.** Pour entraîner un POS tagger du type Averaged Perceptron, vous utiliserez le sous-module `nltk.tag.perceptron` du [module NLTK contenant les taggers](http://www.nltk.org/api/nltk.tag.html).  Les fonctions d'entraînement et de test sont documentées dans ce module.  Après l'entraînement, le réseau de neurones est enregistré dans un fichier `.pickle`, qui est écrasé à chaque entraînement si vous n'en faites pas une copie.  On peut également lire un fichier `.pickle` dans un tagger.\n",
    "\n",
    "Veuillez écrire le code pour entraîner le POS tagger sur les données d'entraînement.  Comme au (4), pensez augmenter graduellement le nombre d'époques (appelées 'itérations' dans NLTK).\n",
    "\n",
    "Combien de temps prend l'entraînement ?  Quelle est la taille du fichier enregistré ?"
   ]
  },
  {
   "cell_type": "code",
   "metadata": {
    "ExecuteTime": {
     "end_time": "2025-03-11T16:21:59.470897Z",
     "start_time": "2025-03-11T16:21:58.440238Z"
    }
   },
   "source": [
    "# NOTE: NLTK a retiré la gestion des fichiers pickle pour un stockage sous format JSON il y a 8 mois,\n",
    "#       il n'est plus possible de sauvegarder directement le fichier pickle du a un bug dans la librairie,\n",
    "#       on doit donc passer par la méthode save_to_json pour sauvegarder le modèle en format JSON,\n",
    "#       mais elle ne marche pas. On force le requirement à une version qui fonctionne...\n",
    "!python -m pip install 'nltk==3.8.1'\n",
    "\n",
    "import os\n",
    "# import nltk\n",
    "# nltk.download('averaged_perceptron_tagger') # à exécuter la première fois\n",
    "from nltk.tag.perceptron import PerceptronTagger"
   ],
   "outputs": [
    {
     "name": "stdout",
     "output_type": "stream",
     "text": [
      "Requirement already satisfied: nltk==3.8.1 in /home/loich/miniconda3/envs/pw2/lib/python3.12/site-packages (3.8.1)\r\n",
      "Requirement already satisfied: click in /home/loich/miniconda3/envs/pw2/lib/python3.12/site-packages (from nltk==3.8.1) (8.1.8)\r\n",
      "Requirement already satisfied: joblib in /home/loich/miniconda3/envs/pw2/lib/python3.12/site-packages (from nltk==3.8.1) (1.4.2)\r\n",
      "Requirement already satisfied: regex>=2021.8.3 in /home/loich/miniconda3/envs/pw2/lib/python3.12/site-packages (from nltk==3.8.1) (2024.11.6)\r\n",
      "Requirement already satisfied: tqdm in /home/loich/miniconda3/envs/pw2/lib/python3.12/site-packages (from nltk==3.8.1) (4.67.1)\r\n"
     ]
    }
   ],
   "execution_count": 21
  },
  {
   "cell_type": "code",
   "metadata": {
    "ExecuteTime": {
     "end_time": "2025-03-11T16:21:59.483531Z",
     "start_time": "2025-03-11T16:21:59.481551Z"
    }
   },
   "source": [
    "ptagger = PerceptronTagger(load=False)"
   ],
   "outputs": [],
   "execution_count": 22
  },
  {
   "cell_type": "code",
   "metadata": {
    "ExecuteTime": {
     "end_time": "2025-03-11T16:23:22.562520Z",
     "start_time": "2025-03-11T16:21:59.522380Z"
    }
   },
   "source": [
    "# Veuillez écrire votre code ici.\n",
    "\n",
    "#ptagger.train(sentences_train, \"./nltkPOStagger/model-2epoch.pickle\", nr_iter=2)\n",
    "#ptagger.train(sentences_train, \"./nltkPOStagger/model-5epoch.pickle\", nr_iter=5)\n",
    "ptagger.train(sentences_train, \"./nltkPOStagger/model-10epoch.pickle\", nr_iter=10)"
   ],
   "outputs": [],
   "execution_count": 23
  },
  {
   "metadata": {},
   "cell_type": "markdown",
   "source": [
    "> L'entrainement pour deux épochs a pris 20 secondes, le fichier enregistré fait 5.2 Mo.\n",
    ">\n",
    "> L'entrainement pour cinq épochs a pris 43 secondes, le fichier enregistré fait 6.3 Mo.\n",
    ">\n",
    "> L'entrainement pour dix épochs a pris 1 minute 25 secondes, le fichier enregistré fait 6.9 Mo."
   ]
  },
  {
   "cell_type": "markdown",
   "metadata": {},
   "source": [
    "**5c.** Veuillez évaluer le tagger sur les données de test et afficher le taux de correction."
   ]
  },
  {
   "metadata": {
    "ExecuteTime": {
     "end_time": "2025-03-11T16:31:19.736239Z",
     "start_time": "2025-03-11T16:31:18.803988Z"
    }
   },
   "cell_type": "code",
   "source": [
    "# Veuillez écrire votre code ici.\n",
    "\n",
    "print(f\"Précision du POS tagging avec NLTK: {ptagger.accuracy(sentences_test)}\")"
   ],
   "outputs": [
    {
     "name": "stdout",
     "output_type": "stream",
     "text": [
      "Précision du POS tagging avec NLTK: 0.9601864439697029\n"
     ]
    }
   ],
   "execution_count": 28
  },
  {
   "cell_type": "markdown",
   "metadata": {},
   "source": [
    "## 6. Conclusion\n",
    "\n",
    "Veuillez remplir le tableau suivant avec les scores obtenus et discuter brièvement comment se comparent les trois POS taggers sur ces données de test.\n",
    "\n",
    "| spaCy (partie 3) | spaCy (partie 4) | NLTK (partie 5) | \n",
    "|------------------|------------------|-----------------|\n",
    "| tagger fourni    | tagger entraîné  | tagger entraîné |\n",
    "| 0.8810           | 0.9342           | 0.9602          |\n",
    "\n",
    "> On constate avec ces scores que le tagger entrainé avec NLTK obtient les meilleurs résultats, suivi par le tagger entrainé avec spaCy sur les données fournies similaires aux données de test. Le tagger avec le modèle fourni par spaCy obtient les moins bons résultats, ce qui est logique étant donné que le modèle a été conçu sur un ensemble de données qui ont un contexte ou un sens différent des données que nous avons utilisé pour le test.\n",
    ">\n",
    "> En entrainant notre propre modèle, on est donc capable de créer un tagger qui se conforme plus à la sémantique, le contexte et le sens du corpus que nous souhaitons étudier. Alors qu'utiliser un modèle fourni aura des limitations dans ce qui est possible d'atteindre en termes de précision. Il faut toutefois faire attention à ne pas entrainer un modèle sur un corpus trop spécifique, car nous pourrions tomber dans un cas classique d'overfitting où le modèle ne sera plus capable de généraliser sur des données qu'il n'a pas vu.\n"
   ]
  },
  {
   "cell_type": "markdown",
   "metadata": {},
   "source": [
    "**Fin du Labo.** Veuillez nettoyer ce notebook en gardant seulement les résultats désirés, l'enregistrer, et le soumettre comme devoir sur Cyberlearn."
   ]
  }
 ],
 "metadata": {
  "kernelspec": {
   "display_name": "Python 3 (ipykernel)",
   "language": "python",
   "name": "python3"
  },
  "language_info": {
   "codemirror_mode": {
    "name": "ipython",
    "version": 3
   },
   "file_extension": ".py",
   "mimetype": "text/x-python",
   "name": "python",
   "nbconvert_exporter": "python",
   "pygments_lexer": "ipython3",
   "version": "3.10.13"
  }
 },
 "nbformat": 4,
 "nbformat_minor": 4
}
