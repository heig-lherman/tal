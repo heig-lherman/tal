{
 "cells": [
  {
   "cell_type": "markdown",
   "metadata": {},
   "source": [
    "<img src=\"https://heig-vd.ch/docs/default-source/doc-global-newsletter/2020-slim.svg\" alt=\"HEIG-VD Logo\" width=\"100\" align=\"right\" /> \n",
    "\n",
    "# Cours TAL - Laboratoire 4<br/>Reconnaissance des entités nommées\n",
    "\n",
    "**Objectif**\n",
    "\n",
    "L'objectif de ce travail est de comparer la reconnaissance des entités nommées (*named entity recognition*, NER) faite par quatre systèmes : NLTK, spaCy (deux modèles, 'en_core_web_sm' et 'en_core_web_lg'), et DistilBERT/NER.  Les données de test en anglais vous sont fournies sur Cyberlearn au format CoNLL.  Pour comparer les systèmes, on utilise la macro-moyenne des scores f1 pour chaque étiquette.  Vous pouvez concevoir l'ensemble du projet par vous-mêmes, ou suivre les indications suivantes."
   ]
  },
  {
   "cell_type": "markdown",
   "metadata": {},
   "source": [
    "## 1. NER avec spaCy et NLTK sur un texte court"
   ]
  },
  {
   "cell_type": "code",
   "metadata": {
    "ExecuteTime": {
     "end_time": "2025-04-10T13:55:05.462579Z",
     "start_time": "2025-04-10T13:55:03.672161Z"
    }
   },
   "source": [
    "import spacy\n",
    "from spacy.tokens import Doc"
   ],
   "outputs": [],
   "execution_count": 1
  },
  {
   "cell_type": "code",
   "metadata": {
    "ExecuteTime": {
     "end_time": "2025-04-10T13:55:05.467973Z",
     "start_time": "2025-04-10T13:55:05.466057Z"
    }
   },
   "source": [
    "# !python -m spacy download en_core_web_sm\n",
    "# exécuter la ligne ci-dessus une fois, si nécessaire, idem pour en_core_web_lg"
   ],
   "outputs": [],
   "execution_count": 2
  },
  {
   "cell_type": "code",
   "metadata": {
    "ExecuteTime": {
     "end_time": "2025-04-10T13:55:05.938101Z",
     "start_time": "2025-04-10T13:55:05.527279Z"
    }
   },
   "source": [
    "nlp = spacy.load(\"en_core_web_sm\")"
   ],
   "outputs": [],
   "execution_count": 3
  },
  {
   "cell_type": "code",
   "metadata": {
    "ExecuteTime": {
     "end_time": "2025-04-10T13:55:05.952101Z",
     "start_time": "2025-04-10T13:55:05.949882Z"
    }
   },
   "source": "raw_text = \"Reinhold Messner made a solo ascent of Mount Everest and was later a member of the European Parliament.\"",
   "outputs": [],
   "execution_count": 4
  },
  {
   "cell_type": "markdown",
   "metadata": {},
   "source": [
    "**1a.** Veuillez traiter ce texte avec la pipeline 'nlp', et pour chaque entité nommée trouvée veuillez afficher les mots qui la composent et son type."
   ]
  },
  {
   "cell_type": "code",
   "metadata": {
    "ExecuteTime": {
     "end_time": "2025-04-10T13:55:06.020918Z",
     "start_time": "2025-04-10T13:55:06.003192Z"
    }
   },
   "source": [
    "docs = nlp(raw_text)\n",
    "for ent in docs.ents:\n",
    "    print(f\"{ent.text} [{ent.label_}] - {type(ent)}\")"
   ],
   "outputs": [
    {
     "name": "stdout",
     "output_type": "stream",
     "text": [
      "Reinhold Messner [ORG] - <class 'spacy.tokens.span.Span'>\n",
      "Mount Everest [LOC] - <class 'spacy.tokens.span.Span'>\n",
      "the European Parliament [ORG] - <class 'spacy.tokens.span.Span'>\n"
     ]
    }
   ],
   "execution_count": 5
  },
  {
   "cell_type": "code",
   "metadata": {
    "ExecuteTime": {
     "end_time": "2025-04-10T13:55:06.295626Z",
     "start_time": "2025-04-10T13:55:06.055222Z"
    }
   },
   "source": [
    "import nltk\n",
    "# nltk.download('maxent_ne_chunker')\n",
    "# nltk.download('words')\n",
    "# exécuter les deux lignes ci-dessus une fois, si nécessaire"
   ],
   "outputs": [],
   "execution_count": 6
  },
  {
   "cell_type": "markdown",
   "metadata": {},
   "source": [
    "**1b.** Veuillez effectuer avec NLTK la tokenization, le POS tagging et le *NE chunking* de `raw_text` (voir la [documentation NLTK](https://www.nltk.org/api/nltk.chunk.ne_chunk.html#nltk.chunk.ne_chunk)).  Veuillez afficher le résultat et indiquer son type."
   ]
  },
  {
   "cell_type": "code",
   "metadata": {
    "ExecuteTime": {
     "end_time": "2025-04-10T13:55:06.510323Z",
     "start_time": "2025-04-10T13:55:06.303073Z"
    }
   },
   "source": [
    "tokens = nltk.word_tokenize(raw_text)\n",
    "pos_tags = nltk.pos_tag(tokens)\n",
    "ne_tree = nltk.ne_chunk(pos_tags)\n",
    "\n",
    "print(ne_tree)\n",
    "print(type(ne_tree))\n",
    "\n",
    "display(ne_tree)"
   ],
   "outputs": [
    {
     "name": "stdout",
     "output_type": "stream",
     "text": [
      "(S\n",
      "  (PERSON Reinhold/NNP)\n",
      "  (PERSON Messner/NNP)\n",
      "  made/VBD\n",
      "  a/DT\n",
      "  solo/JJ\n",
      "  ascent/NN\n",
      "  of/IN\n",
      "  (PERSON Mount/NNP Everest/NNP)\n",
      "  and/CC\n",
      "  was/VBD\n",
      "  later/RB\n",
      "  a/DT\n",
      "  member/NN\n",
      "  of/IN\n",
      "  the/DT\n",
      "  (ORGANIZATION European/NNP Parliament/NNP)\n",
      "  ./.)\n",
      "<class 'nltk.tree.tree.Tree'>\n"
     ]
    },
    {
     "data": {
      "text/plain": [
       "Tree('S', [Tree('PERSON', [('Reinhold', 'NNP')]), Tree('PERSON', [('Messner', 'NNP')]), ('made', 'VBD'), ('a', 'DT'), ('solo', 'JJ'), ('ascent', 'NN'), ('of', 'IN'), Tree('PERSON', [('Mount', 'NNP'), ('Everest', 'NNP')]), ('and', 'CC'), ('was', 'VBD'), ('later', 'RB'), ('a', 'DT'), ('member', 'NN'), ('of', 'IN'), ('the', 'DT'), Tree('ORGANIZATION', [('European', 'NNP'), ('Parliament', 'NNP')]), ('.', '.')])"
      ],
      "image/svg+xml": "<svg baseProfile=\"full\" height=\"168px\" preserveAspectRatio=\"xMidYMid meet\" style=\"font-family: times, serif; font-weight: normal; font-style: normal; font-size: 16px\" version=\"1.1\" viewBox=\"0,0,1008.0,168.0\" width=\"1008px\" xmlns=\"http://www.w3.org/2000/svg\" xmlns:ev=\"http://www.w3.org/2001/xml-events\" xmlns:xlink=\"http://www.w3.org/1999/xlink\"><defs /><svg width=\"100%\" x=\"0\" y=\"0px\"><defs /><text text-anchor=\"middle\" x=\"50%\" y=\"16px\">S</text></svg><svg width=\"7.93651%\" x=\"0%\" y=\"48px\"><defs /><svg width=\"100%\" x=\"0\" y=\"0px\"><defs /><text text-anchor=\"middle\" x=\"50%\" y=\"16px\">PERSON</text></svg><svg width=\"100%\" x=\"0%\" y=\"48px\"><defs /><svg width=\"100%\" x=\"0\" y=\"0px\"><defs /><text text-anchor=\"middle\" x=\"50%\" y=\"16px\">Reinhold</text></svg><svg width=\"100%\" x=\"0%\" y=\"48px\"><defs /><svg width=\"100%\" x=\"0\" y=\"0px\"><defs /><text text-anchor=\"middle\" x=\"50%\" y=\"16px\">NNP</text></svg></svg><line stroke=\"black\" x1=\"50%\" x2=\"50%\" y1=\"20px\" y2=\"48px\" /></svg><line stroke=\"black\" x1=\"50%\" x2=\"50%\" y1=\"20px\" y2=\"48px\" /></svg><line stroke=\"black\" x1=\"50%\" x2=\"3.96825%\" y1=\"20px\" y2=\"48px\" /><svg width=\"7.14286%\" x=\"7.93651%\" y=\"48px\"><defs /><svg width=\"100%\" x=\"0\" y=\"0px\"><defs /><text text-anchor=\"middle\" x=\"50%\" y=\"16px\">PERSON</text></svg><svg width=\"100%\" x=\"0%\" y=\"48px\"><defs /><svg width=\"100%\" x=\"0\" y=\"0px\"><defs /><text text-anchor=\"middle\" x=\"50%\" y=\"16px\">Messner</text></svg><svg width=\"100%\" x=\"0%\" y=\"48px\"><defs /><svg width=\"100%\" x=\"0\" y=\"0px\"><defs /><text text-anchor=\"middle\" x=\"50%\" y=\"16px\">NNP</text></svg></svg><line stroke=\"black\" x1=\"50%\" x2=\"50%\" y1=\"20px\" y2=\"48px\" /></svg><line stroke=\"black\" x1=\"50%\" x2=\"50%\" y1=\"20px\" y2=\"48px\" /></svg><line stroke=\"black\" x1=\"50%\" x2=\"11.5079%\" y1=\"20px\" y2=\"48px\" /><svg width=\"4.7619%\" x=\"15.0794%\" y=\"48px\"><defs /><svg width=\"100%\" x=\"0\" y=\"0px\"><defs /><text text-anchor=\"middle\" x=\"50%\" y=\"16px\">made</text></svg><svg width=\"100%\" x=\"0%\" y=\"48px\"><defs /><svg width=\"100%\" x=\"0\" y=\"0px\"><defs /><text text-anchor=\"middle\" x=\"50%\" y=\"16px\">VBD</text></svg></svg><line stroke=\"black\" x1=\"50%\" x2=\"50%\" y1=\"20px\" y2=\"48px\" /></svg><line stroke=\"black\" x1=\"50%\" x2=\"17.4603%\" y1=\"20px\" y2=\"48px\" /><svg width=\"3.1746%\" x=\"19.8413%\" y=\"48px\"><defs /><svg width=\"100%\" x=\"0\" y=\"0px\"><defs /><text text-anchor=\"middle\" x=\"50%\" y=\"16px\">a</text></svg><svg width=\"100%\" x=\"0%\" y=\"48px\"><defs /><svg width=\"100%\" x=\"0\" y=\"0px\"><defs /><text text-anchor=\"middle\" x=\"50%\" y=\"16px\">DT</text></svg></svg><line stroke=\"black\" x1=\"50%\" x2=\"50%\" y1=\"20px\" y2=\"48px\" /></svg><line stroke=\"black\" x1=\"50%\" x2=\"21.4286%\" y1=\"20px\" y2=\"48px\" /><svg width=\"4.7619%\" x=\"23.0159%\" y=\"48px\"><defs /><svg width=\"100%\" x=\"0\" y=\"0px\"><defs /><text text-anchor=\"middle\" x=\"50%\" y=\"16px\">solo</text></svg><svg width=\"100%\" x=\"0%\" y=\"48px\"><defs /><svg width=\"100%\" x=\"0\" y=\"0px\"><defs /><text text-anchor=\"middle\" x=\"50%\" y=\"16px\">JJ</text></svg></svg><line stroke=\"black\" x1=\"50%\" x2=\"50%\" y1=\"20px\" y2=\"48px\" /></svg><line stroke=\"black\" x1=\"50%\" x2=\"25.3968%\" y1=\"20px\" y2=\"48px\" /><svg width=\"6.34921%\" x=\"27.7778%\" y=\"48px\"><defs /><svg width=\"100%\" x=\"0\" y=\"0px\"><defs /><text text-anchor=\"middle\" x=\"50%\" y=\"16px\">ascent</text></svg><svg width=\"100%\" x=\"0%\" y=\"48px\"><defs /><svg width=\"100%\" x=\"0\" y=\"0px\"><defs /><text text-anchor=\"middle\" x=\"50%\" y=\"16px\">NN</text></svg></svg><line stroke=\"black\" x1=\"50%\" x2=\"50%\" y1=\"20px\" y2=\"48px\" /></svg><line stroke=\"black\" x1=\"50%\" x2=\"30.9524%\" y1=\"20px\" y2=\"48px\" /><svg width=\"3.1746%\" x=\"34.127%\" y=\"48px\"><defs /><svg width=\"100%\" x=\"0\" y=\"0px\"><defs /><text text-anchor=\"middle\" x=\"50%\" y=\"16px\">of</text></svg><svg width=\"100%\" x=\"0%\" y=\"48px\"><defs /><svg width=\"100%\" x=\"0\" y=\"0px\"><defs /><text text-anchor=\"middle\" x=\"50%\" y=\"16px\">IN</text></svg></svg><line stroke=\"black\" x1=\"50%\" x2=\"50%\" y1=\"20px\" y2=\"48px\" /></svg><line stroke=\"black\" x1=\"50%\" x2=\"35.7143%\" y1=\"20px\" y2=\"48px\" /><svg width=\"12.6984%\" x=\"37.3016%\" y=\"48px\"><defs /><svg width=\"100%\" x=\"0\" y=\"0px\"><defs /><text text-anchor=\"middle\" x=\"50%\" y=\"16px\">PERSON</text></svg><svg width=\"43.75%\" x=\"0%\" y=\"48px\"><defs /><svg width=\"100%\" x=\"0\" y=\"0px\"><defs /><text text-anchor=\"middle\" x=\"50%\" y=\"16px\">Mount</text></svg><svg width=\"100%\" x=\"0%\" y=\"48px\"><defs /><svg width=\"100%\" x=\"0\" y=\"0px\"><defs /><text text-anchor=\"middle\" x=\"50%\" y=\"16px\">NNP</text></svg></svg><line stroke=\"black\" x1=\"50%\" x2=\"50%\" y1=\"20px\" y2=\"48px\" /></svg><line stroke=\"black\" x1=\"50%\" x2=\"21.875%\" y1=\"20px\" y2=\"48px\" /><svg width=\"56.25%\" x=\"43.75%\" y=\"48px\"><defs /><svg width=\"100%\" x=\"0\" y=\"0px\"><defs /><text text-anchor=\"middle\" x=\"50%\" y=\"16px\">Everest</text></svg><svg width=\"100%\" x=\"0%\" y=\"48px\"><defs /><svg width=\"100%\" x=\"0\" y=\"0px\"><defs /><text text-anchor=\"middle\" x=\"50%\" y=\"16px\">NNP</text></svg></svg><line stroke=\"black\" x1=\"50%\" x2=\"50%\" y1=\"20px\" y2=\"48px\" /></svg><line stroke=\"black\" x1=\"50%\" x2=\"71.875%\" y1=\"20px\" y2=\"48px\" /></svg><line stroke=\"black\" x1=\"50%\" x2=\"43.6508%\" y1=\"20px\" y2=\"48px\" /><svg width=\"3.96825%\" x=\"50%\" y=\"48px\"><defs /><svg width=\"100%\" x=\"0\" y=\"0px\"><defs /><text text-anchor=\"middle\" x=\"50%\" y=\"16px\">and</text></svg><svg width=\"100%\" x=\"0%\" y=\"48px\"><defs /><svg width=\"100%\" x=\"0\" y=\"0px\"><defs /><text text-anchor=\"middle\" x=\"50%\" y=\"16px\">CC</text></svg></svg><line stroke=\"black\" x1=\"50%\" x2=\"50%\" y1=\"20px\" y2=\"48px\" /></svg><line stroke=\"black\" x1=\"50%\" x2=\"51.9841%\" y1=\"20px\" y2=\"48px\" /><svg width=\"3.96825%\" x=\"53.9683%\" y=\"48px\"><defs /><svg width=\"100%\" x=\"0\" y=\"0px\"><defs /><text text-anchor=\"middle\" x=\"50%\" y=\"16px\">was</text></svg><svg width=\"100%\" x=\"0%\" y=\"48px\"><defs /><svg width=\"100%\" x=\"0\" y=\"0px\"><defs /><text text-anchor=\"middle\" x=\"50%\" y=\"16px\">VBD</text></svg></svg><line stroke=\"black\" x1=\"50%\" x2=\"50%\" y1=\"20px\" y2=\"48px\" /></svg><line stroke=\"black\" x1=\"50%\" x2=\"55.9524%\" y1=\"20px\" y2=\"48px\" /><svg width=\"5.55556%\" x=\"57.9365%\" y=\"48px\"><defs /><svg width=\"100%\" x=\"0\" y=\"0px\"><defs /><text text-anchor=\"middle\" x=\"50%\" y=\"16px\">later</text></svg><svg width=\"100%\" x=\"0%\" y=\"48px\"><defs /><svg width=\"100%\" x=\"0\" y=\"0px\"><defs /><text text-anchor=\"middle\" x=\"50%\" y=\"16px\">RB</text></svg></svg><line stroke=\"black\" x1=\"50%\" x2=\"50%\" y1=\"20px\" y2=\"48px\" /></svg><line stroke=\"black\" x1=\"50%\" x2=\"60.7143%\" y1=\"20px\" y2=\"48px\" /><svg width=\"3.1746%\" x=\"63.4921%\" y=\"48px\"><defs /><svg width=\"100%\" x=\"0\" y=\"0px\"><defs /><text text-anchor=\"middle\" x=\"50%\" y=\"16px\">a</text></svg><svg width=\"100%\" x=\"0%\" y=\"48px\"><defs /><svg width=\"100%\" x=\"0\" y=\"0px\"><defs /><text text-anchor=\"middle\" x=\"50%\" y=\"16px\">DT</text></svg></svg><line stroke=\"black\" x1=\"50%\" x2=\"50%\" y1=\"20px\" y2=\"48px\" /></svg><line stroke=\"black\" x1=\"50%\" x2=\"65.0794%\" y1=\"20px\" y2=\"48px\" /><svg width=\"6.34921%\" x=\"66.6667%\" y=\"48px\"><defs /><svg width=\"100%\" x=\"0\" y=\"0px\"><defs /><text text-anchor=\"middle\" x=\"50%\" y=\"16px\">member</text></svg><svg width=\"100%\" x=\"0%\" y=\"48px\"><defs /><svg width=\"100%\" x=\"0\" y=\"0px\"><defs /><text text-anchor=\"middle\" x=\"50%\" y=\"16px\">NN</text></svg></svg><line stroke=\"black\" x1=\"50%\" x2=\"50%\" y1=\"20px\" y2=\"48px\" /></svg><line stroke=\"black\" x1=\"50%\" x2=\"69.8413%\" y1=\"20px\" y2=\"48px\" /><svg width=\"3.1746%\" x=\"73.0159%\" y=\"48px\"><defs /><svg width=\"100%\" x=\"0\" y=\"0px\"><defs /><text text-anchor=\"middle\" x=\"50%\" y=\"16px\">of</text></svg><svg width=\"100%\" x=\"0%\" y=\"48px\"><defs /><svg width=\"100%\" x=\"0\" y=\"0px\"><defs /><text text-anchor=\"middle\" x=\"50%\" y=\"16px\">IN</text></svg></svg><line stroke=\"black\" x1=\"50%\" x2=\"50%\" y1=\"20px\" y2=\"48px\" /></svg><line stroke=\"black\" x1=\"50%\" x2=\"74.6032%\" y1=\"20px\" y2=\"48px\" /><svg width=\"3.96825%\" x=\"76.1905%\" y=\"48px\"><defs /><svg width=\"100%\" x=\"0\" y=\"0px\"><defs /><text text-anchor=\"middle\" x=\"50%\" y=\"16px\">the</text></svg><svg width=\"100%\" x=\"0%\" y=\"48px\"><defs /><svg width=\"100%\" x=\"0\" y=\"0px\"><defs /><text text-anchor=\"middle\" x=\"50%\" y=\"16px\">DT</text></svg></svg><line stroke=\"black\" x1=\"50%\" x2=\"50%\" y1=\"20px\" y2=\"48px\" /></svg><line stroke=\"black\" x1=\"50%\" x2=\"78.1746%\" y1=\"20px\" y2=\"48px\" /><svg width=\"17.4603%\" x=\"80.1587%\" y=\"48px\"><defs /><svg width=\"100%\" x=\"0\" y=\"0px\"><defs /><text text-anchor=\"middle\" x=\"50%\" y=\"16px\">ORGANIZATION</text></svg><svg width=\"45.4545%\" x=\"0%\" y=\"48px\"><defs /><svg width=\"100%\" x=\"0\" y=\"0px\"><defs /><text text-anchor=\"middle\" x=\"50%\" y=\"16px\">European</text></svg><svg width=\"100%\" x=\"0%\" y=\"48px\"><defs /><svg width=\"100%\" x=\"0\" y=\"0px\"><defs /><text text-anchor=\"middle\" x=\"50%\" y=\"16px\">NNP</text></svg></svg><line stroke=\"black\" x1=\"50%\" x2=\"50%\" y1=\"20px\" y2=\"48px\" /></svg><line stroke=\"black\" x1=\"50%\" x2=\"22.7273%\" y1=\"20px\" y2=\"48px\" /><svg width=\"54.5455%\" x=\"45.4545%\" y=\"48px\"><defs /><svg width=\"100%\" x=\"0\" y=\"0px\"><defs /><text text-anchor=\"middle\" x=\"50%\" y=\"16px\">Parliament</text></svg><svg width=\"100%\" x=\"0%\" y=\"48px\"><defs /><svg width=\"100%\" x=\"0\" y=\"0px\"><defs /><text text-anchor=\"middle\" x=\"50%\" y=\"16px\">NNP</text></svg></svg><line stroke=\"black\" x1=\"50%\" x2=\"50%\" y1=\"20px\" y2=\"48px\" /></svg><line stroke=\"black\" x1=\"50%\" x2=\"72.7273%\" y1=\"20px\" y2=\"48px\" /></svg><line stroke=\"black\" x1=\"50%\" x2=\"88.8889%\" y1=\"20px\" y2=\"48px\" /><svg width=\"2.38095%\" x=\"97.619%\" y=\"48px\"><defs /><svg width=\"100%\" x=\"0\" y=\"0px\"><defs /><text text-anchor=\"middle\" x=\"50%\" y=\"16px\">.</text></svg><svg width=\"100%\" x=\"0%\" y=\"48px\"><defs /><svg width=\"100%\" x=\"0\" y=\"0px\"><defs /><text text-anchor=\"middle\" x=\"50%\" y=\"16px\">.</text></svg></svg><line stroke=\"black\" x1=\"50%\" x2=\"50%\" y1=\"20px\" y2=\"48px\" /></svg><line stroke=\"black\" x1=\"50%\" x2=\"98.8095%\" y1=\"20px\" y2=\"48px\" /></svg>"
     },
     "metadata": {},
     "output_type": "display_data"
    }
   ],
   "execution_count": 7
  },
  {
   "cell_type": "markdown",
   "metadata": {},
   "source": [
    "**1c.** Veuillez afficher, pour chaque entité nommée, les mots qui la composent et son type.  Vous pouvez parcourir le résultat précédent avec une boucle `for`, et déterminer si un noeud possède une étiquette avec la fonction `hasattr(noeud, 'label')`."
   ]
  },
  {
   "cell_type": "code",
   "metadata": {
    "ExecuteTime": {
     "end_time": "2025-04-10T13:55:06.520544Z",
     "start_time": "2025-04-10T13:55:06.517574Z"
    }
   },
   "source": [
    "for subtree in ne_tree:\n",
    "    if hasattr(subtree, 'label'):\n",
    "        print(subtree.label(), ' '.join([word for word, pos in subtree.leaves()]))"
   ],
   "outputs": [
    {
     "name": "stdout",
     "output_type": "stream",
     "text": [
      "PERSON Reinhold\n",
      "PERSON Messner\n",
      "PERSON Mount Everest\n",
      "ORGANIZATION European Parliament\n"
     ]
    }
   ],
   "execution_count": 8
  },
  {
   "cell_type": "markdown",
   "metadata": {},
   "source": [
    "**1d.** À ce stade, que pensez-vous de la qualité des résultats de chaque système ?"
   ]
  },
  {
   "metadata": {},
   "cell_type": "markdown",
   "source": [
    "> spaCy semble correctement détecter l'Everest et le parlement européen, par contre Reinhold Messner est détecté comme une organisation ce qui n'est pas correct.\n",
    ">\n",
    "> NLTK détecte correctement Reinhold Messner mais sous deux branches différentes, le parlement européen est correctement nommé. Mais l'Everest est considéré comme une personne ce qui est évidemment faux.\n",
    ">\n",
    "> En résumé, les deux systèmes ont des résultats similaires, mais spaCy a quand même une meilleure précision sur les branches de l'arbre regroupant les entités nommées à nom composé."
   ]
  },
  {
   "cell_type": "markdown",
   "metadata": {},
   "source": [
    "## 2. Prise en main des données de test\n",
    "\n",
    "**2a.** Quel est le format du fichier `eng.test.a.conll` ?  Quelle information contient chaque colonne ?  Quel est le format des tags NE ?\n",
    "\n",
    "Note : ce fichier fait partie des données de test pour la NER sur l'anglais de la conférence [CoNLL](https://www.clips.uantwerpen.be/pages/past-workshops) 2003. On peut lire [ici](https://www.clips.uantwerpen.be/conll2003/ner/) la description de la tâche et les scores obtenus.  On peut trouver une copie des données [ici](https://sourceforge.net/p/text-analysis/svn/1243/tree/text-analysis/trunk/Corpora/CoNLL/2003/) ou [ici](https://github.com/synalp/NER/tree/master/corpus/CoNLL-2003).  Les textes proviennent du [corpus Reuters](http://trec.nist.gov/data/reuters/reuters.html)."
   ]
  },
  {
   "metadata": {},
   "cell_type": "markdown",
   "source": [
    "> CoNLL-2003 spécialisé pour le named entity recognition\n",
    ">\n",
    "> 1. le mot\n",
    "> 2. POS tag\n",
    "> 3. syntactic chunk tag\n",
    "> 4. named entity tag\n",
    ">\n",
    "> Les tags NE sont au format BIO (I-TYPE indiquent qu'un mot fait partie d'une entité nommée de type TYPE, et B-TYPE indique que le mot est le premier de l'entité nommée d'une nouvelle phrase si deux phrases du même type se suivent). O indique qu'il n'y a pas d'entité nommée."
   ]
  },
  {
   "cell_type": "markdown",
   "metadata": {},
   "source": [
    "**2b.** Veuillez charger les données de `eng.test.a.conll` grâce à la classe `ConllCorpusReader` de NLTK vue dans les labos précédents (voir [documentation](https://www.nltk.org/api/nltk.corpus.reader.conll.html#nltk.corpus.reader.conll.ConllCorpusReader)). Veuillez lire les colonnes qui contiennent les tokens ('words'), les POS tags ('pos') et les informations sur les entités nommées ('chunk') et afficher les quatre premières phrases, accessibles via la méthode `.iob_sents()`."
   ]
  },
  {
   "cell_type": "code",
   "metadata": {
    "ExecuteTime": {
     "end_time": "2025-04-10T13:55:06.570356Z",
     "start_time": "2025-04-10T13:55:06.567921Z"
    }
   },
   "source": [
    "from nltk.corpus.reader.conll import ConllCorpusReader"
   ],
   "outputs": [],
   "execution_count": 9
  },
  {
   "metadata": {
    "ExecuteTime": {
     "end_time": "2025-04-10T13:55:06.627625Z",
     "start_time": "2025-04-10T13:55:06.623285Z"
    }
   },
   "cell_type": "code",
   "source": [
    "corpus = ConllCorpusReader('.', 'eng.test.a.conll', ('words', 'pos', 'ignore', 'chunk'))\n",
    "\n",
    "sentences = corpus.iob_sents()\n",
    "for i in range(4):\n",
    "    print(f\"Phrase {i + 1}: {sentences[i]}\")"
   ],
   "outputs": [
    {
     "name": "stdout",
     "output_type": "stream",
     "text": [
      "Phrase 1: []\n",
      "Phrase 2: [('CRICKET', 'NNP', 'O'), ('-', ':', 'O'), ('LEICESTERSHIRE', 'NNP', 'I-ORG'), ('TAKE', 'NNP', 'O'), ('OVER', 'IN', 'O'), ('AT', 'NNP', 'O'), ('TOP', 'NNP', 'O'), ('AFTER', 'NNP', 'O'), ('INNINGS', 'NNP', 'O'), ('VICTORY', 'NN', 'O'), ('.', '.', 'O')]\n",
      "Phrase 3: [('LONDON', 'NNP', 'I-LOC'), ('1996-08-30', 'CD', 'O')]\n",
      "Phrase 4: [('West', 'NNP', 'I-MISC'), ('Indian', 'NNP', 'I-MISC'), ('all-rounder', 'NN', 'O'), ('Phil', 'NNP', 'I-PER'), ('Simmons', 'NNP', 'I-PER'), ('took', 'VBD', 'O'), ('four', 'CD', 'O'), ('for', 'IN', 'O'), ('38', 'CD', 'O'), ('on', 'IN', 'O'), ('Friday', 'NNP', 'O'), ('as', 'IN', 'O'), ('Leicestershire', 'NNP', 'I-ORG'), ('beat', 'VBD', 'O'), ('Somerset', 'NNP', 'I-ORG'), ('by', 'IN', 'O'), ('an', 'DT', 'O'), ('innings', 'NN', 'O'), ('and', 'CC', 'O'), ('39', 'CD', 'O'), ('runs', 'NNS', 'O'), ('in', 'IN', 'O'), ('two', 'CD', 'O'), ('days', 'NNS', 'O'), ('to', 'TO', 'O'), ('take', 'VB', 'O'), ('over', 'IN', 'O'), ('at', 'IN', 'O'), ('the', 'DT', 'O'), ('head', 'NN', 'O'), ('of', 'IN', 'O'), ('the', 'DT', 'O'), ('county', 'NN', 'O'), ('championship', 'NN', 'O'), ('.', '.', 'O')]\n"
     ]
    }
   ],
   "execution_count": 10
  },
  {
   "cell_type": "markdown",
   "metadata": {},
   "source": [
    "**2c.** Veuillez préparer les données pour le test, en ne gardant que les phrases ayant au moins trois (3) tokens (pas 0, 1, 2) :\n",
    "\n",
    "* une variable `test_tokens` contiendra les tokens groupés par phrase (liste de listes de strings)\n",
    "* une variable `test_tags` contiendra tous les tags NE en une seule liste (en vue de l'évaluation)"
   ]
  },
  {
   "cell_type": "code",
   "metadata": {
    "ExecuteTime": {
     "end_time": "2025-04-10T13:55:06.823140Z",
     "start_time": "2025-04-10T13:55:06.691164Z"
    }
   },
   "source": [
    "test_tokens = []\n",
    "test_tags = []\n",
    "\n",
    "for sentence in sentences:\n",
    "    if len(sentence) >= 3:\n",
    "        test_tokens.append([word for word, _, _ in sentence])\n",
    "        test_tags += [tag for _, _, tag in sentence]"
   ],
   "outputs": [],
   "execution_count": 11
  },
  {
   "cell_type": "markdown",
   "metadata": {},
   "source": [
    "**2d.** Combien d'occurrences de tags contient `test_tags`?  Combien de tags différents y a-t-il, et lesquels sont-ils ?  Combien il y a d'occurrences de tags de chaque type ?  Combien de phrases y a-t-il dans `test_tokens` ?"
   ]
  },
  {
   "cell_type": "code",
   "metadata": {
    "ExecuteTime": {
     "end_time": "2025-04-10T13:55:06.838518Z",
     "start_time": "2025-04-10T13:55:06.831209Z"
    }
   },
   "source": [
    "print(f\"Nombre total de tags : {len(test_tags)}\")\n",
    "print(f\"Nombre de phrases : {len(test_tokens)}\")\n",
    "\n",
    "unique_tags = list(set(test_tags))\n",
    "print(f\"Nombre de tags différents : {len(unique_tags)}\")\n",
    "print(f\"Tags différents : {unique_tags}\")\n",
    "for tag in unique_tags:\n",
    "    print(f\"Nombre d'occurrences de {tag} : {test_tags.count(tag)}\")"
   ],
   "outputs": [
    {
     "name": "stdout",
     "output_type": "stream",
     "text": [
      "Nombre total de tags : 50817\n",
      "Nombre de phrases : 2970\n",
      "Nombre de tags différents : 5\n",
      "Tags différents : ['I-ORG', 'O', 'I-PER', 'I-MISC', 'I-LOC']\n",
      "Nombre d'occurrences de I-ORG : 2080\n",
      "Nombre d'occurrences de O : 42474\n",
      "Nombre d'occurrences de I-PER : 3097\n",
      "Nombre d'occurrences de I-MISC : 1228\n",
      "Nombre d'occurrences de I-LOC : 1938\n"
     ]
    }
   ],
   "execution_count": 12
  },
  {
   "cell_type": "markdown",
   "metadata": {},
   "source": [
    "## 3. Performances de NLTK pour la NER\n",
    "\n",
    "**3a.** Le NER de NLTK a un jeu de tags différents de celui des données de test.  Veuillez chercher les informations pour compléter la fonction suivante qui convertit chaque tag du NER de NLTK vers le tag correspondant pour les données de test. "
   ]
  },
  {
   "cell_type": "code",
   "metadata": {
    "ExecuteTime": {
     "end_time": "2025-04-10T13:55:06.882940Z",
     "start_time": "2025-04-10T13:55:06.878853Z"
    }
   },
   "source": [
    "def convert_nltk_conll(nltk_tag):\n",
    "    corresp = {'O': 'O',\n",
    "               'ORGANIZATION': 'I-ORG',\n",
    "               'PERSON': 'I-PER',\n",
    "               'LOCATION': 'I-LOC',\n",
    "               'FACILITY': 'I-LOC',\n",
    "               'GPE': 'I-LOC',  # Geo-Political Entity\n",
    "               'GSP': 'I-MISC',  # Geo-Socio-Political group\n",
    "               'MISC': 'I-MISC', }\n",
    "    if nltk_tag in corresp:\n",
    "        return corresp[nltk_tag]\n",
    "    else:\n",
    "        print(f\"Tag inconnu : {nltk_tag}\")\n",
    "        return 'I-MISC'\n"
   ],
   "outputs": [],
   "execution_count": 13
  },
  {
   "cell_type": "markdown",
   "metadata": {},
   "source": [
    "**3b.** Veuillez exécuter la NER de NLTK sur chacune des phrases de `test_tokens`, ce qui assure que NLTK aura la même tokenisation que les données de référence.  Veuillez stocker les tags dans une liste unique appelée `nltk_tags`."
   ]
  },
  {
   "cell_type": "code",
   "metadata": {
    "ExecuteTime": {
     "end_time": "2025-04-10T13:55:15.917017Z",
     "start_time": "2025-04-10T13:55:06.925988Z"
    }
   },
   "source": [
    "nltk_tags = []\n",
    "\n",
    "for sentence in test_tokens:\n",
    "    chunks = nltk.ne_chunk(nltk.pos_tag(sentence))\n",
    "    for subtree in chunks:\n",
    "        if hasattr(subtree, 'label'):\n",
    "            nltk_tags += [subtree.label() for leaf in subtree.leaves()]\n",
    "        else:\n",
    "            nltk_tags.append('O')"
   ],
   "outputs": [],
   "execution_count": 14
  },
  {
   "cell_type": "markdown",
   "metadata": {},
   "source": [
    "**3c.** Veuillez convertir les tags de `nltk_tags` grâce à la fonction précédente, dans une liste appelée `nltk_tags_conv`.  Veuillez afficher le nombre total de tags et les dix premiers.  Vous pouvez plusieurs essais en changeant la fonction, pour aboutir à la conversion qui maximise le score."
   ]
  },
  {
   "cell_type": "code",
   "metadata": {
    "ExecuteTime": {
     "end_time": "2025-04-10T13:55:15.945856Z",
     "start_time": "2025-04-10T13:55:15.924883Z"
    }
   },
   "source": [
    "nltk_tags_conv = [convert_nltk_conll(tag) for tag in nltk_tags]\n",
    "print(f\"Nombre total de tags : {len(nltk_tags_conv)}\")\n",
    "print(f\"Dix premiers tags : {nltk_tags_conv[:10]}\")"
   ],
   "outputs": [
    {
     "name": "stdout",
     "output_type": "stream",
     "text": [
      "Nombre total de tags : 50817\n",
      "Dix premiers tags : ['I-LOC', 'O', 'I-ORG', 'O', 'O', 'O', 'I-ORG', 'O', 'I-ORG', 'O']\n"
     ]
    }
   ],
   "execution_count": 15
  },
  {
   "cell_type": "markdown",
   "metadata": {},
   "source": [
    "**3d.** Veuillez afficher le rapport d'évaluation de classification obtenu de Scikit-learn et la matrice de confusion pour tous les types de tags apparaissant dans les données de test."
   ]
  },
  {
   "cell_type": "code",
   "metadata": {
    "ExecuteTime": {
     "end_time": "2025-04-10T13:55:15.973237Z",
     "start_time": "2025-04-10T13:55:15.969897Z"
    }
   },
   "source": [
    "import numpy as np\n",
    "\n",
    "def dummy_npwarn_decorator_factory():\n",
    "    def npwarn_decorator(x):\n",
    "        return x\n",
    "    return npwarn_decorator\n",
    "\n",
    "np._no_nep50_warning = getattr(np, '_no_nep50_warning', dummy_npwarn_decorator_factory)\n",
    "\n",
    "import matplotlib.pyplot as plt\n",
    "import seaborn as sns\n",
    "from sklearn.metrics import classification_report, confusion_matrix, ConfusionMatrixDisplay"
   ],
   "outputs": [],
   "execution_count": 16
  },
  {
   "cell_type": "code",
   "metadata": {
    "ExecuteTime": {
     "end_time": "2025-04-10T14:00:43.209326Z",
     "start_time": "2025-04-10T14:00:42.856412Z"
    }
   },
   "source": [
    "print(\"Rapport d'évaluation :\")\n",
    "print(classification_report(test_tags, nltk_tags_conv, zero_division=0, digits=4))"
   ],
   "outputs": [
    {
     "name": "stdout",
     "output_type": "stream",
     "text": [
      "Rapport d'évaluation :\n",
      "              precision    recall  f1-score   support\n",
      "\n",
      "       I-LOC     0.5451    0.7203    0.6206      1938\n",
      "      I-MISC     0.1556    0.0057    0.0110      1228\n",
      "       I-ORG     0.5094    0.3500    0.4149      2080\n",
      "       I-PER     0.7671    0.7446    0.7557      3097\n",
      "           O     0.9597    0.9891    0.9742     42474\n",
      "\n",
      "    accuracy                         0.9140     50817\n",
      "   macro avg     0.5874    0.5619    0.5553     50817\n",
      "weighted avg     0.8943    0.9140    0.9012     50817\n",
      "\n"
     ]
    }
   ],
   "execution_count": 37
  },
  {
   "cell_type": "code",
   "metadata": {
    "ExecuteTime": {
     "end_time": "2025-04-10T13:55:16.678317Z",
     "start_time": "2025-04-10T13:55:16.343306Z"
    }
   },
   "source": [
    "print(\"Matrice de confusion :\")\n",
    "confusion = confusion_matrix(test_tags, nltk_tags_conv, labels=unique_tags)\n",
    "print(confusion)\n",
    "disp = ConfusionMatrixDisplay(confusion, display_labels=unique_tags)\n",
    "disp.plot(cmap='Blues')\n",
    "plt.grid(False)\n",
    "plt.xlabel('Prédictions')\n",
    "plt.ylabel('Vérité terrain')\n",
    "plt.title('Matrice de confusion')\n",
    "plt.show()"
   ],
   "outputs": [
    {
     "name": "stdout",
     "output_type": "stream",
     "text": [
      "Matrice de confusion :\n",
      "[[  728   717   377     5   253]\n",
      " [  144 42011    76     2   241]\n",
      " [  156   473  2306     2   160]\n",
      " [  187   438    85     7   511]\n",
      " [  214   137   162    29  1396]]\n"
     ]
    },
    {
     "data": {
      "text/plain": [
       "<Figure size 640x480 with 2 Axes>"
      ],
      "image/png": "[encoded data removed]"
     },
     "metadata": {},
     "output_type": "display_data"
    }
   ],
   "execution_count": 18
  },
  {
   "cell_type": "markdown",
   "metadata": {},
   "source": [
    "## 4. Performances de spaCy pour la NER\n",
    "\n",
    "**4a.** Le NER de spaCy a aussi un jeu de tags différents de celui des données de test.  Veuillez chercher les informations pour compléter la fonction suivante qui convertir chaque tag du NER de spaCy dans le tag correspondant pour les données de test.  Attention à la logique des conversions. "
   ]
  },
  {
   "cell_type": "code",
   "metadata": {
    "ExecuteTime": {
     "end_time": "2025-04-10T13:55:16.694237Z",
     "start_time": "2025-04-10T13:55:16.690183Z"
    }
   },
   "source": [
    "def convert_spacy_conll(spacy_tag):\n",
    "    corresp = {'O': 'O',\n",
    "               'ORG': 'I-ORG',\n",
    "               'PERSON': 'I-PER',\n",
    "               'LOC': 'I-LOC',\n",
    "               'FAC': 'I-LOC',  # Facility\n",
    "               'GPE': 'I-LOC',  # Geo-Political Entity\n",
    "               'NORP': 'I-MISC',  # Nationalities or religious or political groups\n",
    "               'LAW': 'I-MISC',\n",
    "               'PRODUCT': 'I-MISC',\n",
    "               'EVENT': 'I-MISC',\n",
    "               'WORK_OF_ART': 'I-MISC',\n",
    "               'MONEY': 'O',\n",
    "               'LANGUAGE': 'O',\n",
    "               'DATE': 'O',\n",
    "               'TIME': 'O',\n",
    "               'QUANTITY': 'O',\n",
    "               'PERCENT': 'O',\n",
    "               'CARDINAL': 'O',\n",
    "               'ORDINAL': 'O',\n",
    "               }\n",
    "    if spacy_tag in corresp:\n",
    "        return corresp[spacy_tag]\n",
    "    else:\n",
    "        print(f\"Tag inconnu : {spacy_tag}\")\n",
    "        return 'I-MISC'\n"
   ],
   "outputs": [],
   "execution_count": 19
  },
  {
   "metadata": {},
   "cell_type": "markdown",
   "source": "> Note: il semblerait que spaCy définisse des entités beaucoup plus spécifiques que le format CoNLL-03 et NLTK comme par exemple les différents types de quantités (quantity, percent, cardinal, ordinal) et de temps (date, time). En comparant les scores obtenus après conversion. Nous pouvons donc de façon assez sure retirer les quantité et le temps en les traduisant comme \"outside (O)\", ceci car on peut déduire que ces entités ne sont pas considérées comme des entités nommées dans les deux résultats précédents."
  },
  {
   "cell_type": "markdown",
   "metadata": {},
   "source": [
    "**4b.** Veuillez exécuter la NER de spaCy sur chacune des phrases de `test_tokens`, ce qui assure que spaCy aura la même tokenisation que les données de référence.  Veuillez stocker les tags dans une liste unique appelée `spacy_tags`."
   ]
  },
  {
   "cell_type": "code",
   "metadata": {
    "ExecuteTime": {
     "end_time": "2025-04-10T13:55:37.643296Z",
     "start_time": "2025-04-10T13:55:16.733989Z"
    }
   },
   "source": [
    "spacy_tags = []\n",
    "\n",
    "for sentence in test_tokens:\n",
    "    doc = nlp(Doc(nlp.vocab, sentence))\n",
    "    for token in doc:\n",
    "        if token.ent_iob == 2:\n",
    "            spacy_tags.append('O')\n",
    "        else:\n",
    "            spacy_tags.append(token.ent_type_)"
   ],
   "outputs": [],
   "execution_count": 20
  },
  {
   "cell_type": "markdown",
   "metadata": {},
   "source": [
    "**4c.** Veuillez convertir les tags de `spacy_tags` grâce à la fonction précédente, dans une liste appelée `spacy_tags_conv`.  Veuillez afficher le nombre total de tags et les dix premiers.  Vous pouvez plusieurs essais en changeant la fonction, pour aboutir à la conversion qui maximise le score."
   ]
  },
  {
   "cell_type": "code",
   "metadata": {
    "ExecuteTime": {
     "end_time": "2025-04-10T13:55:37.744732Z",
     "start_time": "2025-04-10T13:55:37.691430Z"
    }
   },
   "source": [
    "spacy_tags_conv = [convert_spacy_conll(tag) for tag in spacy_tags]\n",
    "print(f\"Nombre total de tags : {len(spacy_tags_conv)}\")\n",
    "print(f\"Dix premiers tags : {spacy_tags_conv[:10]}\")"
   ],
   "outputs": [
    {
     "name": "stdout",
     "output_type": "stream",
     "text": [
      "Nombre total de tags : 50817\n",
      "Dix premiers tags : ['O', 'O', 'O', 'O', 'O', 'O', 'O', 'O', 'O', 'O']\n"
     ]
    }
   ],
   "execution_count": 21
  },
  {
   "cell_type": "markdown",
   "metadata": {},
   "source": [
    "**4d.** Veuillez afficher le rapport d'évaluation de classification obtenu de Scikit-learn et la matrice de confusion pour tous les types de tags apparaissant dans les données de test."
   ]
  },
  {
   "cell_type": "code",
   "metadata": {
    "ExecuteTime": {
     "end_time": "2025-04-10T14:00:42.837791Z",
     "start_time": "2025-04-10T14:00:42.490134Z"
    }
   },
   "source": [
    "print(\"Rapport d'évaluation :\")\n",
    "print(classification_report(test_tags, spacy_tags_conv, zero_division=0, digits=4))"
   ],
   "outputs": [
    {
     "name": "stdout",
     "output_type": "stream",
     "text": [
      "Rapport d'évaluation :\n",
      "              precision    recall  f1-score   support\n",
      "\n",
      "       I-LOC     0.7925    0.8019    0.7971      1938\n",
      "      I-MISC     0.6996    0.6107    0.6522      1228\n",
      "       I-ORG     0.5233    0.5240    0.5237      2080\n",
      "       I-PER     0.8268    0.7123    0.7653      3097\n",
      "           O     0.9659    0.9786    0.9722     42474\n",
      "\n",
      "    accuracy                         0.9282     50817\n",
      "   macro avg     0.7616    0.7255    0.7421     50817\n",
      "weighted avg     0.9263    0.9282    0.9268     50817\n",
      "\n"
     ]
    }
   ],
   "execution_count": 36
  },
  {
   "metadata": {
    "ExecuteTime": {
     "end_time": "2025-04-10T13:55:38.187664Z",
     "start_time": "2025-04-10T13:55:37.995420Z"
    }
   },
   "cell_type": "code",
   "source": [
    "print(\"Matrice de confusion :\")\n",
    "confusion = confusion_matrix(test_tags, spacy_tags_conv, labels=unique_tags)\n",
    "print(confusion)\n",
    "disp = ConfusionMatrixDisplay(confusion, display_labels=unique_tags)\n",
    "disp.plot(cmap='Blues')\n",
    "plt.grid(False)\n",
    "plt.xlabel('Prédictions')\n",
    "plt.ylabel('Vérité terrain')\n",
    "plt.title('Matrice de confusion')\n",
    "plt.show()"
   ],
   "outputs": [
    {
     "name": "stdout",
     "output_type": "stream",
     "text": [
      "Matrice de confusion :\n",
      "[[ 1090   527   224    41   198]\n",
      " [  435 41566   160   229    84]\n",
      " [  275   511  2206    26    79]\n",
      " [  147   251    34   750    46]\n",
      " [  136   178    44    26  1554]]\n"
     ]
    },
    {
     "data": {
      "text/plain": [
       "<Figure size 640x480 with 2 Axes>"
      ],
      "image/png": "[encoded data removed]"
     },
     "metadata": {},
     "output_type": "display_data"
    }
   ],
   "execution_count": 23
  },
  {
   "cell_type": "markdown",
   "metadata": {},
   "source": [
    "**4e.** Veuillez exécuter également le modèle 'en_core_web_lg' de spacy et afficher le rapport d'évaluation (il n'est pas demander d'afficher la matrice de confusion).  Vous pouvez recopier ici le minimum de code nécessaire à l'obtention des résultats, avec une nouvelle pipeline spaCy appelée 'nlp2'."
   ]
  },
  {
   "cell_type": "code",
   "metadata": {
    "ExecuteTime": {
     "end_time": "2025-04-10T14:00:42.484169Z",
     "start_time": "2025-04-10T14:00:07.642975Z"
    }
   },
   "source": [
    "# !python -m spacy download en_core_web_lg\n",
    "\n",
    "nlp2 = spacy.load(\"en_core_web_lg\")\n",
    "spacy_tags2 = []\n",
    "for sentence in test_tokens:\n",
    "    doc = nlp2(Doc(nlp2.vocab, sentence))\n",
    "    for token in doc:\n",
    "        if token.ent_iob == 2:\n",
    "            spacy_tags2.append('O')\n",
    "        else:\n",
    "            spacy_tags2.append(token.ent_type_)\n",
    "\n",
    "spacy_tags_conv2 = [convert_spacy_conll(tag) for tag in spacy_tags2]\n",
    "\n",
    "print(\"Rapport d'évaluation :\")\n",
    "print(classification_report(test_tags, spacy_tags_conv2, zero_division=0, digits=4))\n"
   ],
   "outputs": [
    {
     "name": "stdout",
     "output_type": "stream",
     "text": [
      "Rapport d'évaluation :\n",
      "              precision    recall  f1-score   support\n",
      "\n",
      "       I-LOC     0.7541    0.8736    0.8095      1938\n",
      "      I-MISC     0.8364    0.6580    0.7366      1228\n",
      "       I-ORG     0.5519    0.6005    0.5752      2080\n",
      "       I-PER     0.9134    0.8176    0.8628      3097\n",
      "           O     0.9780    0.9803    0.9792     42474\n",
      "\n",
      "    accuracy                         0.9430     50817\n",
      "   macro avg     0.8068    0.7860    0.7926     50817\n",
      "weighted avg     0.9447    0.9430    0.9432     50817\n",
      "\n"
     ]
    }
   ],
   "execution_count": 35
  },
  {
   "cell_type": "markdown",
   "metadata": {},
   "source": [
    "## 5. Utilisation d'embeddings contextualisés fournis par BERT\n",
    "\n",
    "Dans cette section, vous allez évaluer un modèle basé sur le Transformer, qui fournit des embeddings contextualisés pour chaque token.  Ces embeddings sont ensuite utilisés par une couche finale (appelée _NER head_) pour assigner à chaque token une étiquette indiquant les entités nommées.  Le modèle et les instructions pour l'utiliser sont disponibles ici : https://huggingface.co/dslim/distilbert-NER (il s'agit d'une version de BERT \"distillée\" dans un modèle plus léger, suivi du _NER head_).\n",
    "\n",
    "**5a.** Prise en main du modèle : à l'aide des exemples fournis sur Hugging Face, veuillez appliquer DistilBERT_NER sur les 3 premières phrases des données contenues dans `test_tokens` (voir le point 2c) et afficher les résultats obtenus.  Quelles sont les différences avec les résultats de NLTK et de spaCy ?"
   ]
  },
  {
   "cell_type": "code",
   "metadata": {
    "ExecuteTime": {
     "end_time": "2025-04-10T13:56:05.183470Z",
     "start_time": "2025-04-10T13:56:02.073905Z"
    }
   },
   "source": [
    "# Importer les trois classes, créer le tokenizer, le modèle et la pipeline.\n",
    "from transformers import AutoTokenizer, AutoModelForTokenClassification\n",
    "from transformers import pipeline\n",
    "\n",
    "tokenizer = AutoTokenizer.from_pretrained(\"dslim/distilbert-NER\")\n",
    "model = AutoModelForTokenClassification.from_pretrained(\"dslim/distilbert-NER\")\n",
    "\n",
    "nlp_bert = pipeline(\"ner\", model=model, tokenizer=tokenizer)"
   ],
   "outputs": [
    {
     "name": "stderr",
     "output_type": "stream",
     "text": [
      "Device set to use cpu\n"
     ]
    }
   ],
   "execution_count": 25
  },
  {
   "metadata": {
    "ExecuteTime": {
     "end_time": "2025-04-10T13:56:05.337290Z",
     "start_time": "2025-04-10T13:56:05.227995Z"
    }
   },
   "cell_type": "code",
   "source": [
    "# Tester la pipeline sur les 3 premières phrases de test_tokens : afficher la phrase et le résultat de la pipeline.\n",
    "# Concaténer les tokens avec ' '.join(liste_de_tokens) avant de les donner à la pipeline.\n",
    "for i in range(3):\n",
    "    print(f\"Phrase {i + 1}: {' '.join(test_tokens[i])}\")\n",
    "    res = nlp_bert(' '.join(test_tokens[i]))\n",
    "    print(\" \".join([f\"{tag['word']} [{tag['entity']}-{tag['score']:.3f}]\" for tag in res]))\n",
    "    print()"
   ],
   "outputs": [
    {
     "name": "stdout",
     "output_type": "stream",
     "text": [
      "Phrase 1: CRICKET - LEICESTERSHIRE TAKE OVER AT TOP AFTER INNINGS VICTORY .\n",
      "L [B-PER-0.708] ##EI [B-PER-0.660] ##CE [B-PER-0.631] ##ST [B-PER-0.714] ##ER [B-PER-0.718] ##S [B-PER-0.810] ##H [B-PER-0.453] ##IR [B-PER-0.727] ##E [B-PER-0.762]\n",
      "\n",
      "Phrase 2: West Indian all-rounder Phil Simmons took four for 38 on Friday as Leicestershire beat Somerset by an innings and 39 runs in two days to take over at the head of the county championship .\n",
      "West [B-MISC-0.992] Indian [I-MISC-0.984] Phil [B-PER-0.999] Simmons [I-PER-0.999] Leicestershire [B-ORG-0.978] Somerset [B-ORG-0.991]\n",
      "\n",
      "Phrase 3: Their stay on top , though , may be short-lived as title rivals Essex , Derbyshire and Surrey all closed in on victory while Kent made up for lost time in their rain-affected match against Nottinghamshire .\n",
      "Essex [B-ORG-0.999] Derbyshire [B-ORG-0.998] Surrey [B-ORG-0.997] Kent [B-ORG-0.998] Nottinghamshire [B-ORG-0.995]\n",
      "\n"
     ]
    }
   ],
   "execution_count": 26
  },
  {
   "metadata": {},
   "cell_type": "markdown",
   "source": [
    "> Le modèle BERT donne des résultats sous forme de liste contenant uniquement les entités nommées, les tokens \"O\" sont omis. Il y a aussi une information supplémentaire contenant le score de certitude du réseau de neurone.\n",
    ">\n",
    "> On constate que le mot \"LEICESTERSHIRE\" tout en majuscule est inconnu du modèle et a donc été séparé en beaucoup de sous-tokens préfixés par \"##\" et le modèle a entièrement catégorisé ces sous-tokens comme \"PER\" ce qui est incorrect dans ce context. Le nommage du même mot dans la deuxième phrase a été fait correctement avec \"ORG\" quand on parle bien d'une équipe de sport.\n",
    ">\n",
    "> On notera aussi que \"West Indian\" a mien été taggé comme \"MISC\" et dans le modèle utilisé par spaCy pourrait être reconnu comme \"NORP\" (Nationalities or religious or political groups) ce qui est correct dans ce contexte car on parle bien du joueur Phil Simmons qui est un joueur de cricket des Antilles.\n",
    ">\n",
    "> Mis à part le mot en majuscule, on constate que les scores de certitude sont bons et que les entités nommées y correspondant sont correctes. Dans ce contexte où tous les noms de villes sont en faites les équipes de sport, ils ont tous été taggés comme \"ORG\", et leur séparation est faite correctement (avec le format BIO, Phil Simmons a bien été reconnu comme une seule entité, et les noms de villes appondus dans la troisième phrase ont bien été séparés avec trois fois B-ORG)."
   ]
  },
  {
   "cell_type": "markdown",
   "metadata": {},
   "source": [
    "**5b.** Le modèle DistilBERT utilise son propre tokeniseur, c'est pourquoi les étiquettes indiquant les entités nommées sont parfois portées par plusieurs *subwords* composant un mot.  Il faut donc parfois agréger une liste d'étiquettes en une seule.  \n",
    "\n",
    "Veuillez écrire une fonction qui prend en entrée une liste d'étiquettes et retourne une seule étiquette : soit la première, soit celle qui est majoritaire.  Cette fonction sera utilisée plus loin."
   ]
  },
  {
   "cell_type": "code",
   "metadata": {
    "ExecuteTime": {
     "end_time": "2025-04-10T13:56:05.385852Z",
     "start_time": "2025-04-10T13:56:05.380993Z"
    }
   },
   "source": [
    "from collections import Counter\n",
    "\n",
    "def tag_fusion(tag_list, method='first'):  # ou method='majority'\n",
    "    if method == 'first':\n",
    "        return tag_list[0]\n",
    "    elif method == 'majority':\n",
    "        return Counter(tag_list).most_common(1)[0][0]\n",
    "    else:\n",
    "        raise ValueError()\n",
    "\n",
    "print(tag_fusion(['O', 'B-PER', 'B-PER'], method='majority'))"
   ],
   "outputs": [
    {
     "name": "stdout",
     "output_type": "stream",
     "text": [
      "B-PER\n"
     ]
    }
   ],
   "execution_count": 27
  },
  {
   "cell_type": "markdown",
   "metadata": {},
   "source": [
    "**5c.** Veuillez afficher le `set` des tags apparaissant dans les résultats de DistilBERT_NER sur les 50 premières phrases du corpus.  Comment se comparent-ils aux tags des données de test CoNLL ?"
   ]
  },
  {
   "cell_type": "code",
   "metadata": {
    "ExecuteTime": {
     "end_time": "2025-04-10T13:56:07.145611Z",
     "start_time": "2025-04-10T13:56:05.409863Z"
    }
   },
   "source": [
    "bert_tags = []\n",
    "for i in range(50):\n",
    "    res = nlp_bert(' '.join(test_tokens[i]))\n",
    "    bert_tags += [tag['entity'] for tag in res]\n",
    "\n",
    "unique_bert_tags = set(bert_tags)\n",
    "print(f\"Nombre de tags différents : {len(unique_bert_tags)}\")\n",
    "print(f\"Tags différents : {unique_bert_tags}\")"
   ],
   "outputs": [
    {
     "name": "stdout",
     "output_type": "stream",
     "text": [
      "Nombre de tags différents : 8\n",
      "Tags différents : {'I-ORG', 'B-PER', 'B-LOC', 'I-PER', 'I-MISC', 'B-ORG', 'B-MISC', 'I-LOC'}\n"
     ]
    }
   ],
   "execution_count": 28
  },
  {
   "metadata": {},
   "cell_type": "markdown",
   "source": [
    "> Le modèle peut reconnaitre les entités de types suivantes: ORG, PER, LOC et MISC pour les éléments notables (comme typiquement la nationalité mentionné précédemment).\n",
    ">\n",
    "> Les tags sont formattés au format BIO (B- pour le début d'une entité et I- pour l'intérieur d'une entité)."
   ]
  },
  {
   "cell_type": "markdown",
   "metadata": {},
   "source": [
    "**5d.**  Sur le modèle des points 3a et 4a, veuillez écrire une fonction qui convertit les tags générés par DistilBERT_NER aux tags des donnéees de test.  Vous utiliserez cette fonction plus loin.  "
   ]
  },
  {
   "cell_type": "code",
   "metadata": {
    "ExecuteTime": {
     "end_time": "2025-04-10T13:56:07.187113Z",
     "start_time": "2025-04-10T13:56:07.182062Z"
    }
   },
   "source": [
    "def convert_bert_conll(bert_tag):\n",
    "    if bert_tag.startswith('B-'):\n",
    "        return 'I-' + bert_tag[2:]\n",
    "\n",
    "    return bert_tag"
   ],
   "outputs": [],
   "execution_count": 29
  },
  {
   "cell_type": "markdown",
   "metadata": {},
   "source": [
    "**5e.** La pipeline DistilBERT_NER utilise son propre tokeniseur, qui ne peut pas être changé, car le modèle DistilBERT a été défini et entraîné avec lui.  On doit donc convertir les tokens du modèle à la même tokenisation que celle des données de test, en vue de l'évaluation.  Pour cela, on vous donne la fonction `convert_tokens` ainsi que du code pour la tester.  Veuillez étudier le code pour pouvoir l'utiliser plus bas, puis répondez aux questions ci-après."
   ]
  },
  {
   "cell_type": "code",
   "metadata": {
    "ExecuteTime": {
     "end_time": "2025-04-10T13:56:07.279512Z",
     "start_time": "2025-04-10T13:56:07.271209Z"
    }
   },
   "source": [
    "def convert_tokens(ref_tokens, bert_result, word_ids):\n",
    "    tokenized = tokenizer.tokenize(' '.join(ref_tokens))\n",
    "    all_tags = []\n",
    "    for tok, i in zip(tokenized, range(len(tokenized))):\n",
    "        label = [tag['entity'] for tag in bert_result if tag['index'] == i + 1]\n",
    "        if label:\n",
    "            label = label[0]\n",
    "        else:\n",
    "            label = 'O'\n",
    "        if tok[:2] == '##' or word_ids[i] == word_ids[i - 1]:\n",
    "            all_tags[-1].append(label)\n",
    "        else:\n",
    "            all_tags.append([label])\n",
    "    return [tag_fusion(taglist, method='first') for taglist in all_tags]"
   ],
   "outputs": [],
   "execution_count": 30
  },
  {
   "cell_type": "code",
   "metadata": {
    "ExecuteTime": {
     "end_time": "2025-04-10T13:56:07.398356Z",
     "start_time": "2025-04-10T13:56:07.348387Z"
    }
   },
   "source": [
    "# Test de la fonction convert_tokens:\n",
    "i = 1  # choix de la phrase\n",
    "\n",
    "def print_len(l):\n",
    "    print(len(l), '--', l)\n",
    "\n",
    "print_len(test_tokens[i])  # Affichage 1\n",
    "tokenized_by_bert = tokenizer(test_tokens[i], add_special_tokens=False, is_split_into_words=True)\n",
    "print_len(tokenizer.convert_ids_to_tokens(tokenized_by_bert[\"input_ids\"]))  # Affichage 2\n",
    "print_len(tokenized_by_bert.word_ids())  # Affichage 3\n",
    "tagged_by_bert = nlp_bert(' '.join(test_tokens[i]))\n",
    "print_len(tagged_by_bert)  # Affichage 4\n",
    "print_len(convert_tokens(test_tokens[i], tagged_by_bert, tokenized_by_bert.word_ids()))  # Affichage 5"
   ],
   "outputs": [
    {
     "name": "stdout",
     "output_type": "stream",
     "text": [
      "35 -- ['West', 'Indian', 'all-rounder', 'Phil', 'Simmons', 'took', 'four', 'for', '38', 'on', 'Friday', 'as', 'Leicestershire', 'beat', 'Somerset', 'by', 'an', 'innings', 'and', '39', 'runs', 'in', 'two', 'days', 'to', 'take', 'over', 'at', 'the', 'head', 'of', 'the', 'county', 'championship', '.']\n",
      "38 -- ['West', 'Indian', 'all', '-', 'round', '##er', 'Phil', 'Simmons', 'took', 'four', 'for', '38', 'on', 'Friday', 'as', 'Leicestershire', 'beat', 'Somerset', 'by', 'an', 'innings', 'and', '39', 'runs', 'in', 'two', 'days', 'to', 'take', 'over', 'at', 'the', 'head', 'of', 'the', 'county', 'championship', '.']\n",
      "38 -- [0, 1, 2, 2, 2, 2, 3, 4, 5, 6, 7, 8, 9, 10, 11, 12, 13, 14, 15, 16, 17, 18, 19, 20, 21, 22, 23, 24, 25, 26, 27, 28, 29, 30, 31, 32, 33, 34]\n",
      "6 -- [{'entity': 'B-MISC', 'score': np.float32(0.99248767), 'index': 1, 'word': 'West', 'start': 0, 'end': 4}, {'entity': 'I-MISC', 'score': np.float32(0.9836287), 'index': 2, 'word': 'Indian', 'start': 5, 'end': 11}, {'entity': 'B-PER', 'score': np.float32(0.9989706), 'index': 7, 'word': 'Phil', 'start': 24, 'end': 28}, {'entity': 'I-PER', 'score': np.float32(0.99917346), 'index': 8, 'word': 'Simmons', 'start': 29, 'end': 36}, {'entity': 'B-ORG', 'score': np.float32(0.97821623), 'index': 16, 'word': 'Leicestershire', 'start': 67, 'end': 81}, {'entity': 'B-ORG', 'score': np.float32(0.9907981), 'index': 18, 'word': 'Somerset', 'start': 87, 'end': 95}]\n",
      "35 -- ['B-MISC', 'I-MISC', 'O', 'B-PER', 'I-PER', 'O', 'O', 'O', 'O', 'O', 'O', 'O', 'B-ORG', 'O', 'B-ORG', 'O', 'O', 'O', 'O', 'O', 'O', 'O', 'O', 'O', 'O', 'O', 'O', 'O', 'O', 'O', 'O', 'O', 'O', 'O', 'O']\n"
     ]
    }
   ],
   "execution_count": 31
  },
  {
   "metadata": {},
   "cell_type": "markdown",
   "source": [
    "#### Questions\n",
    "\n",
    "1. Que représentent les trois paramètres de convert_tokens ? Définissez-les comme dans une docstring.\n",
    "   > - `ref_tokens`: liste des tokens de référence (i.e. la phrase complète du corpus CoNLL séparée en mots dans une liste)\n",
    "   > - `bert_result`: liste des résultats de la pipeline DistilBERT_NER au format mentionné précédemment\n",
    "   > - `word_ids`: liste des indices des tokens de référence dans le tokeniseur DistilBERT\n",
    "2. Que représentent les cinq lignes affichées par le code de test ?\n",
    "   > 1. Affichage 1: la phrase originale (tokens de référence)\n",
    "   > 2. Affichage 2: les tokens de la phrase originale après tokenisation par le modèle DistilBERT (on constate la longueur légeremment différente car le mot \"all-rounder\" a été séparé en plusieurs sous-tokens)\n",
    "   > 3. Affichage 3: les indices des tokens de référence dans le tokeniseur DistilBERT (on constate ici que le mot \"all-rounder\" est maintenu à l'indice 2 pour ses 4 sous-tokens \"all\", \"-\", \"round\", \"##er\")\n",
    "   > 4. Affichage 4: les résultats de la pipeline DistilBERT_NER sur la phrase originale (qui sera tokenisée par le même tokenizer)\n",
    "   > 5. Affichage 5: les résultats de la fonction convert_tokens sur la phrase originale (tokenisée par le même tokenizer), qui sont les tags de référence après conversion (i.e. le résultat final de la pipeline DistilBERT_NER) et incluent les tags \"O\" pour les tokens qui ne sont pas des entités nommées, les tokens décomposés par le tokenizer de BERT ont aussi été fusionnés et on retrouve la longueur de la phrase originale.\n",
    "3. Quels sont les deux problèmes traités par la fonction convert_tokens ?\n",
    "   > - La gestion des tokens qui sont décomposés en plusieurs sous-tokens connus par le vocabulaire du modèle\n",
    "   > - La reconstruction en un seul token en prenant le premier tag de la liste de ces tokens décomposés\n",
    "   > - L'inclusion des tags \"O\" pour les tokens qui ne sont pas donnés comme des entités nommées par la pipeline\n"
   ]
  },
  {
   "cell_type": "markdown",
   "metadata": {},
   "source": [
    "**5f.** Veuillez effectuer la reconnaissance des entités nommées avec la pipeline DistilBERT_NER et obtenir la liste finale de tags avec les noms convertis à ceux du jeu de référence grâce à `convert_bert_conll`."
   ]
  },
  {
   "cell_type": "code",
   "metadata": {
    "ExecuteTime": {
     "end_time": "2025-04-10T13:58:05.474458Z",
     "start_time": "2025-04-10T13:56:07.410740Z"
    }
   },
   "source": [
    "j = len(test_tokens)  # se limiter aux j premières phrases sur les 2970 (utile pendant le développement, mais les utiliser toutes à la fin)\n",
    "\n",
    "def handle_sentence(sentence):\n",
    "    tokenized_by_bert = tokenizer(sentence, add_special_tokens=False, is_split_into_words=True)\n",
    "    bert_result = nlp_bert(' '.join(sentence))\n",
    "    return convert_tokens(sentence, bert_result, tokenized_by_bert.word_ids())\n",
    "\n",
    "bert_tags = []\n",
    "for i in range(j):\n",
    "    res = handle_sentence(test_tokens[i])\n",
    "    bert_tags += res\n",
    "\n",
    "bert_tags_conv = [convert_bert_conll(tag) for tag in bert_tags]\n",
    "\n",
    "print(len(bert_tags_conv))"
   ],
   "outputs": [
    {
     "name": "stdout",
     "output_type": "stream",
     "text": [
      "50817\n"
     ]
    }
   ],
   "execution_count": 32
  },
  {
   "cell_type": "markdown",
   "metadata": {},
   "source": [
    "**5g.** En comparant `test_tags` avec `bert_tags_conv`, veuillez afficher le rapport d'évaluation de la classification et la matrice de confusion, pour tous les types de tags apparaissant dans les données de test."
   ]
  },
  {
   "cell_type": "code",
   "metadata": {
    "ExecuteTime": {
     "end_time": "2025-04-10T13:58:06.009374Z",
     "start_time": "2025-04-10T13:58:05.534880Z"
    }
   },
   "source": [
    "print(\"Rapport d'évaluation :\")\n",
    "print(classification_report(test_tags, bert_tags_conv, zero_division=0, digits=4))"
   ],
   "outputs": [
    {
     "name": "stdout",
     "output_type": "stream",
     "text": [
      "Rapport d'évaluation :\n",
      "              precision    recall  f1-score   support\n",
      "\n",
      "       I-LOC     0.9551    0.9556    0.9554      1938\n",
      "      I-MISC     0.9072    0.8917    0.8994      1228\n",
      "       I-ORG     0.9319    0.9279    0.9299      2080\n",
      "       I-PER     0.9787    0.9803    0.9795      3097\n",
      "           O     0.9968    0.9973    0.9971     42474\n",
      "\n",
      "    accuracy                         0.9893     50817\n",
      "   macro avg     0.9540    0.9506    0.9522     50817\n",
      "weighted avg     0.9893    0.9893    0.9893     50817\n",
      "\n"
     ]
    }
   ],
   "execution_count": 33
  },
  {
   "metadata": {
    "ExecuteTime": {
     "end_time": "2025-04-10T13:58:06.340056Z",
     "start_time": "2025-04-10T13:58:06.014405Z"
    }
   },
   "cell_type": "code",
   "source": [
    "print(\"Matrice de confusion :\")\n",
    "confusion = confusion_matrix(test_tags, bert_tags_conv, labels=unique_tags)\n",
    "print(confusion)\n",
    "plt.figure(figsize=(10, 7))\n",
    "disp = ConfusionMatrixDisplay(confusion, display_labels=unique_tags)\n",
    "disp.plot(cmap='Blues')\n",
    "plt.grid(False)\n",
    "plt.xlabel('Prédictions')\n",
    "plt.ylabel('Vérité terrain')\n",
    "plt.title('Matrice de confusion')\n",
    "plt.show()"
   ],
   "outputs": [
    {
     "name": "stdout",
     "output_type": "stream",
     "text": [
      "Matrice de confusion :\n",
      "[[ 1930    40    34    41    35]\n",
      " [   40 42361     8    47    18]\n",
      " [   19    23  3036     7    12]\n",
      " [   42    56    13  1095    22]\n",
      " [   40    18    11    17  1852]]\n"
     ]
    },
    {
     "data": {
      "text/plain": [
       "<Figure size 1000x700 with 0 Axes>"
      ]
     },
     "metadata": {},
     "output_type": "display_data"
    },
    {
     "data": {
      "text/plain": [
       "<Figure size 640x480 with 2 Axes>"
      ],
      "image/png": "[encoded data removed]"
     },
     "metadata": {},
     "output_type": "display_data"
    }
   ],
   "execution_count": 34
  },
  {
   "cell_type": "markdown",
   "metadata": {},
   "source": [
    "**5h.** Laquelle des deux stratégies de `tag_fusion` (premier tag ou tag majoritaire) conduit à de meilleurs résultats ?  Veuillez effectuer l'expérience et indiquer simplement les scores obtenus et votre conclusion dans le champ suivant.  Pour la conclusion finale, gardez 'first'."
   ]
  },
  {
   "metadata": {},
   "cell_type": "markdown",
   "source": [
    "#### Avec le premier tag\n",
    "```\n",
    "Rapport d'évaluation :\n",
    "              precision    recall  f1-score   support\n",
    "\n",
    "       I-LOC     0.9551    0.9556    0.9554      1938\n",
    "      I-MISC     0.9072    0.8917    0.8994      1228\n",
    "       I-ORG     0.9319    0.9279    0.9299      2080\n",
    "       I-PER     0.9787    0.9803    0.9795      3097\n",
    "           O     0.9968    0.9973    0.9971     42474\n",
    "\n",
    "    accuracy                         0.9893     50817\n",
    "   macro avg     0.9540    0.9506    0.9522     50817\n",
    "weighted avg     0.9893    0.9893    0.9893     50817\n",
    "```\n",
    "\n",
    "#### Avec le tag majoritaire\n",
    "```\n",
    "Rapport d'évaluation :\n",
    "              precision    recall  f1-score   support\n",
    "\n",
    "       I-LOC     0.9571    0.9561    0.9566      1938\n",
    "      I-MISC     0.9073    0.8925    0.8998      1228\n",
    "       I-ORG     0.9319    0.9274    0.9296      2080\n",
    "       I-PER     0.9784    0.9797    0.9790      3097\n",
    "           O     0.9968    0.9974    0.9971     42474\n",
    "\n",
    "    accuracy                         0.9894     50817\n",
    "   macro avg     0.9543    0.9506    0.9524     50817\n",
    "weighted avg     0.9893    0.9894    0.9893     50817\n",
    "```\n",
    "\n",
    "#### Conclusion\n",
    "\n",
    "Dans l'ensemble, les résultats sont pratiquement identiques et se constatent seulement si le nombre de décimales est augmenté. Cela se constate également en lisant la moyenne macro, qui mesure la différence entre les deux méthodes dans l'ordre du millième. On peut donc conclure que la méthode de la majorité est légèrement meilleure, mais que la différence est négligeable. Comme cette méthode requiert quand même l'utilisation d'un compteur pour déterminer la majorité, il est plus efficace d'utiliser la première méthode qui est plus rapide et ne nécessite pas de calcul supplémentaire."
   ]
  },
  {
   "cell_type": "markdown",
   "metadata": {},
   "source": [
    "## 6. Discussion finale\n",
    "\n",
    "Veuillez comparer les scores des quatre modèles testés, en termes de **macro avg**.  Pourquoi ce score est-il le plus informatif ?  Veuillez indiquer également la taille des modèles spaCy évalués."
   ]
  },
  {
   "metadata": {},
   "cell_type": "markdown",
   "source": [
    "|               | NLTK   | spaCy sm | spaCy LG | DistilBERT |\n",
    "|---------------|--------|----------|----------|------------|\n",
    "| **macro avg** | 0.5553 | 0.7421   | 0.7926   | 0.9522     |\n",
    "| **taille**    |        | 12 Mo    | 382 Mo   |            |\n",
    "\n",
    "> Le macro avg est une moyenne qui n'est pas pondérée par le nombre d'éléments de chaque classe. Comme notre dataset contient 42474/50817 tokens qui ne font pas partie d'entités nommées, cela fait 83.6% de tokens qui sont des \"O\". Si nous utilisons la moyenne pondérée, le score sera biaisé par cette classe.\n",
    ">\n",
    "> Le score macro avg est donc plus informatif car il permet de voir la performance du modèle sur chaque classe indépendamment de la taille de celle-ci. On peut aussi voir que le modèle DistilBERT est bien meilleur que les autres modèles, et que le modèle spaCy lg est meilleur que le modèle spaCy sm, mais pas de beaucoup.\n",
    ">\n",
    "> NLTK est le modèle qui performe le moins bien, en partie parce que cette librairie utilise un modèle de machine learning traditionnel (maxent) qui est moins performant que les modèles basés sur des réseaux de neurones. De plus, il n'y a pas de pré-entrainement sur un corpus spécifique pour le NER. Le corpus utilisé pour l'entrainement est aussi plus petit et arrivera moins à généraliser sur des données inconnues.\n",
    ">\n",
    "> spaCy performe mieux, avec une moyenne à 0.74 pour le modèle sm et 0.79 pour le modèle lg. Ces scores sont légèrement plus bas que ceux spécifiés dans la documentation (respectivement, 0.84 et 0.86). À nouveau, cette différence est sûrement dûe à la différence des corpus utilisés pour l'entrainement. On constate également que le modèle lg, qui est 30 fois plus lourd que le modèle sm, n'apporte pas une grande différence de performance.\n",
    ">\n",
    "> DistilBERT est le modèle le plus performant, avec un score de 0.95. Ce modèle est basé sur un transformer et a été pré-entrainé sur le même corpus que nous avons utilisé pour comparer les résultats entre tous les modèles (CoNLL-03). L'utilisation d'un réseau de neurones permet au modèle d'apprendre des relations entre les mots et de mieux généraliser sur des données inconnues. On peut quand même estimer qu'une partie des performances constatée est dûe à l'utilisation d'un corpus lors de l'entrainement qui est contextuellement proche de celui utilisé dans nos évaluations et donc émettre quelques réserves sur la performance de généralisation du modèle.\n"
   ]
  },
  {
   "cell_type": "markdown",
   "metadata": {},
   "source": [
    "**Fin du Labo.** Veuillez nettoyer ce notebook en gardant seulement les résultats désirés, l'enregistrer, et le soumettre comme devoir sur Cyberlearn."
   ]
  }
 ],
 "metadata": {
  "kernelspec": {
   "display_name": "Python 3 (ipykernel)",
   "language": "python",
   "name": "python3"
  },
  "language_info": {
   "codemirror_mode": {
    "name": "ipython",
    "version": 3
   },
   "file_extension": ".py",
   "mimetype": "text/x-python",
   "name": "python",
   "nbconvert_exporter": "python",
   "pygments_lexer": "ipython3",
   "version": "3.10.13"
  }
 },
 "nbformat": 4,
 "nbformat_minor": 4
}
